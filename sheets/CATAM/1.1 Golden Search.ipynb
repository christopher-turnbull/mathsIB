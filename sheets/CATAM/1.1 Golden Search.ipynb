{
 "cells": [
  {
   "cell_type": "markdown",
   "metadata": {},
   "source": [
    "# 1.1 Golden Section Search for the Mode of a Function"
   ]
  },
  {
   "cell_type": "markdown",
   "metadata": {},
   "source": [
    "Notes:\n",
    "- read manual\n",
    "- graph sizes (think it's okay tho)\n",
    "- 4 ?\n",
    "- 5 again I think this is about differentiability (whether it is smooth near the mode or not) think about different kinds of modular functions, maybe not continuous too. what about functions like 1/x ?"
   ]
  },
  {
   "cell_type": "markdown",
   "metadata": {},
   "source": [
    "### Question 1"
   ]
  },
  {
   "cell_type": "markdown",
   "metadata": {},
   "source": [
    "Let $f$ be unimodal on $[a, b]$ with a maximum at some point undetermined point in $[a, b]$. Choose the points $x, y$ with $a < x < y < b$, such that\n",
    "\n",
    "$$ (y − a)/(b − a) = (\\sqrt{5} − 1)/2  \\qquad (1) $$\n",
    "\n",
    "and\n",
    "\n",
    "$$ b - x = y - a  \\qquad (2) $$\n",
    "\n",
    "That is, the interval is divided from each end in *golden section*."
   ]
  },
  {
   "cell_type": "markdown",
   "metadata": {},
   "source": [
    "(i) Suppose that $f(x) \\geq f(y)$, ie. we deduce that the mode lies in the subinterval $[a,y] $. \n",
    "\n",
    "Claim: The interval $[a,y] $ is divided in golden section from $y$ by the point $x$ (at which we already have a function evaluation).\n",
    "\n",
    "Proof:\n",
    "\n",
    "\n",
    "$$ \n",
    "\\begin{align}\n",
    "\\frac{x-a}{y-a} & = \\frac{(b-a) - (b - x)}{y-a} \\\\\n",
    "& =  \\frac{b-a}{y-a} - 1 \\qquad (\\text{using } b - x = y - a) \\\\\n",
    "& = \\frac{2}{\\sqrt{5}-1} - 1\\\\\n",
    "& = \\frac{\\sqrt{5} - 1}{2}\n",
    "\\end{align}\n",
    "$$\n",
    "\n",
    "\n",
    "(ii) Simiarly, if  $f(y) \\geq f(x)$, we deduce the mode lies in $[x,b]$, which is divided in golden section from $x$ by $y$, ie.\n",
    "\n",
    "$$ \n",
    "\\begin{align}\n",
    "\\frac{b-y}{b-x} & = \\frac{\\sqrt{5} - 1}{2}\n",
    "\\end{align}\n",
    "$$\n",
    "\n"
   ]
  },
  {
   "cell_type": "markdown",
   "metadata": {},
   "source": [
    "### Programming Task"
   ]
  },
  {
   "cell_type": "markdown",
   "metadata": {},
   "source": [
    "The program to implement the golden search for unimodal functions with a maximum is shown at the end of the notebook, labelled\n",
    "\n",
    "\n",
    "`(i) golden_search(f,a,b,tol=1e-5)`"
   ]
  },
  {
   "cell_type": "markdown",
   "metadata": {},
   "source": [
    "This program requires the input of the function `f`, intervals boundaries `a` and `b`, and the required tolerance `tol`, where the iteraction will be terminated once the mode is guaranteed to lie in an interval of width less than `tol`. (The default value is $1 \\times 10^{-5}$).\n",
    "\n",
    "The program outputs \n",
    "- the value of the mode \n",
    "- the accuracy\n",
    "- the number of interations performed. \n",
    "\n",
    "Note that if the function is unimodal with a minimum on $[a,b]$, run the program on $-f$.\n",
    "\n",
    "(i) Note, as illustrated here, if $f(x) = f(y)$ at one or more steps (thus the mode lies between $x$ and $y$) the search automatically takes the (higher) $[y,b]$ subinterval as the new interval. \n",
    "\n",
    "For example, taking the constant function $f(x) = 1$ in the range $x \\in [0,1]$, our program iteratively chooses the higher interval\n",
    "\n"
   ]
  },
  {
   "cell_type": "code",
   "execution_count": 77,
   "metadata": {
    "collapsed": false
   },
   "outputs": [
    {
     "name": "stdout",
     "output_type": "stream",
     "text": [
      "Accuracy of 1e-05 reached after 24 iterations\n",
      "Mode: 1, located at 0.9999951775634202\n"
     ]
    },
    {
     "data": {
      "text/plain": [
       "1"
      ]
     },
     "execution_count": 77,
     "metadata": {},
     "output_type": "execute_result"
    }
   ],
   "source": [
    "def f(x):\n",
    "    return 1\n",
    "golden_search(f,0,1)"
   ]
  },
  {
   "cell_type": "markdown",
   "metadata": {},
   "source": [
    "Therefore concluding the mode is within `tol` of $x=1$. However, we are only applying our program to unimodal functions, so we do not have to worry about this."
   ]
  },
  {
   "cell_type": "markdown",
   "metadata": {},
   "source": [
    "(ii) It is preferable to use equation (2) to locate the point for the second function evaluation. There are less operations than if we used equation (1), (specifically no multiplication, as this is more costly than addition) therefore we reduce the computational cost with a high number of iterations. "
   ]
  },
  {
   "cell_type": "markdown",
   "metadata": {},
   "source": [
    "(iii) As illustrated below, if the mode were at an endpoint of the original interval $[a,b]$, eg. at $a$, the program functions as normal, choosing a succession of subintervals $[a,b_i]$ until we are within the required tolerance. The end result will be within `tol` of the true mode.\n",
    "\n",
    "Taking $f(x) = 4 - x$ in the range $x \\in [0,4]$, which has mode at $x=0$,"
   ]
  },
  {
   "cell_type": "code",
   "execution_count": 78,
   "metadata": {
    "collapsed": false
   },
   "outputs": [
    {
     "name": "stdout",
     "output_type": "stream",
     "text": [
      "Accuracy of 1e-06 reached after 32 iterations\n",
      "Mode: 3.999999589630452, located at 4.1036954812057047e-07\n"
     ]
    },
    {
     "data": {
      "text/plain": [
       "3.9999995896304519"
      ]
     },
     "execution_count": 78,
     "metadata": {},
     "output_type": "execute_result"
    }
   ],
   "source": [
    "def f(x):\n",
    "    return 4 - x\n",
    "golden_search(f,0,4,tol=1e-6)"
   ]
  },
  {
   "cell_type": "markdown",
   "metadata": {},
   "source": [
    "### Question 2"
   ]
  },
  {
   "cell_type": "markdown",
   "metadata": {},
   "source": [
    "To check our program, we test for the position of the mode in $[0,1]$ of the function $  f(x) = 1 + x + x^2 - 4x^4 $.\n",
    "\n",
    "I will plot the graph in the range $ x \\in [0,1]$. "
   ]
  },
  {
   "cell_type": "code",
   "execution_count": 79,
   "metadata": {
    "collapsed": false
   },
   "outputs": [
    {
     "data": {
      "text/plain": [
       "<matplotlib.text.Text at 0x24de56bcb70>"
      ]
     },
     "execution_count": 79,
     "metadata": {},
     "output_type": "execute_result"
    },
    {
     "data": {
      "image/png": "[encoded data removed]",
      "text/plain": [
       "<matplotlib.figure.Figure at 0x24de563ba20>"
      ]
     },
     "metadata": {},
     "output_type": "display_data"
    }
   ],
   "source": [
    "def f(x):\n",
    "    return 1 + x + x**2 - 4*x**4\n",
    "x = np.linspace(0,1,100)\n",
    "plt.plot(x,f(x))\n",
    "plt.xlabel('$x$', fontsize = 16)\n",
    "plt.ylabel('$f(x)$', fontsize = 16)"
   ]
  },
  {
   "cell_type": "markdown",
   "metadata": {},
   "source": [
    "Figure 2.1: Plot of $  f(x) = 1 + x + x^2 - 4x^4 $ for $ x \\in [0,1]$"
   ]
  },
  {
   "cell_type": "markdown",
   "metadata": {},
   "source": [
    "From our graph we can see the mode lies at approximately $x = 0.5$. Now, implementing our `golden_search` for this function,"
   ]
  },
  {
   "cell_type": "code",
   "execution_count": 80,
   "metadata": {
    "collapsed": false,
    "scrolled": false
   },
   "outputs": [
    {
     "name": "stdout",
     "output_type": "stream",
     "text": [
      "Accuracy of 1e-05 reached after 24 iterations\n",
      "Mode: 1.5, located at 0.5\n"
     ]
    },
    {
     "data": {
      "text/plain": [
       "1.5"
      ]
     },
     "execution_count": 80,
     "metadata": {},
     "output_type": "execute_result"
    }
   ],
   "source": [
    "golden_search(f,0,1)"
   ]
  },
  {
   "cell_type": "markdown",
   "metadata": {},
   "source": [
    "Thus we can that after 24 iterations, our program has located the mode at $x=0.5$, to within an interval of width $1 \\times 10^{-5} $ "
   ]
  },
  {
   "cell_type": "markdown",
   "metadata": {},
   "source": [
    "### Question 3"
   ]
  },
  {
   "cell_type": "markdown",
   "metadata": {},
   "source": [
    "Consider the more intuitively obvious `tenary_search` algorithm that splits the interval into 'equal thirds', ie. $x = \\frac{1}{3}(b-a)$, $y = \\frac{2}{3}(b-a)$.\n",
    "\n",
    "\n",
    "The most time consuming part of any algorithm in a real-life problem will be the (perhaps costly) explicit evaluation of the function in question, at the points $x$ and $y$. Some examples of real life applications can be seen in [1], [2].\n",
    "\n"
   ]
  },
  {
   "cell_type": "markdown",
   "metadata": {},
   "source": [
    "The advantage of the golden section search is that with every iterative step (except the first), either $f(x)$ or $f(y)$ would have been evaluated previously, and this result can be reused, avoiding the (perhaps costly) evaluation of the function at this point."
   ]
  },
  {
   "cell_type": "markdown",
   "metadata": {},
   "source": [
    "Suppose evaluating the function at a point takes $f_k$ numerical operations and further suppose are program terminates after $n$ iterations. Assuming the evalutation of $x$ and $y$ are inexpensive compared to the evaluations of the function, we see that the ternary search algorithm takes approxamitely $n f_k$ more numerical operations than  (ie. double that of) the golden search algorithm. "
   ]
  },
  {
   "cell_type": "markdown",
   "metadata": {},
   "source": [
    "As the number of operations $f_k$ grows, and as the number of iterations increase, this difference becomes more pronounced."
   ]
  },
  {
   "cell_type": "markdown",
   "metadata": {
    "collapsed": false
   },
   "source": [
    "### Question 4"
   ]
  },
  {
   "cell_type": "markdown",
   "metadata": {},
   "source": [
    "The properties of $f$ that determine the numerical accuracy attainable are to do with smoothness. Smooth functions have a first derivative close to zero (ie. are flat) near the minimum, so we cannot expect to great an accuracy in calculating the mode. \n",
    "\n",
    "As ilustrated by the graphs below, if the mode is located at an endpoint, or at a point where the function is not smooth eg. $ f(x) = -|x - 1| + 1 $ with $x \\in [0,2]$, we can expect to calculate the mode at $x=1$ with greater accuracy than we would with $g(x) = -(x-1)^2 + 1$  "
   ]
  },
  {
   "cell_type": "code",
   "execution_count": 16,
   "metadata": {
    "collapsed": true
   },
   "outputs": [],
   "source": [
    "x = np.linspace(0,2,100)\n",
    "def f(x):\n",
    "    return - np.abs(x - 1) + 1\n",
    "def g(x):\n",
    "    return -(x-1)**2 + 1"
   ]
  },
  {
   "cell_type": "code",
   "execution_count": 25,
   "metadata": {
    "collapsed": false,
    "scrolled": true
   },
   "outputs": [
    {
     "data": {
      "text/plain": [
       "<matplotlib.text.Text at 0x262f7152978>"
      ]
     },
     "execution_count": 25,
     "metadata": {},
     "output_type": "execute_result"
    },
    {
     "data": {
      "image/png": "[encoded data removed]",
      "text/plain": [
       "<matplotlib.figure.Figure at 0x262f70b00b8>"
      ]
     },
     "metadata": {},
     "output_type": "display_data"
    }
   ],
   "source": [
    "#plt.figure(1)\n",
    "plt.plot(x, f(x), label='$y = f(x)$')\n",
    "plt.plot(x, g(x),label='$y = g(x)$')\n",
    "plt.legend()\n",
    "plt.xlabel('$x$', fontsize = 16)\n",
    "plt.ylabel('$y$', fontsize = 16)"
   ]
  },
  {
   "cell_type": "markdown",
   "metadata": {},
   "source": [
    "Consider also the case where the mode of the function lies outside the maximum range that the computer lanugage can compute. "
   ]
  },
  {
   "cell_type": "code",
   "execution_count": 33,
   "metadata": {
    "collapsed": false
   },
   "outputs": [
    {
     "data": {
      "text/plain": [
       "9223372036854775807"
      ]
     },
     "execution_count": 33,
     "metadata": {},
     "output_type": "execute_result"
    }
   ],
   "source": [
    "sys.maxsize"
   ]
  },
  {
   "cell_type": "markdown",
   "metadata": {},
   "source": [
    "which is exactly $2^{63} - 1$"
   ]
  },
  {
   "cell_type": "code",
   "execution_count": null,
   "metadata": {
    "collapsed": false
   },
   "outputs": [],
   "source": [
    "sys.maxsize**sys.maxsize"
   ]
  },
  {
   "cell_type": "markdown",
   "metadata": {},
   "source": [
    "### Question 5"
   ]
  },
  {
   "cell_type": "markdown",
   "metadata": {},
   "source": [
    "If the mode is located at $ x = x_{0} $, then performing a Taylor expansion about $ x_{0} $, gives\n",
    "\n",
    "$$  f(x) = f(x_{0}) +(x - x_0)f'(x_0) +  \\frac{(x-x_{0})^{2}}{2!} f''(x_{0}) + o((x-x_0)^2)$$\n",
    "\n",
    "Suppose at this point, the mode is a local maximum (or minimum), so $f'(x_0) = 0$. Then, assuming $o((x-x_0)^2)$ terms are small,\n",
    "\n",
    "$$ \\left|   f(x) - f(x_{0})  \\right| \\approx  \\frac{(x-x_{0})^{2}}{2!}   \\left| f''(x_{0}) \\right|  $$\n",
    "\n",
    "ie. the size of the error in $f(x_0)$ is approximately proprotional to the size of the squared error in $x_0$. \n",
    "\n",
    "\n",
    "\n",
    "However it could be the case that $x_0$ is not a local maximum (or minimum) eg. the mode was found at either endpoint $a$ or $b$. Again ignoring $o((x-x_0)^2)$ terms, \n",
    "\n",
    "$$ (   f(x) - f(x_{0}) )  \\approx  (x-x_0) \\left( f'(x_0) +  \\frac{(x-x_{0})}{2!}f''(x_0) \\right)   $$\n",
    "\n",
    "ie. the size of the error in $f(x_0)$ is approximately proprotional to the size of the error in $x_0$."
   ]
  },
  {
   "cell_type": "markdown",
   "metadata": {},
   "source": [
    "## Optimization of turntable and tone-arm design\n"
   ]
  },
  {
   "cell_type": "markdown",
   "metadata": {},
   "source": [
    "### Programming Task"
   ]
  },
  {
   "cell_type": "markdown",
   "metadata": {},
   "source": [
    "Consider the triangle $PQS$ as $x$ decreases from $R$ to $r$. \n",
    "\n",
    "Note $S\\hat{P}Q = 90 - \\phi$, and by application of the cosine rule we have \n",
    "\n",
    "$$\n",
    "\\begin{align}\n",
    "d^{2} & = l^{2} + x^{2} - 2 l x \\cos(\\pi/2 - \\phi)  \\\\\n",
    "\\end{align}\n",
    "$$\n",
    "\n",
    "\n",
    "which can be rearranged to give $\\phi$ as a function of $x$ and $d$:\n",
    "\n",
    "$$ \\phi(x,d)  = \\arcsin \\left( \\frac{l^{2} + x^{2} - d^{2}}{2lx} \\right)  \\qquad (5.1)$$"
   ]
  },
  {
   "cell_type": "markdown",
   "metadata": {},
   "source": [
    "This function is found at the end of the notebook, labelled \n",
    "\n",
    "`(i) phi(d,min_search = False ) `"
   ]
  },
  {
   "cell_type": "markdown",
   "metadata": {},
   "source": [
    "To chose the value of $d$ and $\\theta$ to minimize the maximum absolute value of $(\\phi - \\theta)$, we consider"
   ]
  },
  {
   "cell_type": "markdown",
   "metadata": {},
   "source": [
    "$$ \\Delta \\phi = \\max \\phi(x) - \\min \\phi(x) \\qquad (5.2)$$  "
   ]
  },
  {
   "cell_type": "markdown",
   "metadata": {},
   "source": [
    "for a fixed value of $d$, where $ \\max \\phi(x) $ and $ \\min \\phi(x) $ are found by applying the golden section search program to (5.1) (for a fixed value of $d$). Note we choose the interval for $x$ to be $[r,R]$. This function is found at the end of the notebook, labelled"
   ]
  },
  {
   "cell_type": "markdown",
   "metadata": {},
   "source": [
    "`(ii) delta_phi(d) `"
   ]
  },
  {
   "cell_type": "markdown",
   "metadata": {},
   "source": [
    "Then we use the Golden Section Search again to find the minimum of $\\left| \\Delta \\phi \\right|$ as a function of $d$, where we have chosen the interval for $d$ to be $[17.5,30.5]$, as discussed in Question 6(i)."
   ]
  },
  {
   "cell_type": "code",
   "execution_count": 103,
   "metadata": {
    "collapsed": false
   },
   "outputs": [
    {
     "name": "stdout",
     "output_type": "stream",
     "text": [
      "Accuracy of 1e-05 reached after 30 iterations\n",
      "Mode: -0.03431729657792165, located at 21.229577210264125\n"
     ]
    },
    {
     "data": {
      "text/plain": [
       "-0.034317296577921652"
      ]
     },
     "execution_count": 103,
     "metadata": {},
     "output_type": "execute_result"
    }
   ],
   "source": [
    "golden_search(delta_phi,17.5,30.5)"
   ]
  },
  {
   "cell_type": "markdown",
   "metadata": {},
   "source": [
    "We find that $d \\approx 21.229577$ minimizes $\\Delta \\phi$. "
   ]
  },
  {
   "cell_type": "markdown",
   "metadata": {},
   "source": [
    "With this value of $d$, we retreive maximum and minimum values of $\\phi(x)$ for $x \\in [r,R]$"
   ]
  },
  {
   "cell_type": "code",
   "execution_count": 111,
   "metadata": {
    "collapsed": false,
    "scrolled": true
   },
   "outputs": [
    {
     "name": "stdout",
     "output_type": "stream",
     "text": [
      "Accuracy of 1e-05 reached after 29 iterations\n",
      "Mode: 0.5195515432384586, located at 15.99999586866894\n",
      "Accuracy of 1e-05 reached after 29 iterations\n",
      "Mode: -0.4852342466673103, located at 11.193973256972747\n"
     ]
    }
   ],
   "source": [
    "a = golden_search(phi(21.22957721,min_search=False),r,R)\n",
    "b = golden_search(phi(21.22957721,min_search=True),r,R)"
   ]
  },
  {
   "cell_type": "markdown",
   "metadata": {},
   "source": [
    "So we set $\\theta$ to be the average of these values, ie."
   ]
  },
  {
   "cell_type": "code",
   "execution_count": 113,
   "metadata": {
    "collapsed": false
   },
   "outputs": [
    {
     "data": {
      "text/plain": [
       "0.50239289495288442"
      ]
     },
     "execution_count": 113,
     "metadata": {},
     "output_type": "execute_result"
    }
   ],
   "source": [
    "theta = (a - b)/2\n",
    "theta"
   ]
  },
  {
   "cell_type": "markdown",
   "metadata": {},
   "source": [
    "Thus givining the optimal value of the toe in angle."
   ]
  },
  {
   "cell_type": "markdown",
   "metadata": {},
   "source": [
    "### Question 6"
   ]
  },
  {
   "cell_type": "markdown",
   "metadata": {},
   "source": [
    "(i) $x$ begins with initial value $R = 16$, and when the record ends, has value $r=6.5$, so we choose the range for the inner iteration to be $[6.5,16]$.\n",
    "\n",
    "When $x = r$, applying the triangle inequality to $PQS$ (twice) gives\n",
    "\n",
    "$$ d + 6.5 \\geq 24, \\qquad \\qquad  6.5 + 24 \\geq d $$\n",
    "\n",
    "Thus we choose the range for the outer iteration to be $[17.5,30.5]$.\n",
    "\n"
   ]
  },
  {
   "cell_type": "markdown",
   "metadata": {},
   "source": [
    "(ii) For ilustration purposes, and to check that our functions are indeed unimodal, we plot them"
   ]
  },
  {
   "cell_type": "code",
   "execution_count": 97,
   "metadata": {
    "collapsed": false,
    "scrolled": false
   },
   "outputs": [
    {
     "data": {
      "text/plain": [
       "<matplotlib.text.Text at 0x24de5428080>"
      ]
     },
     "execution_count": 97,
     "metadata": {},
     "output_type": "execute_result"
    },
    {
     "data": {
      "image/png": "[encoded data removed]",
      "text/plain": [
       "<matplotlib.figure.Figure at 0x24de53ecba8>"
      ]
     },
     "metadata": {},
     "output_type": "display_data"
    }
   ],
   "source": [
    "dval = np.linspace(17.5,30.5,100)\n",
    "fd = list(map(lambda x: delta_phi(x) , dval))\n",
    "\n",
    "plt.plot(dval,fd)\n",
    "plt.xlabel('$d$', fontsize = 16)\n",
    "plt.ylabel('$- |\\max \\phi(x) - \\min \\phi(x)$|', fontsize = 16)"
   ]
  },
  {
   "cell_type": "code",
   "execution_count": 98,
   "metadata": {
    "collapsed": false
   },
   "outputs": [
    {
     "data": {
      "text/plain": [
       "<matplotlib.text.Text at 0x24de68c62e8>"
      ]
     },
     "execution_count": 98,
     "metadata": {},
     "output_type": "execute_result"
    },
    {
     "data": {
      "image/png": "[encoded data removed]",
      "text/plain": [
       "<matplotlib.figure.Figure at 0x24de68a9ac8>"
      ]
     },
     "metadata": {},
     "output_type": "display_data"
    }
   ],
   "source": [
    "phi_opt = phi(d = d_0)\n",
    "x = np.linspace(r,R,100)\n",
    "plt.plot(x,phi_opt(x))\n",
    "plt.xlabel('$x$', fontsize = 16)\n",
    "plt.ylabel('$\\phi(x)$', fontsize = 16)"
   ]
  },
  {
   "cell_type": "code",
   "execution_count": 99,
   "metadata": {
    "collapsed": false,
    "scrolled": false
   },
   "outputs": [
    {
     "name": "stdout",
     "output_type": "stream",
     "text": [
      "Accuracy of 1e-05 reached after 29 iterations\n",
      "Mode: 0.5669192904247764, located at 6.50000413133106\n"
     ]
    },
    {
     "data": {
      "text/plain": [
       "0.5669192904247764"
      ]
     },
     "execution_count": 99,
     "metadata": {},
     "output_type": "execute_result"
    }
   ],
   "source": [
    "golden_search(phi_opt,6.5,16)"
   ]
  },
  {
   "cell_type": "markdown",
   "metadata": {},
   "source": [
    "(iii) Running our functions to find the value of $d$ to one decimal place shows we perform 11 outer iterations"
   ]
  },
  {
   "cell_type": "code",
   "execution_count": 68,
   "metadata": {
    "collapsed": false
   },
   "outputs": [
    {
     "name": "stdout",
     "output_type": "stream",
     "text": [
      "Accuracy of 0.1 reached after 11 iterations\n",
      "Mode:\n"
     ]
    },
    {
     "data": {
      "text/plain": [
       "21.260686385694086"
      ]
     },
     "execution_count": 68,
     "metadata": {},
     "output_type": "execute_result"
    }
   ],
   "source": [
    "golden_search(delta_phi,17.5,30.5,tol=0.1)"
   ]
  },
  {
   "cell_type": "markdown",
   "metadata": {},
   "source": [
    "For each one of these outer iterations, we run several inner iterations to calculate $\\max \\phi(x)$ - $\\min \\phi(x)$ for the fixed value of $d$. Specifically, the number of iterations we run to find $\\max \\phi(x)$ for $d=20$ with an accuracy of `1e-5` is 29"
   ]
  },
  {
   "cell_type": "code",
   "execution_count": 74,
   "metadata": {
    "collapsed": false
   },
   "outputs": [
    {
     "name": "stdout",
     "output_type": "stream",
     "text": [
      "Accuracy of 1e-05 reached after 29 iterations\n",
      "Mode:\n"
     ]
    },
    {
     "data": {
      "text/plain": [
       "13.266498617053536"
      ]
     },
     "execution_count": 74,
     "metadata": {},
     "output_type": "execute_result"
    }
   ],
   "source": [
    "golden_search(phi(20,min_search=True),6.5,16)"
   ]
  },
  {
   "cell_type": "markdown",
   "metadata": {},
   "source": [
    "## Programs"
   ]
  },
  {
   "cell_type": "code",
   "execution_count": 1,
   "metadata": {
    "collapsed": true
   },
   "outputs": [],
   "source": [
    "import numpy as np\n",
    "import pandas as pd\n",
    "import matplotlib.pyplot as plt\n",
    "import sys\n",
    "from pylab import rcParams\n",
    "rcParams['figure.figsize'] = 16, 8\n",
    "%matplotlib inline"
   ]
  },
  {
   "cell_type": "markdown",
   "metadata": {},
   "source": [
    "### The Golden Search Method\n"
   ]
  },
  {
   "cell_type": "markdown",
   "metadata": {},
   "source": [
    "`(i) golden_search(f,a,b,tol=1e-5)`"
   ]
  },
  {
   "cell_type": "code",
   "execution_count": 100,
   "metadata": {
    "collapsed": false
   },
   "outputs": [],
   "source": [
    "def golden_search(f,a,b,tol=1e-5, suppress = False):\n",
    "    ''' The mode lies between x and y, \n",
    "    iterate until we have calculated the mode to required tolerance \n",
    "    N records the number of iterations performed.\n",
    "    If searching for a minimum, this functions returns the negative of the mode'''\n",
    "\n",
    "    phi = (np.sqrt(5) - 1)/2\n",
    "\n",
    "    y = a + phi * (b - a)\n",
    "    x = b - phi * (b - a)\n",
    "    \n",
    "    top = f(y)\n",
    "    bottom = f(x)\n",
    "\n",
    "    N = 0\n",
    "    while b - a > tol:\n",
    "        N = N + 1\n",
    "        #give new values of the endpoints a and b\n",
    "        \n",
    "        if bottom > top:\n",
    "            b = y\n",
    "        else:\n",
    "            a = x\n",
    "        #only need to calculate new x or y,\n",
    "        #reuse last point, saving computation time.\n",
    "        if bottom > top:\n",
    "            y = x\n",
    "            x = a + (b - y)\n",
    "        else:\n",
    "            x = y\n",
    "            y = b - (x - a)\n",
    "        \n",
    "        #similarly, only need to evaluate f once, reuse the last evaluation\n",
    "        #thus saving computation time, as explicit evaluation of f could be costly\n",
    "        if bottom > top:\n",
    "            top = bottom\n",
    "            bottom = f(x)\n",
    "        else:\n",
    "            bottom = top\n",
    "            top = f(y)\n",
    "        \n",
    "     \n",
    "    #print('Mode = {}.'.format((a+b)/2))\n",
    "    if suppress == False:\n",
    "        print('Accuracy of {} reached after {} iterations'.format(tol,N))\n",
    "        print('Mode: {}, located at {}'.format(f((a+b)/2),(a+b)/2))\n",
    "    return f((a+b)/2)\n",
    "    \n",
    "             "
   ]
  },
  {
   "cell_type": "markdown",
   "metadata": {},
   "source": [
    "## Optimization of turntable and tone-arm design\n"
   ]
  },
  {
   "cell_type": "code",
   "execution_count": 83,
   "metadata": {
    "collapsed": true
   },
   "outputs": [],
   "source": [
    "l = 24\n",
    "r = 6.5\n",
    "R = 16\n",
    "\n",
    "\n",
    "def phi(d,min_search = False ):\n",
    "    '''Helper function for (ii). \n",
    "    Returns the function phi(x) for a fixed value of d.\n",
    "    If min search = True, returns -phi(x).'''\n",
    "    def phi_x(x):\n",
    "        arg = (l**2 + x**2 - d**2)/(2*l*x)\n",
    "        if min_search == False:\n",
    "            return np.arcsin(arg)\n",
    "        else:\n",
    "            return - np.arcsin(arg)\n",
    "    return phi_x"
   ]
  },
  {
   "cell_type": "markdown",
   "metadata": {},
   "source": [
    "`(ii) delta_phi(d) `"
   ]
  },
  {
   "cell_type": "code",
   "execution_count": 91,
   "metadata": {
    "collapsed": false
   },
   "outputs": [
    {
     "data": {
      "text/plain": [
       "[<matplotlib.lines.Line2D at 0x24de530d0b8>]"
      ]
     },
     "execution_count": 91,
     "metadata": {},
     "output_type": "execute_result"
    },
    {
     "data": {
      "image/png": "[encoded data removed]",
      "text/plain": [
       "<matplotlib.figure.Figure at 0x24de684f588>"
      ]
     },
     "metadata": {},
     "output_type": "display_data"
    }
   ],
   "source": [
    "x = np.linspace(r,R,100)\n",
    "plt.plot(x,phi(20)(x))"
   ]
  },
  {
   "cell_type": "code",
   "execution_count": 93,
   "metadata": {
    "collapsed": false,
    "scrolled": false
   },
   "outputs": [
    {
     "name": "stdout",
     "output_type": "stream",
     "text": [
      "Accuracy of 1e-05 reached after 29 iterations\n",
      "Mode: -0.5856855434571515, located at 13.266498617053536\n"
     ]
    },
    {
     "data": {
      "text/plain": [
       "-0.58568554345715151"
      ]
     },
     "execution_count": 93,
     "metadata": {},
     "output_type": "execute_result"
    }
   ],
   "source": [
    "golden_search(phi(20,min_search=True),r,R)"
   ]
  },
  {
   "cell_type": "code",
   "execution_count": 94,
   "metadata": {
    "collapsed": true
   },
   "outputs": [],
   "source": [
    "def delta_phi(d):\n",
    "    '''The inner iteration finds the minimum and maximum of phi for a fixed d'''\n",
    "    maxphi = golden_search(phi(d,min_search=False),r,R, tol = 1e-5, suppress = True)\n",
    "    minphi = golden_search(phi(d,min_search=True),r,R, tol = 1e-5, suppress = True)\n",
    "    #note minphi is negative\n",
    "    return  - np.abs(maxphi + minphi)"
   ]
  },
  {
   "cell_type": "markdown",
   "metadata": {},
   "source": [
    "## References"
   ]
  },
  {
   "cell_type": "markdown",
   "metadata": {},
   "source": [
    "[1] Rolz, C., Mata-Alvarez, J., 1992.<a href='https://link.springer.com/content/pdf/10.1007%2FBF01198762.pdf'> Use of the Golden Section search method to estimate the parameters of the Monod model employing spread-sheets </a>  *World Journal of Microbiology and Biotechnology 8*, pp. 439-445\n",
    "\n",
    "[2] Tsai, C., Kolibal, J., Li, M., 2010. <a href='http://www.sciencedirect.com/science/article/pii/S0955799710000652'> The Golden Section search algorithm for finding a good shape parameter for meshless collocation methods </a> *Engineering Analysis with Boundary Elements 34*(8), pp. 738-746\n",
    "\n"
   ]
  }
 ],
 "metadata": {
  "anaconda-cloud": {},
  "kernelspec": {
   "display_name": "Python [conda root]",
   "language": "python",
   "name": "conda-root-py"
  },
  "language_info": {
   "codemirror_mode": {
    "name": "ipython",
    "version": 3
   },
   "file_extension": ".py",
   "mimetype": "text/x-python",
   "name": "python",
   "nbconvert_exporter": "python",
   "pygments_lexer": "ipython3",
   "version": "3.5.2"
  }
 },
 "nbformat": 4,
 "nbformat_minor": 2
}
