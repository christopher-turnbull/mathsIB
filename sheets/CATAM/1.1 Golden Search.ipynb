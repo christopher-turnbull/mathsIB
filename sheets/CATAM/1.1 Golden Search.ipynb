{
 "cells": [
  {
   "cell_type": "markdown",
   "metadata": {},
   "source": [
    "# 1.1 Golden Section Search for the Mode of a Function"
   ]
  },
  {
   "cell_type": "markdown",
   "metadata": {},
   "source": [
    "## Question 1"
   ]
  },
  {
   "cell_type": "markdown",
   "metadata": {},
   "source": [
    "Let $f$ be unimodal on $[a, b]$ with a maximum at some point undetermined point in $[a, b]$. Choose the points $x, y$ with $a < x < y < b$, such that\n",
    "\n",
    "$$ (y − a)/(b − a) = (\\sqrt{5} − 1)/2  \\qquad (1) $$\n",
    "\n",
    "and\n",
    "\n",
    "$$ b - x = y - a  \\qquad (2) $$\n",
    "\n",
    "That is, the interval is divided from each end in *golden section*."
   ]
  },
  {
   "cell_type": "markdown",
   "metadata": {},
   "source": [
    "(i) Without loss of generality, suppose that $f(x) \\geq f(y)$, ie. we deduce that the mode lies in the subinterval $[a,y] $. This is divided in golden section from $a$ by the point $x$ (at which we already have a function evaluation) as\n",
    "\n",
    "\n",
    "$$ \n",
    "\\begin{align}\n",
    "\\frac{x-a}{y-a} & = \\frac{(b-a) - (b - x)}{y-a} \\\\\n",
    "& =  \\frac{b-a}{y-a} - 1 \\qquad (\\text{using } b - x = y - a) \\\\\n",
    "& = \\frac{2}{\\sqrt{5}-1} - 1\\\\\n",
    "& = \\frac{\\sqrt{5} - 1}{2}\n",
    "\\end{align}\n",
    "$$\n",
    "\n",
    "\n",
    "(ii) Simiarly, if  $f(y) \\geq f(x)$, we deduce the mode lies in $[x,b]$, which is divided in golden section from $b$ by $y$, ie.\n",
    "\n",
    "$$ \n",
    "\\begin{align}\n",
    "\\frac{b-y}{b-x} & = \\frac{\\sqrt{5} - 1}{2}\n",
    "\\end{align}\n",
    "$$\n",
    "\n"
   ]
  },
  {
   "cell_type": "markdown",
   "metadata": {},
   "source": [
    "### Programming Task"
   ]
  },
  {
   "cell_type": "markdown",
   "metadata": {},
   "source": [
    "The program to implement the golden search is shown at the end of the notebook, labelled\n",
    "\n",
    "\n",
    "```golden_search(fval,xlow,xhigh,prec,print_freq = 1)```"
   ]
  },
  {
   "cell_type": "markdown",
   "metadata": {},
   "source": [
    "This program requires the input of the function *fval*, intervals boundaries *xlow* and *xhigh*, and the required precision *prec*, where the iteraction will be terminated once the mode is guaranteed to lie in an interval of width less than *prec*. \n",
    "\n",
    "(i) If $f(x) = f(y)$ the search automatically takes the $[a,y]$ subinterval as the new interval\n",
    "\n",
    "(ii) It is preferable to use equation (2) to locate the point for the second function evaluation. There are less operations than if we used equation (1), therefore we reduce the computational cost with a high number of iterations. \n",
    "\n",
    "(iii) If the mode were at an endpoint of the original interval $[a,b]$, eg. at $b$, the program functions as normal, choosing a succession of subintervals $[a_i,b]$."
   ]
  },
  {
   "cell_type": "code",
   "execution_count": 66,
   "metadata": {
    "collapsed": true
   },
   "outputs": [],
   "source": [
    "xvals = np.linspace(0,1,100)"
   ]
  },
  {
   "cell_type": "code",
   "execution_count": 11,
   "metadata": {
    "collapsed": false
   },
   "outputs": [],
   "source": [
    "def fval(xvals):\n",
    "    return -(xvals-3)**2 + 10"
   ]
  },
  {
   "cell_type": "code",
   "execution_count": 63,
   "metadata": {
    "collapsed": false
   },
   "outputs": [],
   "source": [
    "def fval2(xvals):\n",
    "    return 1 + xvals + xvals**2 - 4*xvals**4"
   ]
  },
  {
   "cell_type": "code",
   "execution_count": 67,
   "metadata": {
    "collapsed": false
   },
   "outputs": [
    {
     "data": {
      "text/plain": [
       "[<matplotlib.lines.Line2D at 0x2cebf5b7fd0>]"
      ]
     },
     "execution_count": 67,
     "metadata": {},
     "output_type": "execute_result"
    },
    {
     "data": {
      "image/png": "[encoded data removed]",
      "text/plain": [
       "<matplotlib.figure.Figure at 0x2cebf524588>"
      ]
     },
     "metadata": {},
     "output_type": "display_data"
    }
   ],
   "source": [
    "plt.plot(xvals,fval2(xvals))"
   ]
  },
  {
   "cell_type": "code",
   "execution_count": 77,
   "metadata": {
    "collapsed": false
   },
   "outputs": [
    {
     "name": "stdout",
     "output_type": "stream",
     "text": [
      "Mode = 0.5. Accuracy of 0.001 reached upon iteration 15: Mode lies between 0.49963343128205473 and 0.5003665687179453\n"
     ]
    }
   ],
   "source": [
    "golden_search(fval2,0,1,prec=0.001)"
   ]
  },
  {
   "cell_type": "code",
   "execution_count": 62,
   "metadata": {
    "collapsed": false,
    "scrolled": true
   },
   "outputs": [],
   "source": [
    "#plt.plot(xvals,fval(xvals))"
   ]
  },
  {
   "cell_type": "markdown",
   "metadata": {
    "collapsed": false
   },
   "source": [
    "### Question 4"
   ]
  },
  {
   "cell_type": "markdown",
   "metadata": {},
   "source": [
    "The properties of $f$ that determine the numerical accuracy attainable are to do with smoothness. Smooth functions have a first derivative close to zero near the minimum and are therefore flat."
   ]
  },
  {
   "cell_type": "markdown",
   "metadata": {},
   "source": [
    "### Question 5"
   ]
  },
  {
   "cell_type": "markdown",
   "metadata": {},
   "source": [
    "If the mode is located at $ x = x_{0} $, then performing a Taylor expansion about $ x_{0} $, gives\n",
    "\n",
    "$$  f(x) \\approx f(x_{0}) + \\frac{(x-x_{0})^{2}}{2!} f''(x_{0}) $$\n",
    "\n",
    "ie.\n",
    "\n",
    "$$ \\left|   f(x) - f(x_{0})  \\right| \\approx  \\frac{(x-x_{0})^{2}}{2!}   \\left| f''(x_{0}) \\right|  $$\n",
    "\n",
    "ie. the error in $f(x_0)$ is approximately proprotional to the squared error in $x_0$"
   ]
  },
  {
   "cell_type": "markdown",
   "metadata": {},
   "source": [
    "## 5 Application: Optimization of turntable and tone-arm design\n"
   ]
  },
  {
   "cell_type": "markdown",
   "metadata": {},
   "source": [
    "The designer of the tone-arm has the following parameters under his control:\n",
    "\n",
    "- the distance $d$ of the tone-arm pivot $Q$ from the centre $S$ of the record\n",
    "- the toe-in angle $\\theta$ between the tone-arm and the direction of the stylus.\n",
    "\n",
    "\n"
   ]
  },
  {
   "cell_type": "markdown",
   "metadata": {},
   "source": [
    "The playing region of a vinyl gramophone record is an annulus of inner radius $r$ and outer\n",
    "radius $R$. Let $x$ denote the distance $SP$, so that as the stylus moves from the outer edge of the record\n",
    "to the inner one, $x$ decreases from $R$ to $r$."
   ]
  },
  {
   "cell_type": "markdown",
   "metadata": {},
   "source": [
    "### Inner Iteration:\n",
    "\n",
    "$\\phi$ is the angle between QP and the tangent to the groove at P, which by the cosine rule we have \n",
    "\n",
    "$$\n",
    "\\begin{align}\n",
    "d^{2} & = l^{2} + x^{2} - 2 l x \\cos(\\pi/2 - \\phi)  \\\\\n",
    "\\end{align}\n",
    "$$\n",
    "\n",
    "which can be rearranged to give $\\phi$ as a function of $x$:\n",
    "\n",
    "$$ \\phi  = \\arcsin \\left( \\frac{l^{2} + x^{2} - d^{2}}{2lx} \\right)  $$\n",
    "\n",
    "\n"
   ]
  },
  {
   "cell_type": "markdown",
   "metadata": {},
   "source": [
    "We now wish to find $ \\Delta \\phi = \\max \\phi(x) - \\min \\phi(x) $ \n",
    "\n",
    "We can do this by using the Golden Search method to find the maximum and minimum values taken by this function in our interval"
   ]
  },
  {
   "cell_type": "code",
   "execution_count": 149,
   "metadata": {
    "collapsed": false
   },
   "outputs": [],
   "source": [
    "l = 24\n",
    "def phi(x,d):\n",
    "\n",
    "    arg = (l**2 + x**2 - d**2)/(2*l*x)\n",
    "    return np.arcsin(arg)\n",
    "\n",
    "#I think that phi(x) is maximum at x = R and minimum at x = r...\n",
    "\n",
    "def del_phi(d):\n",
    "    return phi(R,d) - phi(r,d)"
   ]
  },
  {
   "cell_type": "code",
   "execution_count": 146,
   "metadata": {
    "collapsed": false
   },
   "outputs": [
    {
     "data": {
      "text/plain": [
       "1.5707963267948966"
      ]
     },
     "execution_count": 146,
     "metadata": {},
     "output_type": "execute_result"
    }
   ],
   "source": [
    "phi(r,17.5)"
   ]
  },
  {
   "cell_type": "code",
   "execution_count": 114,
   "metadata": {
    "collapsed": true
   },
   "outputs": [],
   "source": [
    "R = 16\n",
    "r = 6.5"
   ]
  },
  {
   "cell_type": "code",
   "execution_count": 119,
   "metadata": {
    "collapsed": false
   },
   "outputs": [],
   "source": []
  },
  {
   "cell_type": "code",
   "execution_count": 122,
   "metadata": {
    "collapsed": true
   },
   "outputs": [],
   "source": [
    "x = np.linspace(r,R,1000)"
   ]
  },
  {
   "cell_type": "code",
   "execution_count": 130,
   "metadata": {
    "collapsed": false
   },
   "outputs": [
    {
     "data": {
      "text/plain": [
       "[<matplotlib.lines.Line2D at 0x1a6de39c2e8>]"
      ]
     },
     "execution_count": 130,
     "metadata": {},
     "output_type": "execute_result"
    },
    {
     "data": {
      "image/png": "[encoded data removed]",
      "text/plain": [
       "<matplotlib.figure.Figure at 0x1a6db306eb8>"
      ]
     },
     "metadata": {},
     "output_type": "display_data"
    }
   ],
   "source": [
    "d = 30\n",
    "plt.plot(x,phi(x,d))"
   ]
  },
  {
   "cell_type": "code",
   "execution_count": null,
   "metadata": {
    "collapsed": true
   },
   "outputs": [],
   "source": []
  },
  {
   "cell_type": "markdown",
   "metadata": {},
   "source": [
    "### Outer Iteration:\n",
    "\n",
    "We now adjust $ d $ to minimize $ \\Delta \\phi $. \n",
    "\n",
    "In choosing $d$ we must have $l - r < d < l + r$ otherwise the stylus would never reach the inner radius $r$"
   ]
  },
  {
   "cell_type": "code",
   "execution_count": 152,
   "metadata": {
    "collapsed": false
   },
   "outputs": [],
   "source": [
    "dvals = np.linspace(l - r,l + r, 1000)"
   ]
  },
  {
   "cell_type": "code",
   "execution_count": 153,
   "metadata": {
    "collapsed": false
   },
   "outputs": [
    {
     "data": {
      "text/plain": [
       "[<matplotlib.lines.Line2D at 0x1a6de45e0b8>]"
      ]
     },
     "execution_count": 153,
     "metadata": {},
     "output_type": "execute_result"
    },
    {
     "data": {
      "image/png": "[encoded data removed]",
      "text/plain": [
       "<matplotlib.figure.Figure at 0x1a6de38fe80>"
      ]
     },
     "metadata": {},
     "output_type": "display_data"
    }
   ],
   "source": [
    "plt.plot(dvals,del_phi(dvals))"
   ]
  },
  {
   "cell_type": "code",
   "execution_count": 61,
   "metadata": {
    "collapsed": true
   },
   "outputs": [],
   "source": [
    "import numpy as np\n",
    "import pandas as pd\n",
    "import matplotlib.pyplot as plt\n",
    "%matplotlib inline"
   ]
  },
  {
   "cell_type": "code",
   "execution_count": 76,
   "metadata": {
    "collapsed": false
   },
   "outputs": [],
   "source": [
    "def golden_search(fval,xlow,xhigh,prec,print_freq = 0):\n",
    "\n",
    "    phi = (np.sqrt(5) - 1)/2\n",
    "\n",
    "    y = xlow + phi * (xhigh - xlow)\n",
    "    x = xhigh - phi * (xhigh - xlow)\n",
    "\n",
    "    for i in range(100):\n",
    "        \n",
    "        if fval(x) >= fval(y):\n",
    "            xhigh = y\n",
    "            y = x\n",
    "            x = xlow + xhigh - y\n",
    "        elif fval(x) <= fval(y):\n",
    "            xlow = x\n",
    "            x = y\n",
    "            y = xlow + xhigh - x\n",
    "        if print_freq != 0:\n",
    "            if i % print_freq == 0:\n",
    "                print('Iteration {}: Mode lies between {} and {}'.format(i+1,xlow,xhigh))\n",
    "        if xhigh - xlow < prec:\n",
    "                print('Mode = {}. Accuracy of {} reached upon iteration {}: Mode lies between {} and {}'.format((xlow + xhigh)/2,prec,i+1,xlow,xhigh))\n",
    "                break"
   ]
  },
  {
   "cell_type": "code",
   "execution_count": null,
   "metadata": {
    "collapsed": true
   },
   "outputs": [],
   "source": []
  }
 ],
 "metadata": {
  "anaconda-cloud": {},
  "kernelspec": {
   "display_name": "Python [conda root]",
   "language": "python",
   "name": "conda-root-py"
  },
  "language_info": {
   "codemirror_mode": {
    "name": "ipython",
    "version": 3
   },
   "file_extension": ".py",
   "mimetype": "text/x-python",
   "name": "python",
   "nbconvert_exporter": "python",
   "pygments_lexer": "ipython3",
   "version": "3.5.2"
  }
 },
 "nbformat": 4,
 "nbformat_minor": 2
}
