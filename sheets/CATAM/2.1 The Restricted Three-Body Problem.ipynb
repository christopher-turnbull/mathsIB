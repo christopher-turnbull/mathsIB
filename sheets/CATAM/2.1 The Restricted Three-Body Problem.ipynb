{
 "cells": [
  {
   "cell_type": "markdown",
   "metadata": {},
   "source": [
    "### Question 1"
   ]
  },
  {
   "cell_type": "markdown",
   "metadata": {},
   "source": [
    "Taking the time derivative of the quantity $J$ gives"
   ]
  },
  {
   "cell_type": "markdown",
   "metadata": {},
   "source": [
    "\\begin{align*}\n",
    "\\frac{\\mathrm{d} J}{\\mathrm{d} t} & = 2 \\dot{x} \\ddot{x} + 2 \\dot{y} \\ddot{y} + \\frac{\\partial \\Omega}{\\partial x} \\dot{x} + \\frac{\\partial \\Omega }{\\partial y} \\dot{y} \\\\\n",
    "& = 2 \\dot{x} \\ddot{x} + 2 \\dot{y} \\ddot{y} - ( \\ddot{x} - 2 \\dot{y} ) \\dot{x} -  (\\ddot{y}  + 2\\dot{x} ) \\dot{y} \\\\\n",
    "& = 0\n",
    "\\end{align*}"
   ]
  },
  {
   "cell_type": "markdown",
   "metadata": {},
   "source": [
    "using equations (1a) and (1b). Thus $J$ is constant throughout the motion.  "
   ]
  },
  {
   "cell_type": "markdown",
   "metadata": {},
   "source": [
    "Equating the inital value of $J$ to its value at time $t$ gives "
   ]
  },
  {
   "cell_type": "markdown",
   "metadata": {},
   "source": [
    "$$ \\Omega(x,y) + \\frac{1}{2} \\dot{x}^{2} + \\frac{1}{2} \\dot{y}^{2}  =  \\Omega(x_{0},y_{0}) + \\frac{1}{2} u_{0}^{2} + \\frac{1}{2} v_{0}^{2} $$"
   ]
  },
  {
   "cell_type": "markdown",
   "metadata": {},
   "source": [
    "As $ (\\dot{x}^{2} + \\dot{y}^{2})/2  \\geq 0 $ , we conclude that"
   ]
  },
  {
   "cell_type": "markdown",
   "metadata": {},
   "source": [
    "$$ \\Omega(x,y) \\leq  \\Omega(x_{0},y_{0}) + \\frac{1}{2} u_{0}^{2} + \\frac{1}{2} v_{0}^{2} $$"
   ]
  },
  {
   "cell_type": "markdown",
   "metadata": {},
   "source": [
    "confirming that trajectories are confined to this region."
   ]
  },
  {
   "cell_type": "markdown",
   "metadata": {},
   "source": [
    "### Programming Task"
   ]
  },
  {
   "cell_type": "markdown",
   "metadata": {},
   "source": [
    "The program to solve the\n",
    "\n",
    "is shown on page 13, labelled \n",
    "\n",
    "`q1_ode_solver(args,kwargs)`\n",
    "\n",
    "The accuracy of this method can be checked by such and such a method\n",
    "\n",
    "`q1_ode_solver(check=on)`"
   ]
  },
  {
   "cell_type": "markdown",
   "metadata": {},
   "source": [
    "### Question 2"
   ]
  },
  {
   "cell_type": "markdown",
   "metadata": {},
   "source": [
    "Have \n",
    "\n",
    "$$ \\Omega(x,y) + \\frac{1}{2} \\dot{x}^{2} + \\frac{1}{2} \\dot{y}^{2}  = \\text{constant} $$"
   ]
  },
  {
   "cell_type": "markdown",
   "metadata": {},
   "source": []
  }
 ],
 "metadata": {
  "anaconda-cloud": {},
  "kernelspec": {
   "display_name": "Python [conda root]",
   "language": "python",
   "name": "conda-root-py"
  },
  "language_info": {
   "codemirror_mode": {
    "name": "ipython",
    "version": 3
   },
   "file_extension": ".py",
   "mimetype": "text/x-python",
   "name": "python",
   "nbconvert_exporter": "python",
   "pygments_lexer": "ipython3",
   "version": "3.5.2"
  }
 },
 "nbformat": 4,
 "nbformat_minor": 2
}
