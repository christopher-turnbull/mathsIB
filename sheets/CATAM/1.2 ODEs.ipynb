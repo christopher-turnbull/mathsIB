{
 "cells": [
  {
   "cell_type": "markdown",
   "metadata": {},
   "source": [
    "# 1.2 Ordinary Differential Equations"
   ]
  },
  {
   "cell_type": "markdown",
   "metadata": {},
   "source": [
    "### Programming Task"
   ]
  },
  {
   "cell_type": "markdown",
   "metadata": {},
   "source": [
    "The programmes to implement the forward Euler method, and the program to implement the Runge-Kutta method, both for equation (1) are shown at the end of the notebook, labelled\n",
    "\n",
    "\n",
    "```(i) forward_Euler_method(h, suppress = False, graph = False, x_n=6):```\n",
    "\n",
    "and \n",
    "\n",
    "```(ii) rk4_method(h, suppress = False, graph = False,x_n = 6):```"
   ]
  },
  {
   "cell_type": "markdown",
   "metadata": {},
   "source": [
    "Both programmes starts the iterative method with $x_0 = 0$ and require the input of the step size `h`, automatically terminating the method at up to $x = $ `x_n`, which in the default case is set to 6."
   ]
  },
  {
   "cell_type": "markdown",
   "metadata": {},
   "source": [
    "Both programmes output a `pandas Dataframe` displaying, at step $n$, the value of the numerical solution $Y_n$ and exact solution $y(x_n)$, as well as the Global Error at the $n$th step $E_n$."
   ]
  },
  {
   "cell_type": "markdown",
   "metadata": {},
   "source": [
    "There are two optional inputs which are both set to `False` by default. \n",
    "\n",
    "`suppress`, if set to `True`, will produce only a judicious display of the tabulated results\n",
    "\n",
    "`graph`, if set to `True`, will produce a plot of the numerical solution superimposed over the exact solution."
   ]
  },
  {
   "cell_type": "markdown",
   "metadata": {},
   "source": [
    "### Question 1\n",
    "\n",
    "The example we will study is \n",
    "\n",
    "$$ \\frac{d y}{d x} = -16y + 15e^{-x}, \\quad y(0) = 0 \\qquad (1.1) $$"
   ]
  },
  {
   "cell_type": "markdown",
   "metadata": {},
   "source": [
    "Below we implement the Euler method with `h = 0.6`"
   ]
  },
  {
   "cell_type": "code",
   "execution_count": 79,
   "metadata": {
    "collapsed": false
   },
   "outputs": [
    {
     "data": {
      "text/html": [
       "<div>\n",
       "<table border=\"1\" class=\"dataframe\">\n",
       "  <thead>\n",
       "    <tr style=\"text-align: right;\">\n",
       "      <th></th>\n",
       "      <th>$Y_n$ Numerical Solution</th>\n",
       "      <th>$y(x_n)$ Exact Solution</th>\n",
       "      <th>Global Error $E_n$</th>\n",
       "      <th>x_values</th>\n",
       "    </tr>\n",
       "  </thead>\n",
       "  <tbody>\n",
       "    <tr>\n",
       "      <th>0</th>\n",
       "      <td>9.0000000000e+00</td>\n",
       "      <td>0.5487439074</td>\n",
       "      <td>8.4512560926e+00</td>\n",
       "      <td>0.6</td>\n",
       "    </tr>\n",
       "    <tr>\n",
       "      <th>1</th>\n",
       "      <td>-7.2460695275e+01</td>\n",
       "      <td>0.3011942073</td>\n",
       "      <td>-7.2761889482e+01</td>\n",
       "      <td>1.2</td>\n",
       "    </tr>\n",
       "    <tr>\n",
       "      <th>2</th>\n",
       "      <td>6.2587272727e+02</td>\n",
       "      <td>0.1652988882</td>\n",
       "      <td>6.2570742839e+02</td>\n",
       "      <td>1.8</td>\n",
       "    </tr>\n",
       "    <tr>\n",
       "      <th>3</th>\n",
       "      <td>-5.3810177646e+03</td>\n",
       "      <td>0.0907179533</td>\n",
       "      <td>-5.3811084825e+03</td>\n",
       "      <td>2.4</td>\n",
       "    </tr>\n",
       "    <tr>\n",
       "      <th>4</th>\n",
       "      <td>4.6277569237e+04</td>\n",
       "      <td>0.0497870684</td>\n",
       "      <td>4.6277519450e+04</td>\n",
       "      <td>3.0</td>\n",
       "    </tr>\n",
       "    <tr>\n",
       "      <th>5</th>\n",
       "      <td>-3.9798664735e+05</td>\n",
       "      <td>0.0273237224</td>\n",
       "      <td>-3.9798667468e+05</td>\n",
       "      <td>3.6</td>\n",
       "    </tr>\n",
       "    <tr>\n",
       "      <th>6</th>\n",
       "      <td>3.4226854131e+06</td>\n",
       "      <td>0.0149955768</td>\n",
       "      <td>3.4226853982e+06</td>\n",
       "      <td>4.2</td>\n",
       "    </tr>\n",
       "    <tr>\n",
       "      <th>7</th>\n",
       "      <td>-2.9435094418e+07</td>\n",
       "      <td>0.0082297470</td>\n",
       "      <td>-2.9435094426e+07</td>\n",
       "      <td>4.8</td>\n",
       "    </tr>\n",
       "    <tr>\n",
       "      <th>8</th>\n",
       "      <td>2.5314181207e+08</td>\n",
       "      <td>0.0045165809</td>\n",
       "      <td>2.5314181207e+08</td>\n",
       "      <td>5.4</td>\n",
       "    </tr>\n",
       "    <tr>\n",
       "      <th>9</th>\n",
       "      <td>-2.1770195838e+09</td>\n",
       "      <td>0.0024787522</td>\n",
       "      <td>-2.1770195838e+09</td>\n",
       "      <td>6.0</td>\n",
       "    </tr>\n",
       "  </tbody>\n",
       "</table>\n",
       "</div>"
      ],
      "text/plain": [
       "   $Y_n$ Numerical Solution  $y(x_n)$ Exact Solution  Global Error $E_n$  \\\n",
       "0          9.0000000000e+00             0.5487439074    8.4512560926e+00   \n",
       "1         -7.2460695275e+01             0.3011942073   -7.2761889482e+01   \n",
       "2          6.2587272727e+02             0.1652988882    6.2570742839e+02   \n",
       "3         -5.3810177646e+03             0.0907179533   -5.3811084825e+03   \n",
       "4          4.6277569237e+04             0.0497870684    4.6277519450e+04   \n",
       "5         -3.9798664735e+05             0.0273237224   -3.9798667468e+05   \n",
       "6          3.4226854131e+06             0.0149955768    3.4226853982e+06   \n",
       "7         -2.9435094418e+07             0.0082297470   -2.9435094426e+07   \n",
       "8          2.5314181207e+08             0.0045165809    2.5314181207e+08   \n",
       "9         -2.1770195838e+09             0.0024787522   -2.1770195838e+09   \n",
       "\n",
       "   x_values  \n",
       "0       0.6  \n",
       "1       1.2  \n",
       "2       1.8  \n",
       "3       2.4  \n",
       "4       3.0  \n",
       "5       3.6  \n",
       "6       4.2  \n",
       "7       4.8  \n",
       "8       5.4  \n",
       "9       6.0  "
      ]
     },
     "execution_count": 79,
     "metadata": {},
     "output_type": "execute_result"
    }
   ],
   "source": [
    "df = forward_Euler_method(h=0.6)\n",
    "df"
   ]
  },
  {
   "cell_type": "markdown",
   "metadata": {},
   "source": [
    "As illustrated here, the numerical solution is unstable. Plotting a graph of $\\log{|E_N|}$ shows an approximate straight line, "
   ]
  },
  {
   "cell_type": "code",
   "execution_count": 80,
   "metadata": {
    "collapsed": false,
    "scrolled": true
   },
   "outputs": [],
   "source": [
    "def growth_rate_estimate(df, graph = False, label = '0.6'):\n",
    "    '''Plots the log of the magnitude of the global error against x, and estimates the gradient.\n",
    "    If graph = True, displays the plot.'''\n",
    "    x = df['x_values'].values\n",
    "    Y = df['Global Error $E_n$'].values\n",
    "    Ylog = np.log(np.abs(Y))\n",
    "    if graph == True:\n",
    "        growth_rate, = plt.plot(x,Ylog, label = 'h ={}'.format(label))\n",
    "        plt.xlabel('$x$', fontsize = 16)\n",
    "        plt.ylabel('$\\log{|E_n|}$', fontsize = 16)\n",
    "    return np.gradient(Ylog)/np.gradient(x)"
   ]
  },
  {
   "cell_type": "code",
   "execution_count": 81,
   "metadata": {
    "collapsed": false,
    "scrolled": false
   },
   "outputs": [
    {
     "data": {
      "text/plain": [
       "array([ 3.58812874,  3.58713985,  3.58621446,  3.58627391,  3.58627011,\n",
       "        3.58627035,  3.58627034,  3.58627034,  3.58627034,  3.58627034])"
      ]
     },
     "execution_count": 81,
     "metadata": {},
     "output_type": "execute_result"
    },
    {
     "data": {
      "image/png": "[encoded data removed]",
      "text/plain": [
       "<matplotlib.figure.Figure at 0x1c74e095ac8>"
      ]
     },
     "metadata": {},
     "output_type": "display_data"
    }
   ],
   "source": [
    "growth_rate_estimate(df,graph=True, label = '0.6')"
   ]
  },
  {
   "cell_type": "markdown",
   "metadata": {},
   "source": [
    "Figure 1.1: A plot of $\\log{|E_N|}$ against $x$ for the forward Euler method with $h=0.6$"
   ]
  },
  {
   "cell_type": "markdown",
   "metadata": {},
   "source": [
    "which has gradient of approximately 3.586 (as verified below by our code) showing the error oscillates with magnitude $\\approx e^{3.586 x}$"
   ]
  },
  {
   "cell_type": "markdown",
   "metadata": {},
   "source": [
    "Below shows the results for $h=0.4,0.2,0.125,0.1$, with a judicious selection of output presented to illustrate the behaviour of our numerical solution."
   ]
  },
  {
   "cell_type": "code",
   "execution_count": 82,
   "metadata": {
    "collapsed": false,
    "scrolled": false
   },
   "outputs": [
    {
     "name": "stdout",
     "output_type": "stream",
     "text": [
      "    $Y_n$ Numerical Solution  $y(x_n)$ Exact Solution  Global Error $E_n$  \\\n",
      "0           6.0000000000e+00             0.6686584888    5.3313415112e+00   \n",
      "1          -2.8378079724e+01             0.4493262033   -2.8827405927e+01   \n",
      "2           1.5593760429e+02             0.3011942073    1.5563641009e+02   \n",
      "3          -8.4025589791e+02             0.2018965180   -8.4045779443e+02   \n",
      "4           4.5385932278e+03             0.1353352832    4.5384578925e+03   \n",
      "5          -2.4507591419e+04             0.0907179533   -2.4507682137e+04   \n",
      "6           1.3234153797e+05             0.0608100626    1.3234147716e+05   \n",
      "7          -7.1464394017e+05             0.0407622040   -7.1464398093e+05   \n",
      "8           3.8590775215e+06             0.0273237224    3.8590774942e+06   \n",
      "9          -2.0839018452e+07             0.0183156389   -2.0839018470e+07   \n",
      "10          1.1253069975e+08             0.0122773399    1.1253069974e+08   \n",
      "11         -6.0766577858e+08             0.0082297470   -6.0766577859e+08   \n",
      "12          3.2813952044e+09             0.0055165644    3.2813952044e+09   \n",
      "13         -1.7719534104e+10             0.0036978637   -1.7719534104e+10   \n",
      "14          9.5685484160e+10             0.0024787522    9.5685484160e+10   \n",
      "\n",
      "    x_values  \n",
      "0        0.4  \n",
      "1        0.8  \n",
      "2        1.2  \n",
      "3        1.6  \n",
      "4        2.0  \n",
      "5        2.4  \n",
      "6        2.8  \n",
      "7        3.2  \n",
      "8        3.6  \n",
      "9        4.0  \n",
      "10       4.4  \n",
      "11       4.8  \n",
      "12       5.2  \n",
      "13       5.6  \n",
      "14       6.0  \n",
      "[ 4.21930908  4.21739961  4.21577526  4.21602497  4.21599396  4.21599781\n",
      "  4.21599733  4.21599739  4.21599738  4.21599738  4.21599738  4.21599738\n",
      "  4.21599738  4.21599738  4.21599738]\n",
      "    $Y_n$ Numerical Solution  $y(x_n)$ Exact Solution  Global Error $E_n$  \\\n",
      "0          -4.1438077408e+00             0.6686584888   -4.8124662295e+00   \n",
      "1          -2.2833706861e+01             0.4493262033   -2.3283033064e+01   \n",
      "2          -1.1237707405e+02             0.3011942073   -1.1267826825e+02   \n",
      "3          -5.4515312929e+02             0.2018965180   -5.4535502581e+02   \n",
      "4          -2.6393777661e+03             0.1353352832   -2.6395131014e+03   \n",
      "5          -1.2775149191e+04             0.0907179533   -1.2775239909e+04   \n",
      "6          -6.1832098004e+04             0.0608100626   -6.1832158814e+04   \n",
      "7          -2.9926760633e+05             0.0407622040   -2.9926764709e+05   \n",
      "8          -1.4484553835e+06             0.0273237224   -1.4484554109e+06   \n",
      "9          -7.0105241695e+06             0.0183156389   -7.0105241878e+06   \n",
      "10         -3.3930937056e+07             0.0122773399   -3.3930937069e+07   \n",
      "11         -1.6422573540e+08             0.0082297470   -1.6422573541e+08   \n",
      "12         -7.9485255939e+08             0.0055165644   -7.9485255939e+08   \n",
      "13         -3.8470863874e+09             0.0036978637   -3.8470863875e+09   \n",
      "14         -1.8619898115e+10             0.0024787522   -1.8619898115e+10   \n",
      "\n",
      "    x_values  \n",
      "0        0.4  \n",
      "1        0.8  \n",
      "2        1.2  \n",
      "3        1.6  \n",
      "4        2.0  \n",
      "5        2.4  \n",
      "6        2.8  \n",
      "7        3.2  \n",
      "8        3.6  \n",
      "9        4.0  \n",
      "10       4.4  \n",
      "11       4.8  \n",
      "12       5.2  \n",
      "13       5.6  \n",
      "14       6.0  \n",
      "[ 3.94128805  3.94165861  3.94214013  3.94226647  3.94228399  3.94228641\n",
      "  3.94228675  3.94228679  3.9422868   3.9422868   3.9422868   3.9422868\n",
      "  3.9422868   3.9422868   3.9422868 ]\n",
      "    $Y_n$ Numerical Solution  $y(x_n)$ Exact Solution  Global Error $E_n$  \\\n",
      "0              -0.3919023782             0.6061951971       -0.9980975753   \n",
      "1              -0.6296031862             0.3678793286       -0.9974825148   \n",
      "2              -0.7737760140             0.2231301601       -0.9969061741   \n",
      "3              -0.8612212544             0.1353352832       -0.9965565377   \n",
      "4              -0.9142594738             0.0820849986       -0.9963444724   \n",
      "5              -0.9464287800             0.0497870684       -0.9962158483   \n",
      "6              -0.9659404505             0.0301973834       -0.9961378339   \n",
      "7              -0.9777748768             0.0183156389       -0.9960905157   \n",
      "8              -0.9849528193             0.0111089965       -0.9960618158   \n",
      "9              -0.9893064614             0.0067379470       -0.9960444084   \n",
      "10             -0.9919470789             0.0040867714       -0.9960338503   \n",
      "11             -0.9935486943             0.0024787522       -0.9960274465   \n",
      "\n",
      "    x_values  \n",
      "0        0.5  \n",
      "1        1.0  \n",
      "2        1.5  \n",
      "3        2.0  \n",
      "4        2.5  \n",
      "5        3.0  \n",
      "6        3.5  \n",
      "7        4.0  \n",
      "8        4.5  \n",
      "9        5.0  \n",
      "10       5.5  \n",
      "11       6.0  \n",
      "[ -1.23284551e-03  -1.19438498e-03  -9.28745283e-04  -5.63603724e-04\n",
      "  -3.41924997e-04  -2.07418186e-04  -1.25816599e-04  -7.63157124e-05\n",
      "  -4.62893233e-05  -2.80764471e-05  -1.70294295e-05  -1.28586726e-05]\n",
      "    $Y_n$ Numerical Solution  $y(x_n)$ Exact Solution  Global Error $E_n$  \\\n",
      "0               0.6820909537             0.6061951971        0.0758957566   \n",
      "1               0.3606696835             0.3678793286       -0.0072096451   \n",
      "2               0.2228815643             0.2231301601       -0.0002485958   \n",
      "3               0.1348637933             0.1353352832       -0.0004714899   \n",
      "4               0.0818239638             0.0820849986       -0.0002610348   \n",
      "5               0.0496268036             0.0497870684       -0.0001602648   \n",
      "6               0.0301003287             0.0301973834       -0.0000970547   \n",
      "7               0.0182567605             0.0183156389       -0.0000588784   \n",
      "8               0.0110732859             0.0111089965       -0.0000357106   \n",
      "9               0.0067162873             0.0067379470       -0.0000216597   \n",
      "10              0.0040736342             0.0040867714       -0.0000131372   \n",
      "11              0.0024707840             0.0024787522       -0.0000079681   \n",
      "\n",
      "    x_values  \n",
      "0        0.5  \n",
      "1        1.0  \n",
      "2        1.5  \n",
      "3        2.0  \n",
      "4        2.5  \n",
      "5        3.0  \n",
      "6        3.5  \n",
      "7        4.0  \n",
      "8        4.5  \n",
      "9        5.0  \n",
      "10       5.5  \n",
      "11       6.0  \n",
      "[-4.7078821  -5.72128759 -2.72727722  0.04882521 -1.07907031 -0.98937868\n",
      " -1.00135331 -0.99982636 -1.00002226 -0.99999715 -1.00000037 -0.99999989]\n"
     ]
    },
    {
     "data": {
      "text/plain": [
       "<matplotlib.legend.Legend at 0x1c74e0bc390>"
      ]
     },
     "execution_count": 82,
     "metadata": {},
     "output_type": "execute_result"
    },
    {
     "data": {
      "image/png": "[encoded data removed]",
      "text/plain": [
       "<matplotlib.figure.Figure at 0x1c74f49f978>"
      ]
     },
     "metadata": {},
     "output_type": "display_data"
    }
   ],
   "source": [
    "for h in hvals:\n",
    "    df = forward_Euler_method(h=h,suppress=True)\n",
    "    print(df)\n",
    "    print(growth_rate_estimate(df,graph=True,label = h))\n",
    "plt.legend()"
   ]
  },
  {
   "cell_type": "markdown",
   "metadata": {},
   "source": [
    "Rough estimates of the growth rate have been given for each $h$, superimposed on a graph for illustration purposes. Reducing the value of $h$ decreases the growth rate. At however at $h=0.125$ the solution coverges erronously to $-1$.\n",
    "With $h=0.1$ the solution converges to the analytical solution, with growth rate $\\gamma = -1$"
   ]
  },
  {
   "cell_type": "markdown",
   "metadata": {},
   "source": [
    "### Question 2"
   ]
  },
  {
   "cell_type": "markdown",
   "metadata": {},
   "source": [
    "(i) To find the solution of \n",
    "\n",
    "$$  Y_{n+1} + (16h - 1)Y_{n} = 15h (e^{-h})^{n} , \\quad Y_0 = 0 \\qquad (2.1) $$\n",
    "\n",
    "In the homogenous case, ansatz $ Y_{n} = A k^{n}, k \\neq 0 $, which yields $ k = (1 - 16h) $. For the particular integral, we ansatz $  y_{n}^{p} = C (e^{-h})^{n} $, determining the constant $ C $ to be $ 15h / (e^{-h} + 16h - 1 ) $. "
   ]
  },
  {
   "cell_type": "markdown",
   "metadata": {},
   "source": [
    "Thus the general solution is given by\n",
    "\n",
    "$$ Y_{n} = A (1 - 16h)^{n}  +  \\frac{15 h}{e^{-h}  - 1 + 16h } (e^{-h})^{n} $$\n",
    "\n",
    "Using the initial condition $Y_0=0$ to find the constant $A$, the solution is given by\n",
    "\n",
    "$$ Y_{n} = \\frac{15 h}{e^{-h}  - 1 + 16h }  \\left(  (e^{-h})^{n} - (1 - 16h)^{n}  \\right) $$"
   ]
  },
  {
   "cell_type": "markdown",
   "metadata": {},
   "source": [
    "(ii) Instability occurs when the term $ (1 - 16h)^n \\not\\to 0 $ as $n \\to \\infty $, ie. when $\\big| 1 - 16h \\big| \\geq 1 $, which occurs for $h \\geq 0.125$\n"
   ]
  },
  {
   "cell_type": "markdown",
   "metadata": {},
   "source": [
    "The numerical solution $Y_n$ diverges for $h> 0.125$; and also for $h = 0.125$, have $Y_n \\to \\pm 1$. For $h<0.125$ the solution converges, as $\\lim\\limits_{n \\to \\infty} (1 - 16h)^n = 0$"
   ]
  },
  {
   "cell_type": "markdown",
   "metadata": {},
   "source": [
    "(iii)"
   ]
  },
  {
   "cell_type": "markdown",
   "metadata": {},
   "source": [
    "In the limit $h \\to 0 $, by L'Hopital's rule\n",
    "\n",
    "$$ \\frac{15 h}{e^{-h}  - 1 + 16h } \\Big|_{h=0} \\to  \\frac{15}{-e^{-h}  + 16 } \\Big|_{h=0} = 1$$\n",
    "\n",
    ", and as $n \\to \\infty$,\n",
    "\n",
    "$$ \\left( 1 - \\frac{16x_n}{n} \\right)^{n} \\to e^{-16x_n}, \\quad (e^{-x_n/n})^{n} \\to e^{x_n} $$\n",
    "\n",
    "Hence \n",
    "\n",
    "$$ Y_n \\to e^{-x_{n}} - e^{-16x_{n}} $$\n",
    "\n",
    "so the solution of the difference equation (2.1) does indeed converge to the analytical soluton of equation (1.1) in the limit as $ n \\to \\infty $,  as required.\n",
    "\n"
   ]
  },
  {
   "cell_type": "markdown",
   "metadata": {},
   "source": [
    "### Question 3"
   ]
  },
  {
   "cell_type": "markdown",
   "metadata": {},
   "source": [
    "Using program (i) as before, this time with `graph = True`"
   ]
  },
  {
   "cell_type": "code",
   "execution_count": 45,
   "metadata": {
    "collapsed": false,
    "scrolled": false
   },
   "outputs": [
    {
     "data": {
      "text/html": [
       "<div>\n",
       "<table border=\"1\" class=\"dataframe\">\n",
       "  <thead>\n",
       "    <tr style=\"text-align: right;\">\n",
       "      <th></th>\n",
       "      <th>$Y_n$ Numerical Solution</th>\n",
       "      <th>$y(x_n)$ Exact Solution</th>\n",
       "      <th>Global Error $E_n$</th>\n",
       "      <th>x_values</th>\n",
       "    </tr>\n",
       "  </thead>\n",
       "  <tbody>\n",
       "    <tr>\n",
       "      <th>0</th>\n",
       "      <td>0.6055379397</td>\n",
       "      <td>0.6061951971</td>\n",
       "      <td>-0.0006572573</td>\n",
       "      <td>0.5</td>\n",
       "    </tr>\n",
       "    <tr>\n",
       "      <th>1</th>\n",
       "      <td>0.3672773881</td>\n",
       "      <td>0.3678793286</td>\n",
       "      <td>-0.0006019406</td>\n",
       "      <td>1.0</td>\n",
       "    </tr>\n",
       "    <tr>\n",
       "      <th>2</th>\n",
       "      <td>0.2227649965</td>\n",
       "      <td>0.2231301601</td>\n",
       "      <td>-0.0003651636</td>\n",
       "      <td>1.5</td>\n",
       "    </tr>\n",
       "    <tr>\n",
       "      <th>3</th>\n",
       "      <td>0.1351138003</td>\n",
       "      <td>0.1353352832</td>\n",
       "      <td>-0.0002214830</td>\n",
       "      <td>2.0</td>\n",
       "    </tr>\n",
       "    <tr>\n",
       "      <th>4</th>\n",
       "      <td>0.0819506624</td>\n",
       "      <td>0.0820849986</td>\n",
       "      <td>-0.0001343362</td>\n",
       "      <td>2.5</td>\n",
       "    </tr>\n",
       "    <tr>\n",
       "      <th>5</th>\n",
       "      <td>0.0497055893</td>\n",
       "      <td>0.0497870684</td>\n",
       "      <td>-0.0000814790</td>\n",
       "      <td>3.0</td>\n",
       "    </tr>\n",
       "    <tr>\n",
       "      <th>6</th>\n",
       "      <td>0.0301479639</td>\n",
       "      <td>0.0301973834</td>\n",
       "      <td>-0.0000494195</td>\n",
       "      <td>3.5</td>\n",
       "    </tr>\n",
       "    <tr>\n",
       "      <th>7</th>\n",
       "      <td>0.0182856644</td>\n",
       "      <td>0.0183156389</td>\n",
       "      <td>-0.0000299745</td>\n",
       "      <td>4.0</td>\n",
       "    </tr>\n",
       "  </tbody>\n",
       "</table>\n",
       "</div>"
      ],
      "text/plain": [
       "   $Y_n$ Numerical Solution  $y(x_n)$ Exact Solution  Global Error $E_n$  \\\n",
       "0              0.6055379397             0.6061951971       -0.0006572573   \n",
       "1              0.3672773881             0.3678793286       -0.0006019406   \n",
       "2              0.2227649965             0.2231301601       -0.0003651636   \n",
       "3              0.1351138003             0.1353352832       -0.0002214830   \n",
       "4              0.0819506624             0.0820849986       -0.0001343362   \n",
       "5              0.0497055893             0.0497870684       -0.0000814790   \n",
       "6              0.0301479639             0.0301973834       -0.0000494195   \n",
       "7              0.0182856644             0.0183156389       -0.0000299745   \n",
       "\n",
       "   x_values  \n",
       "0       0.5  \n",
       "1       1.0  \n",
       "2       1.5  \n",
       "3       2.0  \n",
       "4       2.5  \n",
       "5       3.0  \n",
       "6       3.5  \n",
       "7       4.0  "
      ]
     },
     "execution_count": 45,
     "metadata": {},
     "output_type": "execute_result"
    },
    {
     "data": {
      "image/png": "[encoded data removed]",
      "text/plain": [
       "<matplotlib.figure.Figure at 0x1c74e106940>"
      ]
     },
     "metadata": {},
     "output_type": "display_data"
    }
   ],
   "source": [
    "forward_Euler_method(h=0.05,suppress=True,graph=True,x_n=4)"
   ]
  },
  {
   "cell_type": "markdown",
   "metadata": {},
   "source": [
    "Figure 3.1: Plot of numerical solution of ODE (1) implemented with the forward Euler method with $h=0.05$, with exact solution superimposed."
   ]
  },
  {
   "cell_type": "code",
   "execution_count": 46,
   "metadata": {
    "collapsed": false,
    "scrolled": false
   },
   "outputs": [
    {
     "data": {
      "text/html": [
       "<div>\n",
       "<table border=\"1\" class=\"dataframe\">\n",
       "  <thead>\n",
       "    <tr style=\"text-align: right;\">\n",
       "      <th></th>\n",
       "      <th>$Y_n$ Numerical Solution</th>\n",
       "      <th>$y(x_n)$ Exact Solution</th>\n",
       "      <th>Global Error $E_n$</th>\n",
       "      <th>x_values</th>\n",
       "    </tr>\n",
       "  </thead>\n",
       "  <tbody>\n",
       "    <tr>\n",
       "      <th>0</th>\n",
       "      <td>0.6061925322</td>\n",
       "      <td>0.6061951971</td>\n",
       "      <td>-0.0000026649</td>\n",
       "      <td>0.5</td>\n",
       "    </tr>\n",
       "    <tr>\n",
       "      <th>1</th>\n",
       "      <td>0.3678888588</td>\n",
       "      <td>0.3678793286</td>\n",
       "      <td>0.0000095302</td>\n",
       "      <td>1.0</td>\n",
       "    </tr>\n",
       "    <tr>\n",
       "      <th>2</th>\n",
       "      <td>0.2231359481</td>\n",
       "      <td>0.2231301601</td>\n",
       "      <td>0.0000057880</td>\n",
       "      <td>1.5</td>\n",
       "    </tr>\n",
       "    <tr>\n",
       "      <th>3</th>\n",
       "      <td>0.1353387938</td>\n",
       "      <td>0.1353352832</td>\n",
       "      <td>0.0000035106</td>\n",
       "      <td>2.0</td>\n",
       "    </tr>\n",
       "    <tr>\n",
       "      <th>4</th>\n",
       "      <td>0.0820871279</td>\n",
       "      <td>0.0820849986</td>\n",
       "      <td>0.0000021293</td>\n",
       "      <td>2.5</td>\n",
       "    </tr>\n",
       "    <tr>\n",
       "      <th>5</th>\n",
       "      <td>0.0497883599</td>\n",
       "      <td>0.0497870684</td>\n",
       "      <td>0.0000012915</td>\n",
       "      <td>3.0</td>\n",
       "    </tr>\n",
       "    <tr>\n",
       "      <th>6</th>\n",
       "      <td>0.0301981667</td>\n",
       "      <td>0.0301973834</td>\n",
       "      <td>0.0000007833</td>\n",
       "      <td>3.5</td>\n",
       "    </tr>\n",
       "    <tr>\n",
       "      <th>7</th>\n",
       "      <td>0.0183161140</td>\n",
       "      <td>0.0183156389</td>\n",
       "      <td>0.0000004751</td>\n",
       "      <td>4.0</td>\n",
       "    </tr>\n",
       "  </tbody>\n",
       "</table>\n",
       "</div>"
      ],
      "text/plain": [
       "   $Y_n$ Numerical Solution  $y(x_n)$ Exact Solution  Global Error $E_n$  \\\n",
       "0              0.6061925322             0.6061951971       -0.0000026649   \n",
       "1              0.3678888588             0.3678793286        0.0000095302   \n",
       "2              0.2231359481             0.2231301601        0.0000057880   \n",
       "3              0.1353387938             0.1353352832        0.0000035106   \n",
       "4              0.0820871279             0.0820849986        0.0000021293   \n",
       "5              0.0497883599             0.0497870684        0.0000012915   \n",
       "6              0.0301981667             0.0301973834        0.0000007833   \n",
       "7              0.0183161140             0.0183156389        0.0000004751   \n",
       "\n",
       "   x_values  \n",
       "0       0.5  \n",
       "1       1.0  \n",
       "2       1.5  \n",
       "3       2.0  \n",
       "4       2.5  \n",
       "5       3.0  \n",
       "6       3.5  \n",
       "7       4.0  "
      ]
     },
     "execution_count": 46,
     "metadata": {},
     "output_type": "execute_result"
    },
    {
     "data": {
      "image/png": "[encoded data removed]",
      "text/plain": [
       "<matplotlib.figure.Figure at 0x1c74e178e80>"
      ]
     },
     "metadata": {},
     "output_type": "display_data"
    }
   ],
   "source": [
    "rk4_method(h=0.05,suppress=True,graph=True,x_n=4)"
   ]
  },
  {
   "cell_type": "markdown",
   "metadata": {},
   "source": [
    "Figure 3.2: Plot of numerical solution of ODE (1) implemented with the forward Euler method with $h=0.05$, with exact solution superimposed."
   ]
  },
  {
   "cell_type": "markdown",
   "metadata": {
    "collapsed": false
   },
   "source": [
    "Note that the fourth-order accuracy of the RK4 method becomes visible (and hence superior) compared with the first order accuracy of the forward Euler method."
   ]
  },
  {
   "cell_type": "markdown",
   "metadata": {},
   "source": [
    "### Question 4"
   ]
  },
  {
   "cell_type": "markdown",
   "metadata": {},
   "source": [
    "The program shown at the end of the notebook, labelled \n",
    "\n",
    "`(iii) q4_error_h_comparison(method)`\n"
   ]
  },
  {
   "cell_type": "markdown",
   "metadata": {},
   "source": [
    "For the Euler method,"
   ]
  },
  {
   "cell_type": "code",
   "execution_count": 53,
   "metadata": {
    "collapsed": false,
    "scrolled": false
   },
   "outputs": [
    {
     "data": {
      "text/html": [
       "<div>\n",
       "<table border=\"1\" class=\"dataframe\">\n",
       "  <thead>\n",
       "    <tr style=\"text-align: right;\">\n",
       "      <th></th>\n",
       "      <th>Global Error $E_n$ at $x_n =0.1$</th>\n",
       "      <th>k</th>\n",
       "    </tr>\n",
       "  </thead>\n",
       "  <tbody>\n",
       "    <tr>\n",
       "      <th>0</th>\n",
       "      <td>0.7970591000</td>\n",
       "      <td>0</td>\n",
       "    </tr>\n",
       "    <tr>\n",
       "      <th>1</th>\n",
       "      <td>0.0813224541</td>\n",
       "      <td>1</td>\n",
       "    </tr>\n",
       "    <tr>\n",
       "      <th>2</th>\n",
       "      <td>0.0716563660</td>\n",
       "      <td>2</td>\n",
       "    </tr>\n",
       "    <tr>\n",
       "      <th>3</th>\n",
       "      <td>0.0338186500</td>\n",
       "      <td>3</td>\n",
       "    </tr>\n",
       "    <tr>\n",
       "      <th>4</th>\n",
       "      <td>0.0164449388</td>\n",
       "      <td>4</td>\n",
       "    </tr>\n",
       "    <tr>\n",
       "      <th>5</th>\n",
       "      <td>0.0081110427</td>\n",
       "      <td>5</td>\n",
       "    </tr>\n",
       "    <tr>\n",
       "      <th>6</th>\n",
       "      <td>0.0040282337</td>\n",
       "      <td>6</td>\n",
       "    </tr>\n",
       "    <tr>\n",
       "      <th>7</th>\n",
       "      <td>0.0020073650</td>\n",
       "      <td>7</td>\n",
       "    </tr>\n",
       "    <tr>\n",
       "      <th>8</th>\n",
       "      <td>0.0010020032</td>\n",
       "      <td>8</td>\n",
       "    </tr>\n",
       "    <tr>\n",
       "      <th>9</th>\n",
       "      <td>0.0005005829</td>\n",
       "      <td>9</td>\n",
       "    </tr>\n",
       "    <tr>\n",
       "      <th>10</th>\n",
       "      <td>0.0002501869</td>\n",
       "      <td>10</td>\n",
       "    </tr>\n",
       "    <tr>\n",
       "      <th>11</th>\n",
       "      <td>0.0001250673</td>\n",
       "      <td>11</td>\n",
       "    </tr>\n",
       "    <tr>\n",
       "      <th>12</th>\n",
       "      <td>0.0000625271</td>\n",
       "      <td>12</td>\n",
       "    </tr>\n",
       "    <tr>\n",
       "      <th>13</th>\n",
       "      <td>0.0000312619</td>\n",
       "      <td>13</td>\n",
       "    </tr>\n",
       "    <tr>\n",
       "      <th>14</th>\n",
       "      <td>0.0000156306</td>\n",
       "      <td>14</td>\n",
       "    </tr>\n",
       "    <tr>\n",
       "      <th>15</th>\n",
       "      <td>0.0000078152</td>\n",
       "      <td>15</td>\n",
       "    </tr>\n",
       "  </tbody>\n",
       "</table>\n",
       "</div>"
      ],
      "text/plain": [
       "    Global Error $E_n$ at $x_n =0.1$   k\n",
       "0                       0.7970591000   0\n",
       "1                       0.0813224541   1\n",
       "2                       0.0716563660   2\n",
       "3                       0.0338186500   3\n",
       "4                       0.0164449388   4\n",
       "5                       0.0081110427   5\n",
       "6                       0.0040282337   6\n",
       "7                       0.0020073650   7\n",
       "8                       0.0010020032   8\n",
       "9                       0.0005005829   9\n",
       "10                      0.0002501869  10\n",
       "11                      0.0001250673  11\n",
       "12                      0.0000625271  12\n",
       "13                      0.0000312619  13\n",
       "14                      0.0000156306  14\n",
       "15                      0.0000078152  15"
      ]
     },
     "execution_count": 53,
     "metadata": {},
     "output_type": "execute_result"
    },
    {
     "data": {
      "image/png": "[encoded data removed]",
      "text/plain": [
       "<matplotlib.figure.Figure at 0x1c74c9f97b8>"
      ]
     },
     "metadata": {},
     "output_type": "display_data"
    }
   ],
   "source": [
    "q4_error_h_comparison(method='E')"
   ]
  },
  {
   "cell_type": "markdown",
   "metadata": {},
   "source": [
    "Figure 4.1: log-log graph of $|E_n|$ from the Euler method at $x_n = 0.1$, against $h = 0.1/2^k$ over the range $k = 0, 1, 2, \\cdots, 15$."
   ]
  },
  {
   "cell_type": "markdown",
   "metadata": {},
   "source": [
    "Next, implement with the Runge-Kutta method"
   ]
  },
  {
   "cell_type": "code",
   "execution_count": 57,
   "metadata": {
    "collapsed": false,
    "scrolled": false
   },
   "outputs": [
    {
     "data": {
      "text/html": [
       "<div>\n",
       "<table border=\"1\" class=\"dataframe\">\n",
       "  <thead>\n",
       "    <tr style=\"text-align: right;\">\n",
       "      <th></th>\n",
       "      <th>Global Error $E_n$ at $x_n =0.1$</th>\n",
       "      <th>h</th>\n",
       "      <th>k</th>\n",
       "    </tr>\n",
       "  </thead>\n",
       "  <tbody>\n",
       "    <tr>\n",
       "      <th>0</th>\n",
       "      <td>-6.8092244792e-02</td>\n",
       "      <td>0.1000000000</td>\n",
       "      <td>0</td>\n",
       "    </tr>\n",
       "    <tr>\n",
       "      <th>1</th>\n",
       "      <td>-1.4441722695e-03</td>\n",
       "      <td>0.0500000000</td>\n",
       "      <td>1</td>\n",
       "    </tr>\n",
       "    <tr>\n",
       "      <th>2</th>\n",
       "      <td>-9.5406729963e-05</td>\n",
       "      <td>0.0250000000</td>\n",
       "      <td>2</td>\n",
       "    </tr>\n",
       "    <tr>\n",
       "      <th>3</th>\n",
       "      <td>-5.0373166091e-06</td>\n",
       "      <td>0.0125000000</td>\n",
       "      <td>3</td>\n",
       "    </tr>\n",
       "    <tr>\n",
       "      <th>4</th>\n",
       "      <td>-2.8947052877e-07</td>\n",
       "      <td>0.0062500000</td>\n",
       "      <td>4</td>\n",
       "    </tr>\n",
       "    <tr>\n",
       "      <th>5</th>\n",
       "      <td>-1.7349235937e-08</td>\n",
       "      <td>0.0031250000</td>\n",
       "      <td>5</td>\n",
       "    </tr>\n",
       "    <tr>\n",
       "      <th>6</th>\n",
       "      <td>-1.0618581570e-09</td>\n",
       "      <td>0.0015625000</td>\n",
       "      <td>6</td>\n",
       "    </tr>\n",
       "    <tr>\n",
       "      <th>7</th>\n",
       "      <td>-6.5675131999e-11</td>\n",
       "      <td>0.0007812500</td>\n",
       "      <td>7</td>\n",
       "    </tr>\n",
       "    <tr>\n",
       "      <th>8</th>\n",
       "      <td>-4.0830672177e-12</td>\n",
       "      <td>0.0003906250</td>\n",
       "      <td>8</td>\n",
       "    </tr>\n",
       "    <tr>\n",
       "      <th>9</th>\n",
       "      <td>-2.5424107264e-13</td>\n",
       "      <td>0.0001953125</td>\n",
       "      <td>9</td>\n",
       "    </tr>\n",
       "    <tr>\n",
       "      <th>10</th>\n",
       "      <td>-1.6764367672e-14</td>\n",
       "      <td>0.0000976563</td>\n",
       "      <td>10</td>\n",
       "    </tr>\n",
       "    <tr>\n",
       "      <th>11</th>\n",
       "      <td>-1.2212453271e-15</td>\n",
       "      <td>0.0000488281</td>\n",
       "      <td>11</td>\n",
       "    </tr>\n",
       "    <tr>\n",
       "      <th>12</th>\n",
       "      <td>-1.2212453271e-15</td>\n",
       "      <td>0.0000244141</td>\n",
       "      <td>12</td>\n",
       "    </tr>\n",
       "    <tr>\n",
       "      <th>13</th>\n",
       "      <td>2.4424906542e-15</td>\n",
       "      <td>0.0000122070</td>\n",
       "      <td>13</td>\n",
       "    </tr>\n",
       "    <tr>\n",
       "      <th>14</th>\n",
       "      <td>-4.1078251911e-15</td>\n",
       "      <td>0.0000061035</td>\n",
       "      <td>14</td>\n",
       "    </tr>\n",
       "    <tr>\n",
       "      <th>15</th>\n",
       "      <td>-4.9960036108e-15</td>\n",
       "      <td>0.0000030518</td>\n",
       "      <td>15</td>\n",
       "    </tr>\n",
       "  </tbody>\n",
       "</table>\n",
       "</div>"
      ],
      "text/plain": [
       "    Global Error $E_n$ at $x_n =0.1$             h   k\n",
       "0                  -6.8092244792e-02  0.1000000000   0\n",
       "1                  -1.4441722695e-03  0.0500000000   1\n",
       "2                  -9.5406729963e-05  0.0250000000   2\n",
       "3                  -5.0373166091e-06  0.0125000000   3\n",
       "4                  -2.8947052877e-07  0.0062500000   4\n",
       "5                  -1.7349235937e-08  0.0031250000   5\n",
       "6                  -1.0618581570e-09  0.0015625000   6\n",
       "7                  -6.5675131999e-11  0.0007812500   7\n",
       "8                  -4.0830672177e-12  0.0003906250   8\n",
       "9                  -2.5424107264e-13  0.0001953125   9\n",
       "10                 -1.6764367672e-14  0.0000976563  10\n",
       "11                 -1.2212453271e-15  0.0000488281  11\n",
       "12                 -1.2212453271e-15  0.0000244141  12\n",
       "13                  2.4424906542e-15  0.0000122070  13\n",
       "14                 -4.1078251911e-15  0.0000061035  14\n",
       "15                 -4.9960036108e-15  0.0000030518  15"
      ]
     },
     "execution_count": 57,
     "metadata": {},
     "output_type": "execute_result"
    },
    {
     "data": {
      "image/png": "[encoded data removed]",
      "text/plain": [
       "<matplotlib.figure.Figure at 0x1c74e26e748>"
      ]
     },
     "metadata": {},
     "output_type": "display_data"
    }
   ],
   "source": [
    "q4_error_h_comparison(method='RK4')"
   ]
  },
  {
   "cell_type": "markdown",
   "metadata": {},
   "source": [
    "Figure 4.2: log-log graph of $|E_n|$ from the RK4 method at $x_n = 0.1$, against $h = 0.1/2^k$ over the range $k = 0, 1, 2, \\cdots, 15$."
   ]
  },
  {
   "cell_type": "markdown",
   "metadata": {},
   "source": [
    "As expected, decreasing the step size $h$ decreases the magnitude of the global error. The gradient of the graph produced with RK4 is approximately 4 times the gradient of the graph produced with Euler, in agreement with $E_n$ approximately decreasing with order $h$ with Euler, and order $h^4$ with RK4.\n"
   ]
  },
  {
   "cell_type": "markdown",
   "metadata": {},
   "source": [
    "### Question 5"
   ]
  },
  {
   "cell_type": "markdown",
   "metadata": {},
   "source": [
    "We now consider the example\n",
    "\n",
    "$$ \\frac{d y}{d x} = 4y - 5e^{-x}, \\quad y(0) = 1 \\qquad (5.1) $$\n"
   ]
  },
  {
   "cell_type": "markdown",
   "metadata": {},
   "source": [
    "The modified program to implement the forward Euler method is shown at the end of the notebook, labelled \n",
    "\n",
    "```(iv) q5_forward_Euler_method(h=0.001, suppress = True, x_n=10) ```"
   ]
  },
  {
   "cell_type": "markdown",
   "metadata": {},
   "source": [
    "For $x_n = 10$ and $h = 0.001$,"
   ]
  },
  {
   "cell_type": "code",
   "execution_count": 83,
   "metadata": {
    "collapsed": false,
    "scrolled": false
   },
   "outputs": [
    {
     "data": {
      "text/html": [
       "<div>\n",
       "<table border=\"1\" class=\"dataframe\">\n",
       "  <thead>\n",
       "    <tr style=\"text-align: right;\">\n",
       "      <th></th>\n",
       "      <th>$Y_n$ Numerical Solution</th>\n",
       "      <th>$y(x_n)$ Exact Solution</th>\n",
       "      <th>Global Error $E_n$</th>\n",
       "      <th>x_values</th>\n",
       "    </tr>\n",
       "  </thead>\n",
       "  <tbody>\n",
       "    <tr>\n",
       "      <th>0</th>\n",
       "      <td>-6.7537816693e+00</td>\n",
       "      <td>0.6065306597</td>\n",
       "      <td>-7.3603123290e+00</td>\n",
       "      <td>0.5</td>\n",
       "    </tr>\n",
       "    <tr>\n",
       "      <th>1</th>\n",
       "      <td>-5.3801758302e+01</td>\n",
       "      <td>0.3678794412</td>\n",
       "      <td>-5.4169637743e+01</td>\n",
       "      <td>1.0</td>\n",
       "    </tr>\n",
       "    <tr>\n",
       "      <th>2</th>\n",
       "      <td>-3.9844599795e+02</td>\n",
       "      <td>0.2231301601</td>\n",
       "      <td>-3.9866912811e+02</td>\n",
       "      <td>1.5</td>\n",
       "    </tr>\n",
       "    <tr>\n",
       "      <th>3</th>\n",
       "      <td>-2.9339249515e+03</td>\n",
       "      <td>0.1353352832</td>\n",
       "      <td>-2.9340602868e+03</td>\n",
       "      <td>2.0</td>\n",
       "    </tr>\n",
       "    <tr>\n",
       "      <th>4</th>\n",
       "      <td>-2.1593537169e+04</td>\n",
       "      <td>0.0820849986</td>\n",
       "      <td>-2.1593619254e+04</td>\n",
       "      <td>2.5</td>\n",
       "    </tr>\n",
       "    <tr>\n",
       "      <th>5</th>\n",
       "      <td>-1.5892115329e+05</td>\n",
       "      <td>0.0497870684</td>\n",
       "      <td>-1.5892120308e+05</td>\n",
       "      <td>3.0</td>\n",
       "    </tr>\n",
       "    <tr>\n",
       "      <th>6</th>\n",
       "      <td>-1.1696023641e+06</td>\n",
       "      <td>0.0301973834</td>\n",
       "      <td>-1.1696023943e+06</td>\n",
       "      <td>3.5</td>\n",
       "    </tr>\n",
       "    <tr>\n",
       "      <th>7</th>\n",
       "      <td>-8.6078492435e+06</td>\n",
       "      <td>0.0183156389</td>\n",
       "      <td>-8.6078492618e+06</td>\n",
       "      <td>4.0</td>\n",
       "    </tr>\n",
       "    <tr>\n",
       "      <th>8</th>\n",
       "      <td>-6.3350647420e+07</td>\n",
       "      <td>0.0111089965</td>\n",
       "      <td>-6.3350647431e+07</td>\n",
       "      <td>4.5</td>\n",
       "    </tr>\n",
       "    <tr>\n",
       "      <th>9</th>\n",
       "      <td>-4.6623777994e+08</td>\n",
       "      <td>0.0067379470</td>\n",
       "      <td>-4.6623777995e+08</td>\n",
       "      <td>5.0</td>\n",
       "    </tr>\n",
       "    <tr>\n",
       "      <th>10</th>\n",
       "      <td>-3.4313408981e+09</td>\n",
       "      <td>0.0040867714</td>\n",
       "      <td>-3.4313408981e+09</td>\n",
       "      <td>5.5</td>\n",
       "    </tr>\n",
       "    <tr>\n",
       "      <th>11</th>\n",
       "      <td>-2.5253424037e+10</td>\n",
       "      <td>0.0024787522</td>\n",
       "      <td>-2.5253424037e+10</td>\n",
       "      <td>6.0</td>\n",
       "    </tr>\n",
       "    <tr>\n",
       "      <th>12</th>\n",
       "      <td>-1.8585603836e+11</td>\n",
       "      <td>0.0015034392</td>\n",
       "      <td>-1.8585603836e+11</td>\n",
       "      <td>6.5</td>\n",
       "    </tr>\n",
       "    <tr>\n",
       "      <th>13</th>\n",
       "      <td>-1.3678330093e+12</td>\n",
       "      <td>0.0009118820</td>\n",
       "      <td>-1.3678330093e+12</td>\n",
       "      <td>7.0</td>\n",
       "    </tr>\n",
       "    <tr>\n",
       "      <th>14</th>\n",
       "      <td>-1.0066754665e+13</td>\n",
       "      <td>0.0005530844</td>\n",
       "      <td>-1.0066754665e+13</td>\n",
       "      <td>7.5</td>\n",
       "    </tr>\n",
       "    <tr>\n",
       "      <th>15</th>\n",
       "      <td>-7.4087661876e+13</td>\n",
       "      <td>0.0003354626</td>\n",
       "      <td>-7.4087661876e+13</td>\n",
       "      <td>8.0</td>\n",
       "    </tr>\n",
       "    <tr>\n",
       "      <th>16</th>\n",
       "      <td>-5.4525831062e+14</td>\n",
       "      <td>0.0002034684</td>\n",
       "      <td>-5.4525831062e+14</td>\n",
       "      <td>8.5</td>\n",
       "    </tr>\n",
       "    <tr>\n",
       "      <th>17</th>\n",
       "      <td>-4.0129033333e+15</td>\n",
       "      <td>0.0001234098</td>\n",
       "      <td>-4.0129033333e+15</td>\n",
       "      <td>9.0</td>\n",
       "    </tr>\n",
       "    <tr>\n",
       "      <th>18</th>\n",
       "      <td>-2.9533512555e+16</td>\n",
       "      <td>0.0000748518</td>\n",
       "      <td>-2.9533512555e+16</td>\n",
       "      <td>9.5</td>\n",
       "    </tr>\n",
       "    <tr>\n",
       "      <th>19</th>\n",
       "      <td>-2.1735593693e+17</td>\n",
       "      <td>0.0000453999</td>\n",
       "      <td>-2.1735593693e+17</td>\n",
       "      <td>10.0</td>\n",
       "    </tr>\n",
       "  </tbody>\n",
       "</table>\n",
       "</div>"
      ],
      "text/plain": [
       "    $Y_n$ Numerical Solution  $y(x_n)$ Exact Solution  Global Error $E_n$  \\\n",
       "0          -6.7537816693e+00             0.6065306597   -7.3603123290e+00   \n",
       "1          -5.3801758302e+01             0.3678794412   -5.4169637743e+01   \n",
       "2          -3.9844599795e+02             0.2231301601   -3.9866912811e+02   \n",
       "3          -2.9339249515e+03             0.1353352832   -2.9340602868e+03   \n",
       "4          -2.1593537169e+04             0.0820849986   -2.1593619254e+04   \n",
       "5          -1.5892115329e+05             0.0497870684   -1.5892120308e+05   \n",
       "6          -1.1696023641e+06             0.0301973834   -1.1696023943e+06   \n",
       "7          -8.6078492435e+06             0.0183156389   -8.6078492618e+06   \n",
       "8          -6.3350647420e+07             0.0111089965   -6.3350647431e+07   \n",
       "9          -4.6623777994e+08             0.0067379470   -4.6623777995e+08   \n",
       "10         -3.4313408981e+09             0.0040867714   -3.4313408981e+09   \n",
       "11         -2.5253424037e+10             0.0024787522   -2.5253424037e+10   \n",
       "12         -1.8585603836e+11             0.0015034392   -1.8585603836e+11   \n",
       "13         -1.3678330093e+12             0.0009118820   -1.3678330093e+12   \n",
       "14         -1.0066754665e+13             0.0005530844   -1.0066754665e+13   \n",
       "15         -7.4087661876e+13             0.0003354626   -7.4087661876e+13   \n",
       "16         -5.4525831062e+14             0.0002034684   -5.4525831062e+14   \n",
       "17         -4.0129033333e+15             0.0001234098   -4.0129033333e+15   \n",
       "18         -2.9533512555e+16             0.0000748518   -2.9533512555e+16   \n",
       "19         -2.1735593693e+17             0.0000453999   -2.1735593693e+17   \n",
       "\n",
       "    x_values  \n",
       "0        0.5  \n",
       "1        1.0  \n",
       "2        1.5  \n",
       "3        2.0  \n",
       "4        2.5  \n",
       "5        3.0  \n",
       "6        3.5  \n",
       "7        4.0  \n",
       "8        4.5  \n",
       "9        5.0  \n",
       "10       5.5  \n",
       "11       6.0  \n",
       "12       6.5  \n",
       "13       7.0  \n",
       "14       7.5  \n",
       "15       8.0  \n",
       "16       8.5  \n",
       "17       9.0  \n",
       "18       9.5  \n",
       "19      10.0  "
      ]
     },
     "execution_count": 83,
     "metadata": {},
     "output_type": "execute_result"
    }
   ],
   "source": [
    "q5_df = q5_forward_Euler_method()\n",
    "q5_df "
   ]
  },
  {
   "cell_type": "markdown",
   "metadata": {},
   "source": [
    "Clearly the numerical solution does not converge.\n",
    "It is true that the magnitude of the global error grows exponentially with $x$, as verified below by plotting $\\log|E_n|$. The growth rate is approximately 4."
   ]
  },
  {
   "cell_type": "code",
   "execution_count": 84,
   "metadata": {
    "collapsed": false,
    "scrolled": false
   },
   "outputs": [
    {
     "data": {
      "text/plain": [
       "array([ 3.99203639,  3.99202945,  3.99202194,  3.99202133,  3.99202127,\n",
       "        3.99202127,  3.99202127,  3.99202127,  3.99202127,  3.99202127,\n",
       "        3.99202127,  3.99202127,  3.99202127,  3.99202127,  3.99202127,\n",
       "        3.99202127,  3.99202127,  3.99202127,  3.99202127,  3.99202127])"
      ]
     },
     "execution_count": 84,
     "metadata": {},
     "output_type": "execute_result"
    },
    {
     "data": {
      "image/png": "[encoded data removed]",
      "text/plain": [
       "<matplotlib.figure.Figure at 0x1c74e014358>"
      ]
     },
     "metadata": {},
     "output_type": "display_data"
    }
   ],
   "source": [
    "growth_rate_estimate(q5_df,graph=True)"
   ]
  },
  {
   "cell_type": "markdown",
   "metadata": {},
   "source": [
    "Figure 5.1: Illustration that the magnitude of the global error oscillates proprotional to $e^{4x}$"
   ]
  },
  {
   "cell_type": "markdown",
   "metadata": {},
   "source": [
    "The corresponding Euler difference equatation is \n",
    "\n"
   ]
  },
  {
   "cell_type": "markdown",
   "metadata": {},
   "source": [
    "$$  Y_{n+1} =  Y_n + h (4 Y_n - 5(e^{-h})^{n}) , \\quad Y_0 = 1 \\qquad (5.2) $$\n",
    "\n",
    "which is solved similarly to (2.1) by rearranging to"
   ]
  },
  {
   "cell_type": "markdown",
   "metadata": {},
   "source": [
    "$$  Y_{n+1} - (1+4h)Y_{n} = - 5h (e^{-h})^{n}  $$\n",
    "\n",
    "In the homogenous case, ansatz $ Y_{n} = A k^{n}, k \\neq 0 $, which yields $ k = (1 + 4h) $. For the particular integral, we ansatz $  y_{n}^{p} = C (e^{-h})^{n} $, determining the constant $ C $ to be $ - 5h / (e^{-h} - 1 - 4h) $ "
   ]
  },
  {
   "cell_type": "markdown",
   "metadata": {},
   "source": [
    "Thus the general solution is given by\n",
    "\n",
    "$$ Y_{n} = A (1 + 4h)^{n}  +  \\frac{-5 h}{e^{-h} -1 - 4h } (e^{-h})^{n} $$\n",
    "\n",
    "Using the initial condition $Y_0=1$ to find the constant $A$, the solution is given by\n",
    "\n",
    "$$ Y_{n} = \\frac{1}{e^{-h} - 1 - 4h}  \\left(  -5h(e^{-h})^{n} - (e^{-h} - 1 + h)(1 + 4h)^{n}  \\right) $$"
   ]
  },
  {
   "cell_type": "markdown",
   "metadata": {},
   "source": [
    "Hence, we see that $(1+4h)^n \\to \\infty $ as $n \\to \\infty $, no matter how small the value of $h$ we choose, as $(1+4h) > 1$. \n",
    "Computationally, the surviving term with $x_n = nh $ coverges to $e^{4x}$, thus explaning the growth rate"
   ]
  },
  {
   "cell_type": "markdown",
   "metadata": {},
   "source": [
    "By the same reasoning, Runge-Kutta method will also diverge for any $h$. No numerical solution can be found."
   ]
  },
  {
   "cell_type": "markdown",
   "metadata": {},
   "source": [
    "## Numerical Solutions of second-order ODEs"
   ]
  },
  {
   "cell_type": "markdown",
   "metadata": {},
   "source": [
    "### Question 6\n",
    "\n",
    "Have that \n",
    "\n",
    "\n",
    "$$\\frac{\\mathrm{d}^{2} y }{\\mathrm{d} x^{2} } + p^{2}(1+x)^{-4} = 0 \\qquad (6.1) $$ \n",
    "\n",
    "\n",
    "With $p=0$ equation (6.1) has general solution \n",
    "\n",
    "$$ y = \\begin{cases} A(1+x)\\sin(p(1+x)^{-1} - \\phi )  & \\text{ if } p \\neq 0 \\\\ Bx + C & \\text{ if } p = 0 \\end{cases} $$\n",
    "\n",
    "The particular solution for the ODE that satisfies \n",
    "\n",
    "$$ y = 0, \\quad \\mathrm{d} y / \\mathrm{d} x = 1 \\; \\text{ at } \\; x = 0  $$\n",
    "\n",
    "is found as follows. "
   ]
  },
  {
   "cell_type": "markdown",
   "metadata": {},
   "source": [
    "First, the $ p \\neq 0 $  case: Applying the boundary condition $ y(0) = 0 $ to (6.1) gives\n",
    "\n",
    "$$ A \\sin ( p - \\phi) = 0 $$ \n",
    "\n",
    "Thus as $A \\neq 0$ we have $ p - \\phi = n \\pi $. Next,\n",
    "\n",
    "$$  \\frac{\\mathrm{d} y}{\\mathrm{d} x}= A(1+x)\\cos(p(1+x)^{-1} - \\phi ) (-p(1+x)^{-2})  + A\\sin(p(1+x)^{-1} - \\phi ) $$\n",
    "\n",
    "Thus\n",
    " \n",
    "\\begin{align*}\n",
    "\\frac{\\mathrm{d} y}{\\mathrm{d} x} \\Big|_{x=0} & = -Ap \\cos(p - \\phi ) \\\\\n",
    "& = -Ap (-1)^{n}\n",
    "\\end{align*}\n",
    "\n",
    "yielding $ A = (-1)^{n+1}/p $. Thus the particular solution is given by"
   ]
  },
  {
   "cell_type": "markdown",
   "metadata": {},
   "source": [
    "\\begin{align*}\n",
    "y & = (-1)^{n+1} p^{-1} (1+x) \\sin(-xp(1+x)^{-1} + n \\pi) \\\\\n",
    "\\end{align*}"
   ]
  },
  {
   "cell_type": "markdown",
   "metadata": {},
   "source": [
    "which simplifies to"
   ]
  },
  {
   "cell_type": "markdown",
   "metadata": {},
   "source": [
    "\\begin{align*}\n",
    "y & = p^{-1} (1+x) \\sin(xp(1+x)^{-1} )\n",
    "\\end{align*}"
   ]
  },
  {
   "cell_type": "markdown",
   "metadata": {},
   "source": [
    "Simalrly for $p=0$ we yield $B=1, C = 0$.\n",
    "\n",
    "Therefore the particular solution is given by\n",
    "\n",
    "$$ y = \\begin{cases} p^{-1} (1+x) \\sin(xp(1+x)^{-1} )  & \\text{ if } p \\neq 0 \\\\ x  & \\text{ if } p = 0 \\end{cases} $$"
   ]
  },
  {
   "cell_type": "markdown",
   "metadata": {},
   "source": [
    "If instead (6.1) satifies the boundary conditions "
   ]
  },
  {
   "cell_type": "markdown",
   "metadata": {},
   "source": [
    "$$ y(0) = y(1) = 0 \\qquad (6.2) $$"
   ]
  },
  {
   "cell_type": "markdown",
   "metadata": {},
   "source": [
    "Have already shown that $y(0)=0$ yields\n",
    "\n",
    "\n",
    "$$  p - \\phi = m \\pi, \\quad m \\in \\mathbb{Z}  \\qquad (6.3) $$\n",
    "\n",
    "\n",
    "while the $y(1)= 0$ boundary condition yields\n",
    "\n",
    "$$ \\sin (p/2 - \\phi) = 0 $$\n",
    "\n",
    "using (6.3) this becomes $$ \\sin (p/2 - p + m \\pi) = 0 $$\n",
    "\n",
    "$$(-1)^m \\sin (p/2) = 0 \\implies p = 2 n \\pi, \\quad n \\in \\mathbb{Z} $$ \n"
   ]
  },
  {
   "cell_type": "markdown",
   "metadata": {},
   "source": [
    "Note that $p \\neq 0 \\implies n \\neq 0$. The smallest non-negative eigenvalue $p= 2\\pi $ when $n=1$.\n",
    "\n",
    "The corresponding (unnormalised) eigenfunctions are given by\n",
    "\n",
    "$$ y_n =  (1+x)\\sin(2n \\pi(1+x)^{-1} + (m - 2n) \\pi ) $$"
   ]
  },
  {
   "cell_type": "markdown",
   "metadata": {},
   "source": [
    "ie.\n",
    "\n",
    "$$ y_n = (1+x)\\sin(2n \\pi(1+x)^{-1})  $$"
   ]
  },
  {
   "cell_type": "markdown",
   "metadata": {},
   "source": [
    "where we have omitted the factor of $(-1)^m$"
   ]
  },
  {
   "cell_type": "markdown",
   "metadata": {},
   "source": [
    "### Programming Task"
   ]
  },
  {
   "cell_type": "markdown",
   "metadata": {},
   "source": [
    "The program to compute the numerical approximation to the system of equations"
   ]
  },
  {
   "cell_type": "markdown",
   "metadata": {},
   "source": [
    "$$  \\frac{\\mathrm{d}y}{\\mathrm{d} x} = z, \\qquad \\frac{\\mathrm{d} z}{\\mathrm{d} x} = -p^{2}(1+x)^{-\\alpha}y \\qquad (6.4) $$\n",
    "\n",
    "with inital condition\n",
    "\n",
    "$$  y = 0, \\; \\mathrm{d} y / \\mathrm{d} x = 1 \\text{  at  } x = 0 \\qquad (6.5) $$"
   ]
  },
  {
   "cell_type": "markdown",
   "metadata": {},
   "source": [
    "using the vector generalization of the RK4 method is shown at the end of the notebook, labelled"
   ]
  },
  {
   "cell_type": "markdown",
   "metadata": {},
   "source": [
    "```vector_rk4_method(h = 0.1, p = 6, graph = False,x_n = 1):```"
   ]
  },
  {
   "cell_type": "markdown",
   "metadata": {},
   "source": [
    "### Question 7"
   ]
  },
  {
   "cell_type": "markdown",
   "metadata": {},
   "source": [
    "The program tabulating the numerical solution is shown at the end of the notebook, labelled \n",
    "\n",
    "```(ii) q7_error_h_comparison(p=6)```"
   ]
  },
  {
   "cell_type": "markdown",
   "metadata": {},
   "source": [
    "For $p = 6$,"
   ]
  },
  {
   "cell_type": "code",
   "execution_count": 96,
   "metadata": {
    "collapsed": false
   },
   "outputs": [
    {
     "data": {
      "text/html": [
       "<div>\n",
       "<table border=\"1\" class=\"dataframe\">\n",
       "  <thead>\n",
       "    <tr style=\"text-align: right;\">\n",
       "      <th></th>\n",
       "      <th>$Y_n$ Numerical Solution</th>\n",
       "      <th>Global Error $E_n$</th>\n",
       "      <th>h</th>\n",
       "    </tr>\n",
       "  </thead>\n",
       "  <tbody>\n",
       "    <tr>\n",
       "      <th>0</th>\n",
       "      <td>0.0471181746</td>\n",
       "      <td>7.8171898068e-05</td>\n",
       "      <td>0.1000000000</td>\n",
       "    </tr>\n",
       "    <tr>\n",
       "      <th>1</th>\n",
       "      <td>0.0470468192</td>\n",
       "      <td>6.8165573453e-06</td>\n",
       "      <td>0.0500000000</td>\n",
       "    </tr>\n",
       "    <tr>\n",
       "      <th>2</th>\n",
       "      <td>0.0470404684</td>\n",
       "      <td>4.6573967424e-07</td>\n",
       "      <td>0.0250000000</td>\n",
       "    </tr>\n",
       "    <tr>\n",
       "      <th>3</th>\n",
       "      <td>0.0470400327</td>\n",
       "      <td>2.9972320757e-08</td>\n",
       "      <td>0.0125000000</td>\n",
       "    </tr>\n",
       "    <tr>\n",
       "      <th>4</th>\n",
       "      <td>0.0470400046</td>\n",
       "      <td>1.8940948185e-09</td>\n",
       "      <td>0.0062500000</td>\n",
       "    </tr>\n",
       "    <tr>\n",
       "      <th>5</th>\n",
       "      <td>0.0470400028</td>\n",
       "      <td>1.1893393215e-10</td>\n",
       "      <td>0.0031250000</td>\n",
       "    </tr>\n",
       "    <tr>\n",
       "      <th>6</th>\n",
       "      <td>0.0470400027</td>\n",
       "      <td>7.4489650559e-12</td>\n",
       "      <td>0.0015625000</td>\n",
       "    </tr>\n",
       "    <tr>\n",
       "      <th>7</th>\n",
       "      <td>0.0470400027</td>\n",
       "      <td>4.6564835321e-13</td>\n",
       "      <td>0.0007812500</td>\n",
       "    </tr>\n",
       "    <tr>\n",
       "      <th>8</th>\n",
       "      <td>0.0470400027</td>\n",
       "      <td>2.8962943155e-14</td>\n",
       "      <td>0.0003906250</td>\n",
       "    </tr>\n",
       "    <tr>\n",
       "      <th>9</th>\n",
       "      <td>0.0470400027</td>\n",
       "      <td>1.5334955528e-15</td>\n",
       "      <td>0.0001953125</td>\n",
       "    </tr>\n",
       "    <tr>\n",
       "      <th>10</th>\n",
       "      <td>0.0470400027</td>\n",
       "      <td>-3.2612801348e-16</td>\n",
       "      <td>0.0000976563</td>\n",
       "    </tr>\n",
       "    <tr>\n",
       "      <th>11</th>\n",
       "      <td>0.0470400027</td>\n",
       "      <td>2.8449465006e-16</td>\n",
       "      <td>0.0000488281</td>\n",
       "    </tr>\n",
       "    <tr>\n",
       "      <th>12</th>\n",
       "      <td>0.0470400027</td>\n",
       "      <td>-7.6327832943e-17</td>\n",
       "      <td>0.0000244141</td>\n",
       "    </tr>\n",
       "  </tbody>\n",
       "</table>\n",
       "</div>"
      ],
      "text/plain": [
       "    $Y_n$ Numerical Solution  Global Error $E_n$             h\n",
       "0               0.0471181746    7.8171898068e-05  0.1000000000\n",
       "1               0.0470468192    6.8165573453e-06  0.0500000000\n",
       "2               0.0470404684    4.6573967424e-07  0.0250000000\n",
       "3               0.0470400327    2.9972320757e-08  0.0125000000\n",
       "4               0.0470400046    1.8940948185e-09  0.0062500000\n",
       "5               0.0470400028    1.1893393215e-10  0.0031250000\n",
       "6               0.0470400027    7.4489650559e-12  0.0015625000\n",
       "7               0.0470400027    4.6564835321e-13  0.0007812500\n",
       "8               0.0470400027    2.8962943155e-14  0.0003906250\n",
       "9               0.0470400027    1.5334955528e-15  0.0001953125\n",
       "10              0.0470400027   -3.2612801348e-16  0.0000976563\n",
       "11              0.0470400027    2.8449465006e-16  0.0000488281\n",
       "12              0.0470400027   -7.6327832943e-17  0.0000244141"
      ]
     },
     "execution_count": 96,
     "metadata": {},
     "output_type": "execute_result"
    },
    {
     "data": {
      "image/png": "[encoded data removed]",
      "text/plain": [
       "<matplotlib.figure.Figure at 0x1c74e03ada0>"
      ]
     },
     "metadata": {},
     "output_type": "display_data"
    }
   ],
   "source": [
    "q7_error_h_comparison(p=6)"
   ]
  },
  {
   "cell_type": "code",
   "execution_count": 98,
   "metadata": {
    "collapsed": false,
    "scrolled": false
   },
   "outputs": [
    {
     "data": {
      "text/html": [
       "<div>\n",
       "<table border=\"1\" class=\"dataframe\">\n",
       "  <thead>\n",
       "    <tr style=\"text-align: right;\">\n",
       "      <th></th>\n",
       "      <th>$Y_n$ Numerical Solution</th>\n",
       "      <th>Global Error $E_n$</th>\n",
       "      <th>h</th>\n",
       "    </tr>\n",
       "  </thead>\n",
       "  <tbody>\n",
       "    <tr>\n",
       "      <th>0</th>\n",
       "      <td>-0.0999497667</td>\n",
       "      <td>2.7401267604e-04</td>\n",
       "      <td>0.1000000000</td>\n",
       "    </tr>\n",
       "    <tr>\n",
       "      <th>1</th>\n",
       "      <td>-0.1002052535</td>\n",
       "      <td>1.8525881502e-05</td>\n",
       "      <td>0.0500000000</td>\n",
       "    </tr>\n",
       "    <tr>\n",
       "      <th>2</th>\n",
       "      <td>-0.1002226380</td>\n",
       "      <td>1.1413408197e-06</td>\n",
       "      <td>0.0250000000</td>\n",
       "    </tr>\n",
       "    <tr>\n",
       "      <th>3</th>\n",
       "      <td>-0.1002237095</td>\n",
       "      <td>6.9846123968e-08</td>\n",
       "      <td>0.0125000000</td>\n",
       "    </tr>\n",
       "    <tr>\n",
       "      <th>4</th>\n",
       "      <td>-0.1002237750</td>\n",
       "      <td>4.3038807795e-09</td>\n",
       "      <td>0.0062500000</td>\n",
       "    </tr>\n",
       "    <tr>\n",
       "      <th>5</th>\n",
       "      <td>-0.1002237791</td>\n",
       "      <td>2.6683877330e-10</td>\n",
       "      <td>0.0031250000</td>\n",
       "    </tr>\n",
       "    <tr>\n",
       "      <th>6</th>\n",
       "      <td>-0.1002237793</td>\n",
       "      <td>1.6606452324e-11</td>\n",
       "      <td>0.0015625000</td>\n",
       "    </tr>\n",
       "    <tr>\n",
       "      <th>7</th>\n",
       "      <td>-0.1002237793</td>\n",
       "      <td>1.0352829705e-12</td>\n",
       "      <td>0.0007812500</td>\n",
       "    </tr>\n",
       "    <tr>\n",
       "      <th>8</th>\n",
       "      <td>-0.1002237793</td>\n",
       "      <td>6.4892535789e-14</td>\n",
       "      <td>0.0003906250</td>\n",
       "    </tr>\n",
       "    <tr>\n",
       "      <th>9</th>\n",
       "      <td>-0.1002237793</td>\n",
       "      <td>3.9412917374e-15</td>\n",
       "      <td>0.0001953125</td>\n",
       "    </tr>\n",
       "    <tr>\n",
       "      <th>10</th>\n",
       "      <td>-0.1002237793</td>\n",
       "      <td>4.8572257327e-16</td>\n",
       "      <td>0.0000976563</td>\n",
       "    </tr>\n",
       "    <tr>\n",
       "      <th>11</th>\n",
       "      <td>-0.1002237793</td>\n",
       "      <td>1.4849232954e-15</td>\n",
       "      <td>0.0000488281</td>\n",
       "    </tr>\n",
       "    <tr>\n",
       "      <th>12</th>\n",
       "      <td>-0.1002237793</td>\n",
       "      <td>1.9151347175e-15</td>\n",
       "      <td>0.0000244141</td>\n",
       "    </tr>\n",
       "  </tbody>\n",
       "</table>\n",
       "</div>"
      ],
      "text/plain": [
       "    $Y_n$ Numerical Solution  Global Error $E_n$             h\n",
       "0              -0.0999497667    2.7401267604e-04  0.1000000000\n",
       "1              -0.1002052535    1.8525881502e-05  0.0500000000\n",
       "2              -0.1002226380    1.1413408197e-06  0.0250000000\n",
       "3              -0.1002237095    6.9846123968e-08  0.0125000000\n",
       "4              -0.1002237750    4.3038807795e-09  0.0062500000\n",
       "5              -0.1002237791    2.6683877330e-10  0.0031250000\n",
       "6              -0.1002237793    1.6606452324e-11  0.0015625000\n",
       "7              -0.1002237793    1.0352829705e-12  0.0007812500\n",
       "8              -0.1002237793    6.4892535789e-14  0.0003906250\n",
       "9              -0.1002237793    3.9412917374e-15  0.0001953125\n",
       "10             -0.1002237793    4.8572257327e-16  0.0000976563\n",
       "11             -0.1002237793    1.4849232954e-15  0.0000488281\n",
       "12             -0.1002237793    1.9151347175e-15  0.0000244141"
      ]
     },
     "execution_count": 98,
     "metadata": {},
     "output_type": "execute_result"
    },
    {
     "data": {
      "image/png": "[encoded data removed]",
      "text/plain": [
       "<matplotlib.figure.Figure at 0x1c74f448a20>"
      ]
     },
     "metadata": {},
     "output_type": "display_data"
    }
   ],
   "source": [
    "q7_error_h_comparison(p=7)"
   ]
  },
  {
   "cell_type": "markdown",
   "metadata": {},
   "source": [
    "In both cases it can be seen that the gradient of the graph is approximately 4, clarifying the 4th order accuarcy of the RK4 method."
   ]
  },
  {
   "cell_type": "markdown",
   "metadata": {},
   "source": [
    "### Programming Task"
   ]
  },
  {
   "cell_type": "markdown",
   "metadata": {},
   "source": [
    "The program to search for eigenvalues of the system\n",
    "\n",
    "$$\\frac{\\mathrm{d}^{2} y }{\\mathrm{d} x^{2} } + p^{2}(1+x)^{-4} = 0 \\qquad (6.1) $$ \n",
    "\n",
    "$$ y = 0, \\quad \\mathrm{d} y / \\mathrm{d} x = 1 \\; \\text{ at } \\; x = 0  $$"
   ]
  },
  {
   "cell_type": "markdown",
   "metadata": {},
   "source": [
    "with $g(p)$ taken as the numerical solution $Y_n$ at $x_n = 1$, with a suitably small value of $h$, is shown at the end of the notebook, labelled"
   ]
  },
  {
   "cell_type": "markdown",
   "metadata": {},
   "source": [
    "```(iii) q8```"
   ]
  },
  {
   "cell_type": "markdown",
   "metadata": {},
   "source": [
    "### Question 9"
   ]
  },
  {
   "cell_type": "markdown",
   "metadata": {},
   "source": [
    "The modified program to give the numerical solution to the system (12a)-(12b) with $alpha=8$ (using RK4) is shown at the end of the notebook, labelled "
   ]
  },
  {
   "cell_type": "markdown",
   "metadata": {},
   "source": [
    "q9_vector_rk4_method(h = 0.1, p = 6, graph = False,x_n = 1):"
   ]
  },
  {
   "cell_type": "markdown",
   "metadata": {},
   "source": [
    "and the program to search for eigenvalues within a given range $[p1,p2]$ is "
   ]
  },
  {
   "cell_type": "markdown",
   "metadata": {},
   "source": [
    "`q9_eval_search(h=0.001,epsilon = 2.5e-6, p1 = 0, p2 = 7)`"
   ]
  },
  {
   "cell_type": "markdown",
   "metadata": {},
   "source": [
    "As we do not know where the eigenvalues lie, we first write a small function that will iterate through the positive integers, returning pairs in between which the function changes sign."
   ]
  },
  {
   "cell_type": "code",
   "execution_count": 155,
   "metadata": {
    "collapsed": false
   },
   "outputs": [
    {
     "data": {
      "text/html": [
       "<div>\n",
       "<table border=\"1\" class=\"dataframe\">\n",
       "  <thead>\n",
       "    <tr style=\"text-align: right;\">\n",
       "      <th></th>\n",
       "      <th>$Y_n$ Numerical Solution</th>\n",
       "      <th>x_values</th>\n",
       "    </tr>\n",
       "  </thead>\n",
       "  <tbody>\n",
       "    <tr>\n",
       "      <th>0</th>\n",
       "      <td>-0.1211319506</td>\n",
       "      <td>0.1</td>\n",
       "    </tr>\n",
       "    <tr>\n",
       "      <th>1</th>\n",
       "      <td>0.0257226477</td>\n",
       "      <td>0.2</td>\n",
       "    </tr>\n",
       "    <tr>\n",
       "      <th>2</th>\n",
       "      <td>-0.0509919001</td>\n",
       "      <td>0.3</td>\n",
       "    </tr>\n",
       "    <tr>\n",
       "      <th>3</th>\n",
       "      <td>-0.0238480658</td>\n",
       "      <td>0.4</td>\n",
       "    </tr>\n",
       "    <tr>\n",
       "      <th>4</th>\n",
       "      <td>0.0364793153</td>\n",
       "      <td>0.5</td>\n",
       "    </tr>\n",
       "    <tr>\n",
       "      <th>5</th>\n",
       "      <td>0.0733652524</td>\n",
       "      <td>0.6</td>\n",
       "    </tr>\n",
       "    <tr>\n",
       "      <th>6</th>\n",
       "      <td>0.0781635865</td>\n",
       "      <td>0.7</td>\n",
       "    </tr>\n",
       "    <tr>\n",
       "      <th>7</th>\n",
       "      <td>0.0609343944</td>\n",
       "      <td>0.8</td>\n",
       "    </tr>\n",
       "    <tr>\n",
       "      <th>8</th>\n",
       "      <td>0.0325185999</td>\n",
       "      <td>0.9</td>\n",
       "    </tr>\n",
       "    <tr>\n",
       "      <th>9</th>\n",
       "      <td>0.0000705723</td>\n",
       "      <td>1.0</td>\n",
       "    </tr>\n",
       "  </tbody>\n",
       "</table>\n",
       "</div>"
      ],
      "text/plain": [
       "   $Y_n$ Numerical Solution  x_values\n",
       "0             -0.1211319506       0.1\n",
       "1              0.0257226477       0.2\n",
       "2             -0.0509919001       0.3\n",
       "3             -0.0238480658       0.4\n",
       "4              0.0364793153       0.5\n",
       "5              0.0733652524       0.6\n",
       "6              0.0781635865       0.7\n",
       "7              0.0609343944       0.8\n",
       "8              0.0325185999       0.9\n",
       "9              0.0000705723       1.0"
      ]
     },
     "execution_count": 155,
     "metadata": {},
     "output_type": "execute_result"
    }
   ],
   "source": [
    "q9_vector_rk4_method(p=44.275)"
   ]
  },
  {
   "cell_type": "code",
   "execution_count": 170,
   "metadata": {
    "collapsed": false
   },
   "outputs": [
    {
     "data": {
      "text/plain": [
       "[<matplotlib.lines.Line2D at 0x214516b9128>]"
      ]
     },
     "execution_count": 170,
     "metadata": {},
     "output_type": "execute_result"
    },
    {
     "data": {
      "image/png": "[encoded data removed]",
      "text/plain": [
       "<matplotlib.figure.Figure at 0x214516b9080>"
      ]
     },
     "metadata": {},
     "output_type": "display_data"
    }
   ],
   "source": [
    "x = np.linspace(10,60,100)\n",
    "y = list(map(lambda x: q9_vector_rk4_method(h=0.001,p=x).values[-1,0],x))\n",
    "z = np.zeros_like(x)\n",
    "plt.plot(x,y)\n",
    "plt.plot(x,z)"
   ]
  },
  {
   "cell_type": "code",
   "execution_count": null,
   "metadata": {
    "collapsed": true
   },
   "outputs": [],
   "source": []
  },
  {
   "cell_type": "code",
   "execution_count": 171,
   "metadata": {
    "collapsed": false
   },
   "outputs": [
    {
     "data": {
      "text/plain": [
       "[10, 21, 29, 38, 44, 56]"
      ]
     },
     "execution_count": 171,
     "metadata": {},
     "output_type": "execute_result"
    }
   ],
   "source": [
    "t = []\n",
    "i = 0\n",
    "while len(t) < 6:\n",
    "    r0 = q9_vector_rk4_method(p=i).values[-1,0]\n",
    "    r1 = q9_vector_rk4_method(p=i+1).values[-1,0]\n",
    "    if np.sign(r1) - np.sign(r0) != 0:\n",
    "        t.append(i)\n",
    "    i = i+1    \n",
    "t"
   ]
  },
  {
   "cell_type": "code",
   "execution_count": 144,
   "metadata": {
    "collapsed": false
   },
   "outputs": [
    {
     "name": "stdout",
     "output_type": "stream",
     "text": [
      "4.45735775579e-07\n",
      "             est             p1             p2\n",
      "0  42.8003336115  44.2500000000  44.3000000000\n",
      "1  42.8003336115  44.2500000000  42.8003336115\n",
      "2  42.9278450387  42.9278450387  42.8003336115\n",
      "3  42.9213475318  42.9213475318  42.8003336115\n"
     ]
    }
   ],
   "source": [
    "q9_eval_search(h=0.01,epsilon = 2.5e-6, p1 = 44.25, p2 = 44.3)"
   ]
  },
  {
   "cell_type": "code",
   "execution_count": 116,
   "metadata": {
    "collapsed": false,
    "scrolled": true
   },
   "outputs": [
    {
     "name": "stdout",
     "output_type": "stream",
     "text": [
      "-1.0238561052e-07\n",
      "             est             p1             p2\n",
      "0  52.6874596051  56.0000000000  57.0000000000\n",
      "1  52.6874596051  52.6874596051  57.0000000000\n",
      "2  53.9007681895  52.6874596051  53.9007681895\n",
      "3  53.7203073990  52.6874596051  53.7203073990\n",
      "4  53.7191165613  52.6874596051  53.7191165613\n"
     ]
    }
   ],
   "source": [
    "q9_eval_search(h=0.001,epsilon = 2.5e-6, p1 = 56, p2 = 57)"
   ]
  },
  {
   "cell_type": "code",
   "execution_count": 139,
   "metadata": {
    "collapsed": false,
    "scrolled": true
   },
   "outputs": [
    {
     "name": "stdout",
     "output_type": "stream",
     "text": [
      "8.15609643057e-08\n",
      "             est             p1  p2\n",
      "0  10.3267148995   9.0000000000  10\n",
      "1  10.3267148995  10.3267148995  10\n",
      "2  10.3579818366  10.3579818366  10\n",
      "3  10.3588937190  10.3588937190  10\n",
      "4  10.3589204478  10.3589204478  10\n",
      "-5.05830605345e-07\n",
      "             est  p1             p2\n",
      "0  21.2558924254  20  21.0000000000\n",
      "1  21.2558924254  20  21.2558924254\n",
      "2  21.2636514979  20  21.2636514979\n",
      "3  21.2639199624  20  21.2639199624\n",
      "-1.96723509908e-07\n",
      "             est            p1             p2\n",
      "0  33.4360958634  28.000000000  29.0000000000\n",
      "1  33.4360958634  28.000000000  33.4360958634\n",
      "2  32.0514711180  32.051471118  33.4360958634\n",
      "3  32.1088987477  32.051471118  32.1088987477\n",
      "4  32.1053909117  32.051471118  32.1053909117\n",
      "4.10353317537e-09\n",
      "              est              p1              p2\n",
      "0   77.9515971024   37.0000000000   38.0000000000\n",
      "1   77.9515971024   37.0000000000   77.9515971024\n",
      "2   98.9915240009   37.0000000000   98.9915240009\n",
      "3  116.7853800279  116.7853800279   98.9915240009\n",
      "4  109.6624030888  109.6624030888   98.9915240009\n",
      "5  104.7188990321  109.6624030888  104.7188990321\n",
      "6  107.6162420610  109.6624030888  107.6162420610\n",
      "7  107.6412074109  107.6412074109  107.6162420610\n",
      "8  107.6393701710  107.6393701710  107.6162420610\n",
      "1.78038457005e-07\n",
      "             est            p1             p2\n",
      "0  42.9158713762  43.000000000  44.0000000000\n",
      "1  42.9158713762  43.000000000  42.9158713762\n",
      "2  42.9193431370  42.919343137  42.9158713762\n",
      "-1.98202039141e-06\n",
      "             est             p1             p2\n",
      "0  53.4893667214  55.0000000000  56.0000000000\n",
      "1  53.4893667214  53.4893667214  56.0000000000\n",
      "2  53.7451630018  53.4893667214  53.7451630018\n",
      "3  53.7192041016  53.4893667214  53.7192041016\n",
      "3.07506842331e-09\n",
      "             est             p1             p2\n",
      "0  64.4777637462  65.0000000000  66.0000000000\n",
      "1  64.4777637462  65.0000000000  64.4777637462\n",
      "2  64.5110236507  64.5110236507  64.4777637462\n",
      "3  64.5106726684  64.5106726684  64.4777637462\n",
      "-2.28950029413e-07\n",
      "             est             p1             p2\n",
      "0  73.6202513412  78.0000000000  79.0000000000\n",
      "1  73.6202513412  73.6202513412  79.0000000000\n",
      "2  75.5755312966  73.6202513412  75.5755312966\n",
      "3  75.2939390044  75.2939390044  75.5755312966\n",
      "4  75.2970848399  75.2939390044  75.2970848399\n",
      "-1.80345602285e-06\n",
      "             est             p1             p2\n",
      "0  97.2226868409  94.0000000000  95.0000000000\n",
      "1  97.2226868409  94.0000000000  97.2226868409\n",
      "2  96.8329142407  96.8329142407  97.2226868409\n",
      "3  96.8607180699  96.8329142407  96.8607180699\n",
      "9.365097193e-07\n",
      "              est              p1              p2\n",
      "0  107.6223529242  108.0000000000  109.0000000000\n",
      "1  107.6223529242  108.0000000000  107.6223529242\n",
      "2  107.6394564785  107.6394564785  107.6223529242\n",
      "3.20701461988e-08\n",
      "              est              p1              p2\n",
      "0  127.4076783056  132.0000000000  133.0000000000\n",
      "1  127.4076783056  132.0000000000  127.4076783056\n",
      "2  129.3079587538  129.3079587538  127.4076783056\n",
      "3  129.1900341065  129.3079587538  129.1900341065\n",
      "4  129.1933828821  129.1933828821  129.1900341065\n",
      "-4.53341231691e-07\n",
      "              est   p1   p2\n",
      "0  150.7441753449  150  151\n"
     ]
    }
   ],
   "source": [
    "for ele in t:\n",
    "    q9_eval_search(h=0.001,epsilon = 2.5e-6, p1 = ele-1, p2 = ele)\n",
    "    "
   ]
  },
  {
   "cell_type": "code",
   "execution_count": 161,
   "metadata": {
    "collapsed": true
   },
   "outputs": [],
   "source": [
    "plist = [p1,p2,p3,p4,p5,poww]"
   ]
  },
  {
   "cell_type": "code",
   "execution_count": 160,
   "metadata": {
    "collapsed": false
   },
   "outputs": [],
   "source": [
    "p1 = 10.3589391807\n",
    "p2 = 21.263929800 \n",
    "p3 = 32.1053853815\n",
    "p4 = 42.9193379399\n",
    "p5 = 53.7191165613\n",
    "poww = 44.275"
   ]
  },
  {
   "cell_type": "code",
   "execution_count": 110,
   "metadata": {
    "collapsed": false
   },
   "outputs": [],
   "source": []
  },
  {
   "cell_type": "code",
   "execution_count": null,
   "metadata": {
    "collapsed": true
   },
   "outputs": [],
   "source": []
  },
  {
   "cell_type": "code",
   "execution_count": 163,
   "metadata": {
    "collapsed": false,
    "scrolled": true
   },
   "outputs": [
    {
     "data": {
      "text/html": [
       "<div>\n",
       "<table border=\"1\" class=\"dataframe\">\n",
       "  <thead>\n",
       "    <tr style=\"text-align: right;\">\n",
       "      <th></th>\n",
       "      <th>$Y_n$ Numerical Solution</th>\n",
       "      <th>x_values</th>\n",
       "    </tr>\n",
       "  </thead>\n",
       "  <tbody>\n",
       "    <tr>\n",
       "      <th>0</th>\n",
       "      <td>-0.1211319506</td>\n",
       "      <td>0.1</td>\n",
       "    </tr>\n",
       "    <tr>\n",
       "      <th>1</th>\n",
       "      <td>0.0257226477</td>\n",
       "      <td>0.2</td>\n",
       "    </tr>\n",
       "    <tr>\n",
       "      <th>2</th>\n",
       "      <td>-0.0509919001</td>\n",
       "      <td>0.3</td>\n",
       "    </tr>\n",
       "    <tr>\n",
       "      <th>3</th>\n",
       "      <td>-0.0238480658</td>\n",
       "      <td>0.4</td>\n",
       "    </tr>\n",
       "    <tr>\n",
       "      <th>4</th>\n",
       "      <td>0.0364793153</td>\n",
       "      <td>0.5</td>\n",
       "    </tr>\n",
       "    <tr>\n",
       "      <th>5</th>\n",
       "      <td>0.0733652524</td>\n",
       "      <td>0.6</td>\n",
       "    </tr>\n",
       "    <tr>\n",
       "      <th>6</th>\n",
       "      <td>0.0781635865</td>\n",
       "      <td>0.7</td>\n",
       "    </tr>\n",
       "    <tr>\n",
       "      <th>7</th>\n",
       "      <td>0.0609343944</td>\n",
       "      <td>0.8</td>\n",
       "    </tr>\n",
       "    <tr>\n",
       "      <th>8</th>\n",
       "      <td>0.0325185999</td>\n",
       "      <td>0.9</td>\n",
       "    </tr>\n",
       "    <tr>\n",
       "      <th>9</th>\n",
       "      <td>0.0000705723</td>\n",
       "      <td>1.0</td>\n",
       "    </tr>\n",
       "  </tbody>\n",
       "</table>\n",
       "</div>"
      ],
      "text/plain": [
       "   $Y_n$ Numerical Solution  x_values\n",
       "0             -0.1211319506       0.1\n",
       "1              0.0257226477       0.2\n",
       "2             -0.0509919001       0.3\n",
       "3             -0.0238480658       0.4\n",
       "4              0.0364793153       0.5\n",
       "5              0.0733652524       0.6\n",
       "6              0.0781635865       0.7\n",
       "7              0.0609343944       0.8\n",
       "8              0.0325185999       0.9\n",
       "9              0.0000705723       1.0"
      ]
     },
     "execution_count": 163,
     "metadata": {},
     "output_type": "execute_result"
    }
   ],
   "source": [
    "q9_vector_rk4_method(p=44.275)"
   ]
  },
  {
   "cell_type": "code",
   "execution_count": 164,
   "metadata": {
    "collapsed": false,
    "scrolled": true
   },
   "outputs": [
    {
     "data": {
      "text/plain": [
       "<matplotlib.legend.Legend at 0x21451342748>"
      ]
     },
     "execution_count": 164,
     "metadata": {},
     "output_type": "execute_result"
    },
    {
     "data": {
      "image/png": "[encoded data removed]",
      "text/plain": [
       "<matplotlib.figure.Figure at 0x21451314dd8>"
      ]
     },
     "metadata": {},
     "output_type": "display_data"
    }
   ],
   "source": [
    "# fig, ax = plt.subplots(figsize=(12, 6))\n",
    "for p in plist:\n",
    "    x_val = q9_vector_rk4_method(h=0.001,p=p).values[:,1]\n",
    "    y_val = q9_vector_rk4_method(h=0.001,p=p).values[:,0]\n",
    "    plt.plot(x_val,y_val, label = '$p = {}$'.format(round(p,3)))\n",
    "plt.legend()"
   ]
  },
  {
   "cell_type": "code",
   "execution_count": 112,
   "metadata": {
    "collapsed": false
   },
   "outputs": [
    {
     "data": {
      "text/plain": [
       "[<matplotlib.lines.Line2D at 0x2144e7db748>]"
      ]
     },
     "execution_count": 112,
     "metadata": {},
     "output_type": "execute_result"
    },
    {
     "data": {
      "image/png": "[encoded data removed]",
      "text/plain": [
       "<matplotlib.figure.Figure at 0x2144e664b70>"
      ]
     },
     "metadata": {},
     "output_type": "display_data"
    }
   ],
   "source": [
    "plt.plot(x_val,y_val)"
   ]
  },
  {
   "cell_type": "code",
   "execution_count": null,
   "metadata": {
    "collapsed": true
   },
   "outputs": [],
   "source": []
  },
  {
   "cell_type": "code",
   "execution_count": 94,
   "metadata": {
    "collapsed": false
   },
   "outputs": [
    {
     "name": "stdout",
     "output_type": "stream",
     "text": [
      "-1.81113716953e-06\n"
     ]
    },
    {
     "data": {
      "text/html": [
       "<div>\n",
       "<table border=\"1\" class=\"dataframe\">\n",
       "  <thead>\n",
       "    <tr style=\"text-align: right;\">\n",
       "      <th></th>\n",
       "      <th>est</th>\n",
       "      <th>p1</th>\n",
       "      <th>p2</th>\n",
       "    </tr>\n",
       "  </thead>\n",
       "  <tbody>\n",
       "    <tr>\n",
       "      <th>0</th>\n",
       "      <td>10.3797090528</td>\n",
       "      <td>10</td>\n",
       "      <td>11.0000000000</td>\n",
       "    </tr>\n",
       "    <tr>\n",
       "      <th>1</th>\n",
       "      <td>10.3797090528</td>\n",
       "      <td>10</td>\n",
       "      <td>10.3797090528</td>\n",
       "    </tr>\n",
       "    <tr>\n",
       "      <th>2</th>\n",
       "      <td>10.3595326580</td>\n",
       "      <td>10</td>\n",
       "      <td>10.3595326580</td>\n",
       "    </tr>\n",
       "    <tr>\n",
       "      <th>3</th>\n",
       "      <td>10.3589391807</td>\n",
       "      <td>10</td>\n",
       "      <td>10.3589391807</td>\n",
       "    </tr>\n",
       "  </tbody>\n",
       "</table>\n",
       "</div>"
      ],
      "text/plain": [
       "             est  p1             p2\n",
       "0  10.3797090528  10  11.0000000000\n",
       "1  10.3797090528  10  10.3797090528\n",
       "2  10.3595326580  10  10.3595326580\n",
       "3  10.3589391807  10  10.3589391807"
      ]
     },
     "execution_count": 94,
     "metadata": {},
     "output_type": "execute_result"
    }
   ],
   "source": [
    "q9_eval_search(h=0.001,epsilon = 2.5e-6, p1 = 10, p2 = 11)"
   ]
  },
  {
   "cell_type": "code",
   "execution_count": 95,
   "metadata": {
    "collapsed": false
   },
   "outputs": [
    {
     "name": "stdout",
     "output_type": "stream",
     "text": [
      "9.32705097152e-09\n"
     ]
    },
    {
     "data": {
      "text/html": [
       "<div>\n",
       "<table border=\"1\" class=\"dataframe\">\n",
       "  <thead>\n",
       "    <tr style=\"text-align: right;\">\n",
       "      <th></th>\n",
       "      <th>est</th>\n",
       "      <th>p1</th>\n",
       "      <th>p2</th>\n",
       "    </tr>\n",
       "  </thead>\n",
       "  <tbody>\n",
       "    <tr>\n",
       "      <th>0</th>\n",
       "      <td>21.273857898</td>\n",
       "      <td>21.000000000</td>\n",
       "      <td>22.000000000</td>\n",
       "    </tr>\n",
       "    <tr>\n",
       "      <th>1</th>\n",
       "      <td>21.273857898</td>\n",
       "      <td>21.273857898</td>\n",
       "      <td>22.000000000</td>\n",
       "    </tr>\n",
       "    <tr>\n",
       "      <th>2</th>\n",
       "      <td>21.263526449</td>\n",
       "      <td>21.273857898</td>\n",
       "      <td>21.263526449</td>\n",
       "    </tr>\n",
       "    <tr>\n",
       "      <th>3</th>\n",
       "      <td>21.263929800</td>\n",
       "      <td>21.263929800</td>\n",
       "      <td>21.263526449</td>\n",
       "    </tr>\n",
       "  </tbody>\n",
       "</table>\n",
       "</div>"
      ],
      "text/plain": [
       "            est            p1            p2\n",
       "0  21.273857898  21.000000000  22.000000000\n",
       "1  21.273857898  21.273857898  22.000000000\n",
       "2  21.263526449  21.273857898  21.263526449\n",
       "3  21.263929800  21.263929800  21.263526449"
      ]
     },
     "execution_count": 95,
     "metadata": {},
     "output_type": "execute_result"
    }
   ],
   "source": [
    "q9_eval_search(h=0.001,epsilon = 2.5e-6, p1 = 21, p2 = 22)"
   ]
  },
  {
   "cell_type": "code",
   "execution_count": 96,
   "metadata": {
    "collapsed": false
   },
   "outputs": [
    {
     "name": "stdout",
     "output_type": "stream",
     "text": [
      "-9.30055739238e-10\n"
     ]
    },
    {
     "data": {
      "text/html": [
       "<div>\n",
       "<table border=\"1\" class=\"dataframe\">\n",
       "  <thead>\n",
       "    <tr style=\"text-align: right;\">\n",
       "      <th></th>\n",
       "      <th>est</th>\n",
       "      <th>p1</th>\n",
       "      <th>p2</th>\n",
       "    </tr>\n",
       "  </thead>\n",
       "  <tbody>\n",
       "    <tr>\n",
       "      <th>0</th>\n",
       "      <td>32.4267552270</td>\n",
       "      <td>29.0000000000</td>\n",
       "      <td>30.0000000000</td>\n",
       "    </tr>\n",
       "    <tr>\n",
       "      <th>1</th>\n",
       "      <td>32.4267552270</td>\n",
       "      <td>29.0000000000</td>\n",
       "      <td>32.4267552270</td>\n",
       "    </tr>\n",
       "    <tr>\n",
       "      <th>2</th>\n",
       "      <td>32.0964826888</td>\n",
       "      <td>32.0964826888</td>\n",
       "      <td>32.4267552270</td>\n",
       "    </tr>\n",
       "    <tr>\n",
       "      <th>3</th>\n",
       "      <td>32.1054839865</td>\n",
       "      <td>32.0964826888</td>\n",
       "      <td>32.1054839865</td>\n",
       "    </tr>\n",
       "    <tr>\n",
       "      <th>4</th>\n",
       "      <td>32.1053853815</td>\n",
       "      <td>32.0964826888</td>\n",
       "      <td>32.1053853815</td>\n",
       "    </tr>\n",
       "  </tbody>\n",
       "</table>\n",
       "</div>"
      ],
      "text/plain": [
       "             est             p1             p2\n",
       "0  32.4267552270  29.0000000000  30.0000000000\n",
       "1  32.4267552270  29.0000000000  32.4267552270\n",
       "2  32.0964826888  32.0964826888  32.4267552270\n",
       "3  32.1054839865  32.0964826888  32.1054839865\n",
       "4  32.1053853815  32.0964826888  32.1053853815"
      ]
     },
     "execution_count": 96,
     "metadata": {},
     "output_type": "execute_result"
    }
   ],
   "source": [
    "q9_eval_search(h=0.001,epsilon = 2.5e-6, p1 = 29, p2 = 30)"
   ]
  },
  {
   "cell_type": "code",
   "execution_count": null,
   "metadata": {
    "collapsed": true
   },
   "outputs": [],
   "source": []
  },
  {
   "cell_type": "markdown",
   "metadata": {
    "collapsed": true
   },
   "source": [
    "## Programs"
   ]
  },
  {
   "cell_type": "code",
   "execution_count": 1,
   "metadata": {
    "collapsed": false
   },
   "outputs": [],
   "source": [
    "#imports\n",
    "import numpy as np\n",
    "import pandas as pd\n",
    "import matplotlib.pyplot as plt\n",
    "pd.set_option('precision', 10)\n",
    "%matplotlib inline"
   ]
  },
  {
   "cell_type": "markdown",
   "metadata": {},
   "source": [
    "### Stability and accuracy of the numerical methods"
   ]
  },
  {
   "cell_type": "markdown",
   "metadata": {},
   "source": [
    "`(i) forward_Euler_method(h, suppress = False, graph = False, x_n=6)`"
   ]
  },
  {
   "cell_type": "code",
   "execution_count": 2,
   "metadata": {
    "collapsed": false
   },
   "outputs": [],
   "source": [
    "def forward_Euler_method(h, suppress = False, graph = False, x_n=6):\n",
    "    '''Implements forward Euler method for problem (5a) with a given step size h and x_n, and iterates until Y_n is computed.\n",
    "    At each step returns the tabulated values of x, exact sol, numerical sol and global error , stored in a Pandas DataFrame.\n",
    "    suppress = True, return only a judicious output of values.\n",
    "    If graph = True, plots Y superimposed with y. '''\n",
    "    def y(x):\n",
    "        return np.exp(-x) - np.exp(-16*x)\n",
    "\n",
    "    def f(x,y):\n",
    "        return -16* y + 15 * np.exp(-x)\n",
    "\n",
    "    x0 = 0\n",
    "    Y0 = 0\n",
    "    \n",
    "    x = np.arange(x0,x_n+h,h)\n",
    "    Y = np.zeros(len(x))\n",
    "    Y[0] = Y0\n",
    "    \n",
    "    for i in range(len(x) - 1):\n",
    "        Y[i+1] = Y[i] + h * f(x[i],Y[i])\n",
    "\n",
    "    y = y(x)\n",
    "    global_error = Y - y\n",
    "    \n",
    "    if graph == True:\n",
    "        exact, = plt.plot(x,y, 'r',label='Exact Solution')\n",
    "        numerical, = plt.plot(x,Y,'b--', label='Numerical Solution')\n",
    "        plt.legend(handles=[exact,numerical])\n",
    "        plt.xlabel('$x$', fontsize = 16)\n",
    "        plt.ylabel('$y$', fontsize = 16)\n",
    "   \n",
    "    if suppress == True:\n",
    "        a = int(np.floor(1/(2*h)))\n",
    "        y = y[::a]\n",
    "        x = x[::a]\n",
    "        Y = Y[::a]\n",
    "        global_error = global_error[::a]\n",
    "\n",
    "    \n",
    "    df = pd.DataFrame( \n",
    "        {'x_values': x[1:],\n",
    "        '$Y_n$ Numerical Solution': Y[1:],\n",
    "        '$y(x_n)$ Exact Solution':y[1:],\n",
    "        'Global Error $E_n$'  : global_error[1:]}\n",
    "    )\n",
    "    return df"
   ]
  },
  {
   "cell_type": "markdown",
   "metadata": {},
   "source": [
    "`(ii) rk4_method(h, suppress = False, graph = False,x_n = 6):`"
   ]
  },
  {
   "cell_type": "code",
   "execution_count": 3,
   "metadata": {
    "collapsed": true
   },
   "outputs": [],
   "source": [
    "def rk4_method(h, suppress = False, graph = False,x_n = 6):\n",
    "    '''Implements RK4 method for problem (5a) with a given step size h and x_n, and interates until Y_n is computed.\n",
    "    See (i) forward_Euler_method. '''\n",
    "    def y(x):\n",
    "        return np.exp(-x) - np.exp(-16*x)\n",
    "\n",
    "    def f(x,y):\n",
    "        return -16* y + 15 * np.exp(-x)\n",
    "\n",
    "    x0 = 0\n",
    "    Y0 = 0\n",
    "    \n",
    "    x = np.arange(x0,x_n+h,h)\n",
    "    Y = np.zeros(len(x))\n",
    "    Y[0] = Y0\n",
    "\n",
    "    for i in range(len(x) - 1):\n",
    "         k1 = h * f(x[i],Y[i])\n",
    "         k2 = h * f(x[i] + h/2,Y[i] + k1/2)\n",
    "         k3 = h * f(x[i] + h/2,Y[i] + k2/2)\n",
    "         k4 = h * f(x[i] + h,Y[i] + k3)\n",
    "         Y[i+1] = Y[i] + (k1 + 2*k2 + 2*k3 + k4) * 1/6\n",
    "\n",
    "    y = y(x)\n",
    "    global_error = Y - y\n",
    "    \n",
    "    \n",
    "    if graph == True:\n",
    "        exact, = plt.plot(x,y, 'r',label='Exact Solution')\n",
    "        numerical, = plt.plot(x,Y,'b--', label='Numerical Solution')\n",
    "        plt.legend(handles=[exact,numerical])\n",
    "        plt.xlabel('$x$', fontsize = 16)\n",
    "        plt.ylabel('$y$', fontsize = 16)\n",
    "        \n",
    "    #provide only judicious output    \n",
    "    if suppress == True:\n",
    "        a = int(np.floor(1/(2*h)))\n",
    "        y = y[::a]\n",
    "        x = x[::a]\n",
    "        Y = Y[::a]\n",
    "        global_error = global_error[::a]\n",
    "\n",
    "    \n",
    "    df = pd.DataFrame( \n",
    "        {'x_values': x[1:],\n",
    "        '$Y_n$ Numerical Solution': Y[1:],\n",
    "        '$y(x_n)$ Exact Solution':y[1:],\n",
    "        'Global Error $E_n$'  : global_error[1:]}\n",
    "    )\n",
    "    return df"
   ]
  },
  {
   "cell_type": "markdown",
   "metadata": {},
   "source": [
    "`(iii) q4_error_h_comparison(method)`"
   ]
  },
  {
   "cell_type": "code",
   "execution_count": 4,
   "metadata": {
    "collapsed": false
   },
   "outputs": [],
   "source": [
    "def q4_error_h_comparison(method):\n",
    "    '''Tabulates the global error for problem (5a) (at x_n = 0.1) against h = 0.1/n for n = 2^k with k = 0, 1, 2, ..., 15, \n",
    "    and plots a log-log graph of |E_n| against h over this range.\n",
    "    Requires input of the iterative method to be used; either E (for Euler) or RK4'''\n",
    "    \n",
    "    hs = []\n",
    "    global_error = []\n",
    "\n",
    "    for k in range(0,16):\n",
    "        n= 2**k\n",
    "        h = (0.1/n)\n",
    "\n",
    "        hs.append(h)\n",
    "        if method == 'E':\n",
    "            global_error.append(forward_Euler_method(h, x_n = 0.1)['Global Error $E_n$'].values[-1])\n",
    "        elif method == 'RK4':\n",
    "            global_error.append(rk4_method(h, x_n = 0.1)['Global Error $E_n$'].values[-1])\n",
    "            \n",
    "    y = np.log(np.abs(global_error))\n",
    "    x = np.log(hs)\n",
    "    plt.plot(x,y)\n",
    "    plt.xlabel('$\\log{h}$', fontsize = 16)\n",
    "    plt.ylabel('$\\log{|E_n|}$', fontsize = 16)\n",
    "\n",
    "    df = pd.DataFrame({\n",
    "         'h':hs,\n",
    "         'Global Error $E_n$ at $x_n =0.1$'  : global_error,\n",
    "        })\n",
    "    return df"
   ]
  },
  {
   "cell_type": "markdown",
   "metadata": {},
   "source": [
    "`(iv) q5_forward_Euler_method(h=0.001, suppress = True, x_n=10):`"
   ]
  },
  {
   "cell_type": "code",
   "execution_count": 5,
   "metadata": {
    "collapsed": false
   },
   "outputs": [],
   "source": [
    "def q5_forward_Euler_method(h=0.001, suppress = True, x_n=10):\n",
    "    '''Implements forward Euler method for problem (8a).\n",
    "    See (i) forward_Euler_method.'''\n",
    "    \n",
    "    def y(x):\n",
    "        return np.exp(-x)\n",
    "    def f(x,y):\n",
    "        return 4* y -5 * np.exp(-x)\n",
    "\n",
    "    x0 = 0\n",
    "    Y0 = 0\n",
    "    \n",
    "    x = np.arange(x0,x_n+h,h)\n",
    "    Y = np.zeros(len(x))\n",
    "    Y[0] = Y0\n",
    "    \n",
    "    for i in range(len(x) - 1):\n",
    "        Y[i+1] = Y[i] + h * f(x[i],Y[i])\n",
    "\n",
    "    y = y(x)\n",
    "    global_error = Y - y\n",
    "    \n",
    "  \n",
    "    if suppress == True:\n",
    "        a = int(np.floor(1/(2*h)))\n",
    "        y = y[::a]\n",
    "        x = x[::a]\n",
    "        Y = Y[::a]\n",
    "        global_error = global_error[::a]\n",
    "\n",
    "    \n",
    "    df = pd.DataFrame( \n",
    "        {'x_values': x[1:],\n",
    "        '$Y_n$ Numerical Solution': Y[1:],\n",
    "        '$y(x_n)$ Exact Solution':y[1:],\n",
    "        'Global Error $E_n$'  : global_error[1:]}\n",
    "    )\n",
    "    return df"
   ]
  },
  {
   "cell_type": "markdown",
   "metadata": {},
   "source": [
    "## Numerical Solutions of second-order ODEs"
   ]
  },
  {
   "cell_type": "markdown",
   "metadata": {},
   "source": [
    "`(i) vector_rk4_method(h = 0.1, p = 6, graph = False,x_n = 1)`"
   ]
  },
  {
   "cell_type": "code",
   "execution_count": 14,
   "metadata": {
    "collapsed": true
   },
   "outputs": [],
   "source": [
    "def vector_rk4_method(h = 0.1, p = 6, graph = False,x_n = 1):\n",
    "    '''Implements vector generalisation of RK4 method for problem (12a)-(12b) with a given step size h and x_n, and \n",
    "    iterates until Y_n is computed. \n",
    "    Modified version of (ii) rk4_method.\n",
    "    Allows input of step size h = 0.1, value of p, and x_n'''\n",
    "    alpha = 4\n",
    "\n",
    "    def y(x):\n",
    "        return - (1/p)* (1 + x) * np.sin( (-x*p)/(x+1)   ) \n",
    "\n",
    "    def f(x,vect):\n",
    "        return np.array([vect[1],-p**2 * (1 + x)**(-alpha)*vect[0]])\n",
    "    \n",
    "    x0 = 0\n",
    "    Y0 = [0,1]\n",
    "\n",
    "    x = np.arange(x0,x_n+h,h)\n",
    "    Y = np.zeros([2,len(x)])\n",
    "    \n",
    "\n",
    "    Y[:,0] = Y0\n",
    "\n",
    "    for i in range(len(x) - 1):\n",
    "         k1 = h * f(x[i],Y[:,i])\n",
    "         k2 = h * f(x[i] + h/2,Y[:,i] + k1/2)\n",
    "         k3 = h * f(x[i] + h/2,Y[:,i] + k2/2)\n",
    "         k4 = h * f(x[i] + h,Y[:,i] + k3)\n",
    "         Y[:,i+1] = Y[:,i] + (k1 + 2*k2 + 2*k3 + k4) * 1/6\n",
    "\n",
    "\n",
    "    y = y(x)\n",
    "    global_error = Y[0,:] - y\n",
    "    \n",
    "    \n",
    "    if graph == True:\n",
    "        exact, = plt.plot(x,y, 'r',label='Exact Solution')\n",
    "        numerical, = plt.plot(x,Y[0],'b--', label='Numerical Solution')\n",
    "        plt.legend(handles=[exact,numerical])\n",
    "\n",
    "    \n",
    "    df = pd.DataFrame( \n",
    "        {'x_values': x[1:],\n",
    "        '$Y_n$ Numerical Solution': Y[0,1:],\n",
    "        '$y(x_n)$ Exact Solution':y[1:],\n",
    "        'Global Error $E_n$'  : global_error[1:] \n",
    "        })\n",
    "    return df"
   ]
  },
  {
   "cell_type": "markdown",
   "metadata": {},
   "source": [
    "`(ii) q7_error_h_comparison(p=6)`"
   ]
  },
  {
   "cell_type": "code",
   "execution_count": 7,
   "metadata": {
    "collapsed": false,
    "scrolled": true
   },
   "outputs": [],
   "source": [
    "def q7_error_h_comparison(p=6):   \n",
    "    '''Tabulates the global error for problem (12a)-(12b) (at x_n = 1) against h = 0.1/n for n = 2^k with k = 0, 1, 2, ..., 12, \n",
    "    and plots a log-log graph of |E_n| against h over this range.'''\n",
    "    k = range(0,13)\n",
    "    hs = list(map(lambda x: 0.1/ (2**x) , k))\n",
    "\n",
    "    numerical_sol = []\n",
    "    g_errors = []\n",
    "\n",
    "\n",
    "    for h in hs:\n",
    "\n",
    "        numerical_sol.append(vector_rk4_method(h=h,p=p).values[-1,0])\n",
    "        g_errors.append(vector_rk4_method(h=h,p=p).values[-1,2])\n",
    "        \n",
    "    y = np.log(np.abs(g_errors))\n",
    "    x = np.log(hs)\n",
    "    plt.plot(x,y)\n",
    "    plt.xlabel('$\\log{h}$', fontsize = 16)\n",
    "    plt.ylabel('$\\log{|E_n|}$', fontsize = 16)\n",
    "\n",
    "    df = pd.DataFrame( \n",
    "        {'h': hs,\n",
    "        '$Y_n$ Numerical Solution': numerical_sol,\n",
    "        'Global Error $E_n$'  : g_errors\n",
    "        })\n",
    "    return df"
   ]
  },
  {
   "cell_type": "code",
   "execution_count": 13,
   "metadata": {
    "collapsed": false
   },
   "outputs": [],
   "source": [
    "def q8_eval_search(h=0.001,epsilon = 2.5e-6):\n",
    "    def g(p):\n",
    "        return vector_rk4_method(h=h,p=p).values[-1,0]\n",
    "    \n",
    "    p1list = []\n",
    "    p2list = []\n",
    "    estlist = []\n",
    "    p1 = 6\n",
    "    p2 = 7\n",
    "    est = (g(p2)*p1 - g(p1)*p2)/(g(p2) - g(p1) )\n",
    "    p1list.append(p1)\n",
    "    p2list.append(p2)\n",
    "    estlist.append(est)\n",
    "    while np.abs(g(est)) > epsilon:\n",
    "        est = (g(p2)*p1 - g(p1)*p2)/(g(p2) - g(p1) )\n",
    "        if g(est) < 0:\n",
    "            p2 = est\n",
    "        else:\n",
    "            p1 = est\n",
    "        p1list.append(p1)\n",
    "        p2list.append(p2)\n",
    "        estlist.append(est)\n",
    "    df = pd.DataFrame({'p1':p1list,\n",
    "                      'p2':p2list,\n",
    "                      'est':estlist})\n",
    "    print(g(est))\n",
    "    return df"
   ]
  },
  {
   "cell_type": "code",
   "execution_count": 12,
   "metadata": {
    "collapsed": false,
    "scrolled": true
   },
   "outputs": [
    {
     "name": "stdout",
     "output_type": "stream",
     "text": [
      "9.10060301885e-08\n"
     ]
    },
    {
     "data": {
      "text/html": [
       "<div>\n",
       "<table border=\"1\" class=\"dataframe\">\n",
       "  <thead>\n",
       "    <tr style=\"text-align: right;\">\n",
       "      <th></th>\n",
       "      <th>est</th>\n",
       "      <th>p1</th>\n",
       "      <th>p2</th>\n",
       "    </tr>\n",
       "  </thead>\n",
       "  <tbody>\n",
       "    <tr>\n",
       "      <th>0</th>\n",
       "      <td>12.5845661781</td>\n",
       "      <td>12.0000000000</td>\n",
       "      <td>13.0000000000</td>\n",
       "    </tr>\n",
       "    <tr>\n",
       "      <th>1</th>\n",
       "      <td>12.5845661781</td>\n",
       "      <td>12.5845661781</td>\n",
       "      <td>13.0000000000</td>\n",
       "    </tr>\n",
       "    <tr>\n",
       "      <th>2</th>\n",
       "      <td>12.5655879474</td>\n",
       "      <td>12.5845661781</td>\n",
       "      <td>12.5655879474</td>\n",
       "    </tr>\n",
       "    <tr>\n",
       "      <th>3</th>\n",
       "      <td>12.5663717585</td>\n",
       "      <td>12.5663717585</td>\n",
       "      <td>12.5655879474</td>\n",
       "    </tr>\n",
       "  </tbody>\n",
       "</table>\n",
       "</div>"
      ],
      "text/plain": [
       "             est             p1             p2\n",
       "0  12.5845661781  12.0000000000  13.0000000000\n",
       "1  12.5845661781  12.5845661781  13.0000000000\n",
       "2  12.5655879474  12.5845661781  12.5655879474\n",
       "3  12.5663717585  12.5663717585  12.5655879474"
      ]
     },
     "execution_count": 12,
     "metadata": {},
     "output_type": "execute_result"
    }
   ],
   "source": [
    "q8_eval_search()"
   ]
  },
  {
   "cell_type": "code",
   "execution_count": 16,
   "metadata": {
    "collapsed": true
   },
   "outputs": [],
   "source": [
    "vector_rk4_method?"
   ]
  },
  {
   "cell_type": "code",
   "execution_count": 147,
   "metadata": {
    "collapsed": false,
    "scrolled": true
   },
   "outputs": [],
   "source": [
    "def q9_vector_rk4_method(h = 0.1, p = 6, graph = False,x_n = 1):\n",
    "    '''Modified version of 'vector_rk4_method'. \n",
    "    Implements vector generalisation of RK4 method for the alpha = 8 problem (12a)-(12b) \n",
    "    with a given step size h and x_n, and iterates until Y_n is computed. \n",
    "    Note there is no exact solution (or global error).\n",
    "    Modified version of (ii) rk4_method.\n",
    "    Allows input of step size h = 0.1, value of p, and x_n'''\n",
    "    alpha = 8\n",
    "\n",
    "    def f(x,vect):\n",
    "        return np.array([vect[1],-p**2 * (1 + x)**(-alpha)*vect[0]])\n",
    "    \n",
    "    x0 = 0\n",
    "    Y0 = [0,1]\n",
    "\n",
    "    x = np.arange(x0,x_n+h,h)\n",
    "    Y = np.zeros([2,len(x)])\n",
    "    \n",
    "\n",
    "    Y[:,0] = Y0\n",
    "\n",
    "    for i in range(len(x) - 1):\n",
    "         k1 = h * f(x[i],Y[:,i])\n",
    "         k2 = h * f(x[i] + h/2,Y[:,i] + k1/2)\n",
    "         k3 = h * f(x[i] + h/2,Y[:,i] + k2/2)\n",
    "         k4 = h * f(x[i] + h,Y[:,i] + k3)\n",
    "         Y[:,i+1] = Y[:,i] + (k1 + 2*k2 + 2*k3 + k4) * 1/6\n",
    "\n",
    "\n",
    "    \n",
    "    if graph == True:\n",
    "        numerical, = plt.plot(x,Y[0],'b--', label='Numerical Solution')\n",
    "        plt.legend(handles=[exact,numerical])\n",
    "\n",
    "    \n",
    "    df = pd.DataFrame( \n",
    "        {'x_values': x[1:],\n",
    "        '$Y_n$ Numerical Solution': Y[0,1:], \n",
    "        })\n",
    "    return df"
   ]
  },
  {
   "cell_type": "code",
   "execution_count": 21,
   "metadata": {
    "collapsed": false,
    "scrolled": false
   },
   "outputs": [
    {
     "data": {
      "text/html": [
       "<div>\n",
       "<table border=\"1\" class=\"dataframe\">\n",
       "  <thead>\n",
       "    <tr style=\"text-align: right;\">\n",
       "      <th></th>\n",
       "      <th>$Y_n$ Numerical Solution</th>\n",
       "      <th>x_values</th>\n",
       "    </tr>\n",
       "  </thead>\n",
       "  <tbody>\n",
       "    <tr>\n",
       "      <th>0</th>\n",
       "      <td>0.0959389638</td>\n",
       "      <td>0.1</td>\n",
       "    </tr>\n",
       "    <tr>\n",
       "      <th>1</th>\n",
       "      <td>0.1770679241</td>\n",
       "      <td>0.2</td>\n",
       "    </tr>\n",
       "    <tr>\n",
       "      <th>2</th>\n",
       "      <td>0.2435576428</td>\n",
       "      <td>0.3</td>\n",
       "    </tr>\n",
       "    <tr>\n",
       "      <th>3</th>\n",
       "      <td>0.2992344895</td>\n",
       "      <td>0.4</td>\n",
       "    </tr>\n",
       "    <tr>\n",
       "      <th>4</th>\n",
       "      <td>0.3475236793</td>\n",
       "      <td>0.5</td>\n",
       "    </tr>\n",
       "    <tr>\n",
       "      <th>5</th>\n",
       "      <td>0.3908636333</td>\n",
       "      <td>0.6</td>\n",
       "    </tr>\n",
       "    <tr>\n",
       "      <th>6</th>\n",
       "      <td>0.4308817268</td>\n",
       "      <td>0.7</td>\n",
       "    </tr>\n",
       "    <tr>\n",
       "      <th>7</th>\n",
       "      <td>0.4686465112</td>\n",
       "      <td>0.8</td>\n",
       "    </tr>\n",
       "    <tr>\n",
       "      <th>8</th>\n",
       "      <td>0.5048612344</td>\n",
       "      <td>0.9</td>\n",
       "    </tr>\n",
       "    <tr>\n",
       "      <th>9</th>\n",
       "      <td>0.5399934532</td>\n",
       "      <td>1.0</td>\n",
       "    </tr>\n",
       "  </tbody>\n",
       "</table>\n",
       "</div>"
      ],
      "text/plain": [
       "   $Y_n$ Numerical Solution  x_values\n",
       "0              0.0959389638       0.1\n",
       "1              0.1770679241       0.2\n",
       "2              0.2435576428       0.3\n",
       "3              0.2992344895       0.4\n",
       "4              0.3475236793       0.5\n",
       "5              0.3908636333       0.6\n",
       "6              0.4308817268       0.7\n",
       "7              0.4686465112       0.8\n",
       "8              0.5048612344       0.9\n",
       "9              0.5399934532       1.0"
      ]
     },
     "execution_count": 21,
     "metadata": {},
     "output_type": "execute_result"
    }
   ],
   "source": [
    "q9_vector_rk4_method()"
   ]
  },
  {
   "cell_type": "code",
   "execution_count": 217,
   "metadata": {
    "collapsed": true
   },
   "outputs": [],
   "source": [
    "def q9_eval_search(p1,h=0.01,epsilon = 2.5e-6):\n",
    "    p2 = p1 + 1\n",
    "    def g(p):\n",
    "        return q9_vector_rk4_method(h=h,p=p).values[-1,0]\n",
    "   \n",
    "    est = (g(p2)*p1 - g(p1)*p2)/(g(p2) - g(p1) )\n",
    "    df = pd.DataFrame(columns=['p1', 'p2', 'est'])\n",
    "    \n",
    "    df.loc[0] = [p1,p2,est]\n",
    "    i = 1\n",
    "    while np.abs(g(est)) > epsilon:\n",
    "        est = (g(p2)*p1 - g(p1)*p2)/(g(p2) - g(p1) )\n",
    "        if g(est) < 0:\n",
    "            p2 = est\n",
    "        else:\n",
    "            p1 = est\n",
    "        \n",
    "        df.loc[i] = [p1,p2,est]\n",
    "        i += 1\n",
    "    print(df)\n",
    "    return est"
   ]
  }
 ],
 "metadata": {
  "anaconda-cloud": {},
  "kernelspec": {
   "display_name": "Python [conda root]",
   "language": "python",
   "name": "conda-root-py"
  },
  "language_info": {
   "codemirror_mode": {
    "name": "ipython",
    "version": 3
   },
   "file_extension": ".py",
   "mimetype": "text/x-python",
   "name": "python",
   "nbconvert_exporter": "python",
   "pygments_lexer": "ipython3",
   "version": "3.5.2"
  }
 },
 "nbformat": 4,
 "nbformat_minor": 2
}
