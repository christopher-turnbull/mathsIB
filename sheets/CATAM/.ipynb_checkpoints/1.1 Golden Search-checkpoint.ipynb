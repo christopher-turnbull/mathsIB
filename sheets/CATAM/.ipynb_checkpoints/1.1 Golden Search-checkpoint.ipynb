{
 "cells": [
  {
   "cell_type": "markdown",
   "metadata": {},
   "source": [
    "# 1.1 Golden Section Search for the Mode of a Function"
   ]
  },
  {
   "cell_type": "markdown",
   "metadata": {},
   "source": [
    "Notes:\n",
    "- read manual\n",
    "- graph sizes (think it's okay tho)\n",
    "- 4 ?\n",
    "- 5 again I think this is about differentiability (whether it is smooth near the mode or not) think about different kinds of modular functions, maybe not continuous too. what about functions like 1/x ?"
   ]
  },
  {
   "cell_type": "markdown",
   "metadata": {},
   "source": [
    "### Question 1"
   ]
  },
  {
   "cell_type": "markdown",
   "metadata": {},
   "source": [
    "Let $f$ be unimodal on $[a, b]$ with a maximum at some point undetermined point in $[a, b]$. Choose the points $x, y$ with $a < x < y < b$, such that\n",
    "\n",
    "$$ (y − a)/(b − a) = (\\sqrt{5} − 1)/2  \\qquad (1) $$\n",
    "\n",
    "and\n",
    "\n",
    "$$ b - x = y - a  \\qquad (2) $$\n",
    "\n",
    "That is, the interval is divided from each end in *golden section*."
   ]
  },
  {
   "cell_type": "markdown",
   "metadata": {},
   "source": [
    "(i) Suppose that $f(x) \\geq f(y)$, ie. we deduce that the mode lies in the subinterval $[a,y] $. \n",
    "\n",
    "Claim: The interval $[a,y] $ is divided in golden section from $y$ by the point $x$ (at which we already have a function evaluation).\n",
    "\n",
    "Proof:\n",
    "\n",
    "\n",
    "$$ \n",
    "\\begin{align}\n",
    "\\frac{x-a}{y-a} & = \\frac{(b-a) - (b - x)}{y-a} \\\\\n",
    "& =  \\frac{b-a}{y-a} - 1 \\qquad (\\text{using } b - x = y - a) \\\\\n",
    "& = \\frac{2}{\\sqrt{5}-1} - 1\\\\\n",
    "& = \\frac{\\sqrt{5} - 1}{2}\n",
    "\\end{align}\n",
    "$$\n",
    "\n",
    "\n",
    "(ii) Simiarly, if  $f(y) \\geq f(x)$, we deduce the mode lies in $[x,b]$, which is divided in golden section from $x$ by $y$, ie.\n",
    "\n",
    "$$ \n",
    "\\begin{align}\n",
    "\\frac{b-y}{b-x} & = \\frac{\\sqrt{5} - 1}{2}\n",
    "\\end{align}\n",
    "$$\n",
    "\n"
   ]
  },
  {
   "cell_type": "markdown",
   "metadata": {},
   "source": [
    "### Programming Task"
   ]
  },
  {
   "cell_type": "markdown",
   "metadata": {},
   "source": [
    "The program to implement the golden search for unimodal functions with a maximum is shown at the end of the notebook, labelled\n",
    "\n",
    "\n",
    "`(i) golden_search(f,a,b,tol=1e-5)`"
   ]
  },
  {
   "cell_type": "markdown",
   "metadata": {},
   "source": [
    "This program requires the input of the function `f`, intervals boundaries `a` and `b`, and the required tolerance `tol`, where the iteraction will be terminated once the mode is guaranteed to lie in an interval of width less than `tol`. (The default value is $1 \\times 10^{-5}$).\n",
    "\n",
    "The program outputs \n",
    "- the value of the mode \n",
    "- the accuracy\n",
    "- the number of interations performed. \n",
    "\n",
    "Note that if the function is unimodal with a minimum on $[a,b]$, run the program on $-f$.\n",
    "\n",
    "(i) Note, as illustrated here, if $f(x) = f(y)$ at one or more steps (thus the mode lies between $x$ and $y$) the search automatically takes the (higher) $[y,b]$ subinterval as the new interval. \n",
    "\n",
    "For example, taking the constant function $f(x) = 1$ in the range $x \\in [0,1]$, our program iteratively chooses the higher interval\n",
    "\n"
   ]
  },
  {
   "cell_type": "code",
   "execution_count": 3,
   "metadata": {
    "collapsed": false
   },
   "outputs": [
    {
     "name": "stdout",
     "output_type": "stream",
     "text": [
      "Mode = 0.9999951775634202.\n",
      "Accuracy of 1e-05 reached after 24 iterations\n"
     ]
    }
   ],
   "source": [
    "def f(x):\n",
    "    return 1\n",
    "golden_search(f,0,1)"
   ]
  },
  {
   "cell_type": "markdown",
   "metadata": {},
   "source": [
    "Therefore concluding the mode is within `tol` of $x=1$. However, we are only applying our program to unimodal functions, so we do not have to worry about this."
   ]
  },
  {
   "cell_type": "markdown",
   "metadata": {},
   "source": [
    "(ii) It is preferable to use equation (2) to locate the point for the second function evaluation. There are less operations than if we used equation (1), (specifically no multiplication, as this is more costly than addition) therefore we reduce the computational cost with a high number of iterations. "
   ]
  },
  {
   "cell_type": "markdown",
   "metadata": {},
   "source": [
    "(iii) As illustrated below, if the mode were at an endpoint of the original interval $[a,b]$, eg. at $a$, the program functions as normal, choosing a succession of subintervals $[a,b_i]$ until we are within the required tolerance. The end result will be within `tol` of the true mode.\n",
    "\n",
    "Taking $f(x) = 4 - x$ in the range $x \\in [0,4]$, which has mode at $x=0$,"
   ]
  },
  {
   "cell_type": "code",
   "execution_count": 9,
   "metadata": {
    "collapsed": false
   },
   "outputs": [
    {
     "name": "stdout",
     "output_type": "stream",
     "text": [
      "Mode = 4.1036954812057047e-07.\n",
      "Accuracy of 1e-06 reached after 32 iterations\n"
     ]
    }
   ],
   "source": [
    "def f(x):\n",
    "    return 4 - x\n",
    "golden_search(f,0,4,tol=1e-6)"
   ]
  },
  {
   "cell_type": "markdown",
   "metadata": {},
   "source": [
    "### Question 2"
   ]
  },
  {
   "cell_type": "markdown",
   "metadata": {},
   "source": [
    "To check our program, we test for the position of the mode in $[0,1]$ of the function $  f(x) = 1 + x + x^2 - 4x^4 $.\n",
    "\n",
    "I will plot the graph in the range $ x \\in [0,1]$. "
   ]
  },
  {
   "cell_type": "code",
   "execution_count": 26,
   "metadata": {
    "collapsed": false
   },
   "outputs": [
    {
     "data": {
      "text/plain": [
       "<matplotlib.text.Text at 0x262f720d4a8>"
      ]
     },
     "execution_count": 26,
     "metadata": {},
     "output_type": "execute_result"
    },
    {
     "data": {
      "image/png": "[encoded data removed]",
      "text/plain": [
       "<matplotlib.figure.Figure at 0x262f5c71748>"
      ]
     },
     "metadata": {},
     "output_type": "display_data"
    }
   ],
   "source": [
    "def f(x):\n",
    "    return 1 + x + x**2 - 4*x**4\n",
    "x = np.linspace(0,1,100)\n",
    "plt.plot(x,f(x))\n",
    "plt.xlabel('$x$', fontsize = 16)\n",
    "plt.ylabel('$f(x)$', fontsize = 16)"
   ]
  },
  {
   "cell_type": "markdown",
   "metadata": {},
   "source": [
    "Figure 2.1: Plot of $  f(x) = 1 + x + x^2 - 4x^4 $ for $ x \\in [0,1]$"
   ]
  },
  {
   "cell_type": "markdown",
   "metadata": {},
   "source": [
    "From our graph we can see the mode lies at approximately $x = 0.5$. Now, implementing our `golden_search` for this function,"
   ]
  },
  {
   "cell_type": "code",
   "execution_count": 71,
   "metadata": {
    "collapsed": false,
    "scrolled": false
   },
   "outputs": [
    {
     "name": "stdout",
     "output_type": "stream",
     "text": [
      "Mode = 0.5.\n",
      "Accuracy of 1e-05 reached after 24 iterations\n"
     ]
    }
   ],
   "source": [
    "golden_search(f,0,1)"
   ]
  },
  {
   "cell_type": "markdown",
   "metadata": {},
   "source": [
    "Thus we can that after 24 iterations, our program has located the mode at $x=0.5$, to within an interval of width $1 \\times 10^{-5} $ "
   ]
  },
  {
   "cell_type": "markdown",
   "metadata": {},
   "source": [
    "### Question 3"
   ]
  },
  {
   "cell_type": "markdown",
   "metadata": {},
   "source": [
    "Consider the more intuitively obvious `tenary_search` algorithm that splits the interval into 'equal thirds', ie. $x = \\frac{1}{3}(b-a)$, $y = \\frac{2}{3}(b-a)$.\n",
    "\n",
    "\n",
    "The most time consuming part of any algorithm in a real-life problem will be the (perhaps costly) explicit evaluation of the function in question, at the points $x$ and $y$. Some examples of real life applications can be seen in [1], [2].\n",
    "\n"
   ]
  },
  {
   "cell_type": "markdown",
   "metadata": {},
   "source": [
    "The advantage of the golden section search is that with every iterative step (except the first), either $f(x)$ or $f(y)$ would have been evaluated previously, and this result can be reused, avoiding the (perhaps costly) evaluation of the function at this point."
   ]
  },
  {
   "cell_type": "markdown",
   "metadata": {},
   "source": [
    "Suppose evaluating the function at a point takes $f_k$ numerical operations and further suppose are program terminates after $n$ iterations. Assuming the evalutation of $x$ and $y$ are inexpensive compared to the evaluations of the function, we see that the ternary search algorithm takes approxamitely $n f_k$ more numerical operations than  (ie. double that of) the golden search algorithm. "
   ]
  },
  {
   "cell_type": "markdown",
   "metadata": {},
   "source": [
    "As the number of operations $f_k$ grows, and as the number of iterations increase, this difference becomes more pronounced."
   ]
  },
  {
   "cell_type": "markdown",
   "metadata": {
    "collapsed": false
   },
   "source": [
    "### Question 4"
   ]
  },
  {
   "cell_type": "markdown",
   "metadata": {},
   "source": [
    "The properties of $f$ that determine the numerical accuracy attainable are to do with smoothness. Smooth functions have a first derivative close to zero (ie. are flat) near the minimum, so we cannot expect to great an accuracy in calculating the mode. \n",
    "\n",
    "As ilustrated by the graphs below, if the mode is located at an endpoint, or at a point where the function is not smooth eg. $ f(x) = -|x - 1| + 1 $ with $x \\in [0,2]$, we can expect to calculate the mode at $x=1$ with greater accuracy than we would with $g(x) = -(x-1)^2 + 1$  "
   ]
  },
  {
   "cell_type": "code",
   "execution_count": 16,
   "metadata": {
    "collapsed": true
   },
   "outputs": [],
   "source": [
    "x = np.linspace(0,2,100)\n",
    "def f(x):\n",
    "    return - np.abs(x - 1) + 1\n",
    "def g(x):\n",
    "    return -(x-1)**2 + 1"
   ]
  },
  {
   "cell_type": "code",
   "execution_count": 25,
   "metadata": {
    "collapsed": false,
    "scrolled": true
   },
   "outputs": [
    {
     "data": {
      "text/plain": [
       "<matplotlib.text.Text at 0x262f7152978>"
      ]
     },
     "execution_count": 25,
     "metadata": {},
     "output_type": "execute_result"
    },
    {
     "data": {
      "image/png": "[encoded data removed]",
      "text/plain": [
       "<matplotlib.figure.Figure at 0x262f70b00b8>"
      ]
     },
     "metadata": {},
     "output_type": "display_data"
    }
   ],
   "source": [
    "#plt.figure(1)\n",
    "plt.plot(x, f(x), label='$y = f(x)$')\n",
    "plt.plot(x, g(x),label='$y = g(x)$')\n",
    "plt.legend()\n",
    "plt.xlabel('$x$', fontsize = 16)\n",
    "plt.ylabel('$y$', fontsize = 16)"
   ]
  },
  {
   "cell_type": "markdown",
   "metadata": {},
   "source": [
    "Consider also the case where the mode of the function lies outside the maximum range that the computer lanugage can compute. "
   ]
  },
  {
   "cell_type": "code",
   "execution_count": 33,
   "metadata": {
    "collapsed": false
   },
   "outputs": [
    {
     "data": {
      "text/plain": [
       "9223372036854775807"
      ]
     },
     "execution_count": 33,
     "metadata": {},
     "output_type": "execute_result"
    }
   ],
   "source": [
    "sys.maxsize"
   ]
  },
  {
   "cell_type": "markdown",
   "metadata": {},
   "source": [
    "which is exactly $2^{63} - 1$"
   ]
  },
  {
   "cell_type": "code",
   "execution_count": null,
   "metadata": {
    "collapsed": false
   },
   "outputs": [],
   "source": [
    "sys.maxsize**sys.maxsize"
   ]
  },
  {
   "cell_type": "markdown",
   "metadata": {},
   "source": [
    "### Question 5"
   ]
  },
  {
   "cell_type": "markdown",
   "metadata": {},
   "source": [
    "If the mode is located at $ x = x_{0} $, then performing a Taylor expansion about $ x_{0} $, gives\n",
    "\n",
    "$$  f(x) = f(x_{0}) +(x - x_0)f'(x_0) +  \\frac{(x-x_{0})^{2}}{2!} f''(x_{0}) + o((x-x_0)^2)$$\n",
    "\n",
    "Suppose at this point, the mode is a local maximum (or minimum), so $f'(x_0) = 0$. Then, assuming $o((x-x_0)^2)$ terms are small,\n",
    "\n",
    "$$ \\left|   f(x) - f(x_{0})  \\right| \\approx  \\frac{(x-x_{0})^{2}}{2!}   \\left| f''(x_{0}) \\right|  $$\n",
    "\n",
    "ie. the size of the error in $f(x_0)$ is approximately proprotional to the size of the squared error in $x_0$. \n",
    "\n",
    "\n",
    "\n",
    "However it could be the case that $x_0$ is not a local maximum (or minimum) eg. the mode was found at either endpoint $a$ or $b$. Again ignoring $o((x-x_0)^2)$ terms, \n",
    "\n",
    "$$ (   f(x) - f(x_{0}) )  \\approx  (x-x_0) \\left( f'(x_0) +  \\frac{(x-x_{0})}{2!}f''(x_0) \\right)   $$\n",
    "\n",
    "ie. the size of the error in $f(x_0)$ is approximately proprotional to the size of the error in $x_0$."
   ]
  },
  {
   "cell_type": "markdown",
   "metadata": {},
   "source": [
    "## Optimization of turntable and tone-arm design\n"
   ]
  },
  {
   "cell_type": "markdown",
   "metadata": {},
   "source": [
    "### Question 6"
   ]
  },
  {
   "cell_type": "markdown",
   "metadata": {},
   "source": [
    "The program to carry out the Golden Section search, locating the values of $d$ and $\\theta$ minimize the maximum absolute value of $(\\phi - \\theta) $, is shown at the end of the notebook, labelled \n",
    "\n",
    "`(i) yeah!!!`\n",
    "\n",
    "where the values are set to $r = 6.5, R = 16, l = 24$."
   ]
  },
  {
   "cell_type": "markdown",
   "metadata": {},
   "source": [
    "Consider the triangle $PQS$ as $x$ decreases from $R$ to $r$. When $x = r$, applying the triangle inequality (twice) gives"
   ]
  },
  {
   "cell_type": "markdown",
   "metadata": {},
   "source": [
    "$$ d + 6.5 \\geq 24, \\qquad \\qquad  6.5 + 24 \\geq d $$"
   ]
  },
  {
   "cell_type": "markdown",
   "metadata": {},
   "source": [
    "Thus the value of $d$ is bounded by $[17.5,30.5]$."
   ]
  },
  {
   "cell_type": "markdown",
   "metadata": {},
   "source": [
    "Note $S\\hat{P}Q = 90 - \\phi$, so which by the cosine rule we have \n",
    "\n",
    "$$\n",
    "\\begin{align}\n",
    "d^{2} & = l^{2} + x^{2} - 2 l x \\cos(\\pi/2 - \\phi)  \\\\\n",
    "\\end{align}\n",
    "$$\n",
    "\n",
    "so with $l$ fixed, this gives $\\phi(x,d)$ as a function of $x$ and $d$."
   ]
  },
  {
   "cell_type": "markdown",
   "metadata": {},
   "source": [
    "### Inner Iteration:\n",
    "\n",
    "\n",
    "\n",
    "which can be rearranged to give $\\phi$ as a function of $x$:\n",
    "\n",
    "$$ \\phi  = \\arcsin \\left( \\frac{l^{2} + x^{2} - d^{2}}{2lx} \\right)  $$\n",
    "\n",
    "\n"
   ]
  },
  {
   "cell_type": "markdown",
   "metadata": {},
   "source": [
    "We now wish to find $ \\Delta \\phi = \\max \\phi(x) - \\min \\phi(x) $ \n",
    "\n",
    "We can do this by using the Golden Search method to find the maximum and minimum values taken by this function in our interval"
   ]
  },
  {
   "cell_type": "code",
   "execution_count": 88,
   "metadata": {
    "collapsed": false
   },
   "outputs": [],
   "source": [
    "l = 24\n",
    "r = 6.5\n",
    "R = 16"
   ]
  },
  {
   "cell_type": "markdown",
   "metadata": {},
   "source": [
    "Define the two functions to minimize/maximize accordingly"
   ]
  },
  {
   "cell_type": "code",
   "execution_count": 208,
   "metadata": {
    "collapsed": false
   },
   "outputs": [
    {
     "data": {
      "text/plain": [
       "[<matplotlib.lines.Line2D at 0x1f92dd58278>]"
      ]
     },
     "execution_count": 208,
     "metadata": {},
     "output_type": "execute_result"
    },
    {
     "data": {
      "image/png": "[encoded data removed]",
      "text/plain": [
       "<matplotlib.figure.Figure at 0x1f92dd124e0>"
      ]
     },
     "metadata": {},
     "output_type": "display_data"
    }
   ],
   "source": [
    "x = np.linspace(6.5,24,100)\n",
    "plt.plot(x,phi_x_max(x,18.64))"
   ]
  },
  {
   "cell_type": "code",
   "execution_count": 206,
   "metadata": {
    "collapsed": false
   },
   "outputs": [
    {
     "data": {
      "text/plain": [
       "0.77315173902744505"
      ]
     },
     "execution_count": 206,
     "metadata": {},
     "output_type": "execute_result"
    }
   ],
   "source": [
    "phi_x_max(24,18.64)"
   ]
  },
  {
   "cell_type": "code",
   "execution_count": 184,
   "metadata": {
    "collapsed": true
   },
   "outputs": [],
   "source": [
    "def phi_x_max(x,d):\n",
    "\n",
    "    arg = (l**2 + x**2 - d**2)/(2*l*x)\n",
    "    return np.arcsin(arg)\n",
    "\n",
    "def phi_x_min(x,d):\n",
    "    arg = (l**2 + x**2 - d**2)/(2*l*x)\n",
    "    return -np.arcsin(arg)"
   ]
  },
  {
   "cell_type": "markdown",
   "metadata": {},
   "source": [
    "So maximimize phi_x_max, minimize the other..."
   ]
  },
  {
   "cell_type": "code",
   "execution_count": 195,
   "metadata": {
    "collapsed": false
   },
   "outputs": [
    {
     "data": {
      "text/plain": [
       "6.5000047022768968"
      ]
     },
     "execution_count": 195,
     "metadata": {},
     "output_type": "execute_result"
    }
   ],
   "source": [
    "q6_phi_golden_search(phi_x_max,6.5,24,d=17.5)"
   ]
  },
  {
   "cell_type": "code",
   "execution_count": 196,
   "metadata": {
    "collapsed": false
   },
   "outputs": [
    {
     "data": {
      "text/plain": [
       "16.424066372815162"
      ]
     },
     "execution_count": 196,
     "metadata": {},
     "output_type": "execute_result"
    }
   ],
   "source": [
    "q6_phi_golden_search(phi_x_min,6.5,24,d=17.5)"
   ]
  },
  {
   "cell_type": "markdown",
   "metadata": {},
   "source": [
    "can call for different values of d"
   ]
  },
  {
   "cell_type": "markdown",
   "metadata": {},
   "source": [
    "Now we implement this function "
   ]
  },
  {
   "cell_type": "code",
   "execution_count": 198,
   "metadata": {
    "collapsed": false
   },
   "outputs": [],
   "source": [
    "def delphi_d_min(dval):\n",
    "    return - np.abs((q6_golden_search(phi_x_max,6.5,24,d=dval) - q6_golden_search(phi_x_min,6.5,24,d=dval)))"
   ]
  },
  {
   "cell_type": "markdown",
   "metadata": {},
   "source": [
    "which returns the negative value of $\\Delta \\phi$, so now we find it's minimum using our function from question 1 with limits specificed by the triangle inequality"
   ]
  },
  {
   "cell_type": "code",
   "execution_count": 199,
   "metadata": {
    "collapsed": false,
    "scrolled": true
   },
   "outputs": [
    {
     "name": "stdout",
     "output_type": "stream",
     "text": [
      "Mode = 18.6468254915618.\n",
      "Accuracy of 1e-05 reached after 30 iterations\n"
     ]
    }
   ],
   "source": [
    "golden_search(delphi_d_min,17.5,30.5)"
   ]
  },
  {
   "cell_type": "markdown",
   "metadata": {},
   "source": [
    "saying basically, pick $d = 18.64$"
   ]
  },
  {
   "cell_type": "code",
   "execution_count": 200,
   "metadata": {
    "collapsed": false
   },
   "outputs": [
    {
     "data": {
      "text/plain": [
       "-8.6178786559711682"
      ]
     },
     "execution_count": 200,
     "metadata": {},
     "output_type": "execute_result"
    }
   ],
   "source": [
    "delphi_d_min(18.64)"
   ]
  },
  {
   "cell_type": "code",
   "execution_count": 154,
   "metadata": {
    "collapsed": false,
    "scrolled": true
   },
   "outputs": [
    {
     "name": "stdout",
     "output_type": "stream",
     "text": [
      "Mode = 23.999995297723103.\n",
      "Accuracy of 1e-05 reached after 30 iterations\n",
      "Mode = 9.591664863243807.\n",
      "Accuracy of 1e-05 reached after 30 iterations\n"
     ]
    },
    {
     "data": {
      "text/plain": [
       "14.408330434479296"
      ]
     },
     "execution_count": 154,
     "metadata": {},
     "output_type": "execute_result"
    }
   ],
   "source": [
    "dthingfunc(22)"
   ]
  },
  {
   "cell_type": "code",
   "execution_count": 178,
   "metadata": {
    "collapsed": false
   },
   "outputs": [],
   "source": [
    "def q6_phi_golden_search(f,a,b,d=20,tol=1e-5):\n",
    "    ''' The mode lies between x and y, \n",
    "    iterate until we have calculated the mode to required tolerance \n",
    "    N records the number of iterations performed'''\n",
    "    \n",
    "\n",
    "    phi = (np.sqrt(5) - 1)/2\n",
    "\n",
    "    y = a + phi * (b - a)\n",
    "    x = b - phi * (b - a)\n",
    "    \n",
    "    top = f(y,d)\n",
    "    bottom = f(x,d)\n",
    "\n",
    "    N = 0\n",
    "    while b - a > tol:\n",
    "        N = N + 1\n",
    "        #give new values of the endpoints a and b\n",
    "        \n",
    "        if bottom > top:\n",
    "            b = y\n",
    "        else:\n",
    "            a = x\n",
    "        #only need to calculate new x or y,\n",
    "        #reuse last point, saving computation time.\n",
    "        if bottom > top:\n",
    "            y = x\n",
    "            x = a + (b - y)\n",
    "        else:\n",
    "            x = y\n",
    "            y = b - (x - a)\n",
    "        \n",
    "        #similarly, only need to evaluate f once, reuse the last evaluation\n",
    "        #thus saving computation time, as explicit evaluation of f could be costly\n",
    "        if bottom > top:\n",
    "            top = bottom\n",
    "            bottom = f(x,d)\n",
    "        else:\n",
    "            bottom = top\n",
    "            top = f(y,d)\n",
    "            \n",
    "    return (a+b)/2\n",
    "        \n",
    "     \n",
    " #     print('Mode = {}.'.format((a+b)/2))\n",
    "#     print('Accuracy of {} reached after {} iterations'.format(tol,N))\n",
    "    \n",
    "\n",
    "             "
   ]
  },
  {
   "cell_type": "code",
   "execution_count": 115,
   "metadata": {
    "collapsed": true
   },
   "outputs": [],
   "source": [
    "def neg_phi_easy(x,d):\n",
    "    arg = (l**2 + x**2 - d**2)/(2*l*x)\n",
    "    return - np.arcsin(arg)"
   ]
  },
  {
   "cell_type": "code",
   "execution_count": 119,
   "metadata": {
    "collapsed": true
   },
   "outputs": [],
   "source": [
    "def phi_easy(x,d):\n",
    "    arg = (l**2 + x**2 - d**2)/(2*l*x)\n",
    "    return np.arcsin(arg)"
   ]
  },
  {
   "cell_type": "code",
   "execution_count": null,
   "metadata": {
    "collapsed": true
   },
   "outputs": [],
   "source": [
    "phi_easy"
   ]
  },
  {
   "cell_type": "code",
   "execution_count": null,
   "metadata": {
    "collapsed": true
   },
   "outputs": [],
   "source": [
    "def del_phi(d):\n",
    "    return phi_easy(x) - neg_phi_easy(x)"
   ]
  },
  {
   "cell_type": "code",
   "execution_count": 125,
   "metadata": {
    "collapsed": false
   },
   "outputs": [],
   "source": [
    "def thing(d):\n",
    "    q6_golden_search(phi_easy(x,d),6.5,24)"
   ]
  },
  {
   "cell_type": "code",
   "execution_count": 126,
   "metadata": {
    "collapsed": false
   },
   "outputs": [
    {
     "ename": "TypeError",
     "evalue": "'numpy.ndarray' object is not callable",
     "output_type": "error",
     "traceback": [
      "\u001b[0;31m---------------------------------------------------------------------------\u001b[0m",
      "\u001b[0;31mTypeError\u001b[0m                                 Traceback (most recent call last)",
      "\u001b[0;32m<ipython-input-126-ea99348cf4e9>\u001b[0m in \u001b[0;36m<module>\u001b[0;34m()\u001b[0m\n\u001b[0;32m----> 1\u001b[0;31m \u001b[0mthing\u001b[0m\u001b[1;33m(\u001b[0m\u001b[1;36m20\u001b[0m\u001b[1;33m)\u001b[0m\u001b[1;33m\u001b[0m\u001b[0m\n\u001b[0m",
      "\u001b[0;32m<ipython-input-125-3adc604d6c02>\u001b[0m in \u001b[0;36mthing\u001b[0;34m(d)\u001b[0m\n\u001b[1;32m      1\u001b[0m \u001b[1;32mdef\u001b[0m \u001b[0mthing\u001b[0m\u001b[1;33m(\u001b[0m\u001b[0md\u001b[0m\u001b[1;33m)\u001b[0m\u001b[1;33m:\u001b[0m\u001b[1;33m\u001b[0m\u001b[0m\n\u001b[0;32m----> 2\u001b[0;31m     \u001b[0mq6_golden_search\u001b[0m\u001b[1;33m(\u001b[0m\u001b[0mphi_easy\u001b[0m\u001b[1;33m(\u001b[0m\u001b[0mx\u001b[0m\u001b[1;33m,\u001b[0m\u001b[0md\u001b[0m\u001b[1;33m)\u001b[0m\u001b[1;33m,\u001b[0m\u001b[1;36m6.5\u001b[0m\u001b[1;33m,\u001b[0m\u001b[1;36m24\u001b[0m\u001b[1;33m)\u001b[0m\u001b[1;33m\u001b[0m\u001b[0m\n\u001b[0m",
      "\u001b[0;32m<ipython-input-120-6c9fc5527cc4>\u001b[0m in \u001b[0;36mq6_golden_search\u001b[0;34m(f, a, b, tol)\u001b[0m\n\u001b[1;32m      9\u001b[0m     \u001b[0mx\u001b[0m \u001b[1;33m=\u001b[0m \u001b[0mb\u001b[0m \u001b[1;33m-\u001b[0m \u001b[0mphi\u001b[0m \u001b[1;33m*\u001b[0m \u001b[1;33m(\u001b[0m\u001b[0mb\u001b[0m \u001b[1;33m-\u001b[0m \u001b[0ma\u001b[0m\u001b[1;33m)\u001b[0m\u001b[1;33m\u001b[0m\u001b[0m\n\u001b[1;32m     10\u001b[0m \u001b[1;33m\u001b[0m\u001b[0m\n\u001b[0;32m---> 11\u001b[0;31m     \u001b[0mtop\u001b[0m \u001b[1;33m=\u001b[0m \u001b[0mf\u001b[0m\u001b[1;33m(\u001b[0m\u001b[0my\u001b[0m\u001b[1;33m,\u001b[0m\u001b[0md\u001b[0m\u001b[1;33m)\u001b[0m\u001b[1;33m\u001b[0m\u001b[0m\n\u001b[0m\u001b[1;32m     12\u001b[0m     \u001b[0mbottom\u001b[0m \u001b[1;33m=\u001b[0m \u001b[0mf\u001b[0m\u001b[1;33m(\u001b[0m\u001b[0mx\u001b[0m\u001b[1;33m,\u001b[0m\u001b[0md\u001b[0m\u001b[1;33m)\u001b[0m\u001b[1;33m\u001b[0m\u001b[0m\n\u001b[1;32m     13\u001b[0m \u001b[1;33m\u001b[0m\u001b[0m\n",
      "\u001b[0;31mTypeError\u001b[0m: 'numpy.ndarray' object is not callable"
     ]
    }
   ],
   "source": [
    "thing(20)"
   ]
  },
  {
   "cell_type": "code",
   "execution_count": 116,
   "metadata": {
    "collapsed": false
   },
   "outputs": [
    {
     "name": "stdout",
     "output_type": "stream",
     "text": [
      "Mode = 6.500004702276897.\n",
      "Accuracy of 1e-05 reached after 30 iterations\n"
     ]
    }
   ],
   "source": [
    "q6_golden_search(neg_phi_easy,6.5,24)"
   ]
  },
  {
   "cell_type": "code",
   "execution_count": 96,
   "metadata": {
    "collapsed": true
   },
   "outputs": [],
   "source": [
    "x = np.linspace(r,R,1000)"
   ]
  },
  {
   "cell_type": "code",
   "execution_count": 101,
   "metadata": {
    "collapsed": false
   },
   "outputs": [
    {
     "data": {
      "text/plain": [
       "[<matplotlib.lines.Line2D at 0x1f92dc46c18>]"
      ]
     },
     "execution_count": 101,
     "metadata": {},
     "output_type": "execute_result"
    },
    {
     "data": {
      "image/png": "[encoded data removed]",
      "text/plain": [
       "<matplotlib.figure.Figure at 0x1f92cabbdd8>"
      ]
     },
     "metadata": {},
     "output_type": "display_data"
    }
   ],
   "source": [
    "d = 30.5\n",
    "plt.plot(x,phi(x,d))"
   ]
  },
  {
   "cell_type": "code",
   "execution_count": null,
   "metadata": {
    "collapsed": true
   },
   "outputs": [],
   "source": []
  },
  {
   "cell_type": "markdown",
   "metadata": {},
   "source": [
    "### Outer Iteration:\n",
    "\n",
    "We now adjust $ d $ to minimize $ \\Delta \\phi $. \n",
    "\n",
    "In choosing $d$ we must have $l - r < d < l + r$ otherwise the stylus would never reach the inner radius $r$"
   ]
  },
  {
   "cell_type": "code",
   "execution_count": 152,
   "metadata": {
    "collapsed": false
   },
   "outputs": [],
   "source": [
    "dvals = np.linspace(l - r,l + r, 1000)"
   ]
  },
  {
   "cell_type": "code",
   "execution_count": 153,
   "metadata": {
    "collapsed": false
   },
   "outputs": [
    {
     "data": {
      "text/plain": [
       "[<matplotlib.lines.Line2D at 0x1a6de45e0b8>]"
      ]
     },
     "execution_count": 153,
     "metadata": {},
     "output_type": "execute_result"
    },
    {
     "data": {
      "image/png": "[encoded data removed]",
      "text/plain": [
       "<matplotlib.figure.Figure at 0x1a6de38fe80>"
      ]
     },
     "metadata": {},
     "output_type": "display_data"
    }
   ],
   "source": [
    "plt.plot(dvals,del_phi(dvals))"
   ]
  },
  {
   "cell_type": "markdown",
   "metadata": {},
   "source": [
    "## Programs"
   ]
  },
  {
   "cell_type": "code",
   "execution_count": 1,
   "metadata": {
    "collapsed": true
   },
   "outputs": [],
   "source": [
    "import numpy as np\n",
    "import pandas as pd\n",
    "import matplotlib.pyplot as plt\n",
    "import sys\n",
    "from pylab import rcParams\n",
    "rcParams['figure.figsize'] = 16, 8\n",
    "%matplotlib inline"
   ]
  },
  {
   "cell_type": "markdown",
   "metadata": {},
   "source": [
    "### The Golden Search Method\n"
   ]
  },
  {
   "cell_type": "markdown",
   "metadata": {},
   "source": [
    "`(i) golden_search(f,a,b,tol=1e-5)`"
   ]
  },
  {
   "cell_type": "code",
   "execution_count": 2,
   "metadata": {
    "collapsed": false
   },
   "outputs": [],
   "source": [
    "def golden_search(f,a,b,tol=1e-5):\n",
    "    ''' The mode lies between x and y, \n",
    "    iterate until we have calculated the mode to required tolerance \n",
    "    N records the number of iterations performed'''\n",
    "\n",
    "    phi = (np.sqrt(5) - 1)/2\n",
    "\n",
    "    y = a + phi * (b - a)\n",
    "    x = b - phi * (b - a)\n",
    "    \n",
    "    top = f(y)\n",
    "    bottom = f(x)\n",
    "\n",
    "    N = 0\n",
    "    while b - a > tol:\n",
    "        N = N + 1\n",
    "        #give new values of the endpoints a and b\n",
    "        \n",
    "        if bottom > top:\n",
    "            b = y\n",
    "        else:\n",
    "            a = x\n",
    "        #only need to calculate new x or y,\n",
    "        #reuse last point, saving computation time.\n",
    "        if bottom > top:\n",
    "            y = x\n",
    "            x = a + (b - y)\n",
    "        else:\n",
    "            x = y\n",
    "            y = b - (x - a)\n",
    "        \n",
    "        #similarly, only need to evaluate f once, reuse the last evaluation\n",
    "        #thus saving computation time, as explicit evaluation of f could be costly\n",
    "        if bottom > top:\n",
    "            top = bottom\n",
    "            bottom = f(x)\n",
    "        else:\n",
    "            bottom = top\n",
    "            top = f(y)\n",
    "        \n",
    "     \n",
    "    print('Mode = {}.'.format((a+b)/2))\n",
    "    print('Accuracy of {} reached after {} iterations'.format(tol,N))\n",
    "             "
   ]
  },
  {
   "cell_type": "markdown",
   "metadata": {},
   "source": [
    "## Optimization of turntable and tone-arm design\n"
   ]
  },
  {
   "cell_type": "markdown",
   "metadata": {},
   "source": [
    "`(i) Yeah!!!! `"
   ]
  },
  {
   "cell_type": "markdown",
   "metadata": {},
   "source": [
    "## References"
   ]
  },
  {
   "cell_type": "markdown",
   "metadata": {},
   "source": [
    "[1] Rolz, C., Mata-Alvarez, J., 1992.<a href='https://link.springer.com/content/pdf/10.1007%2FBF01198762.pdf'> Use of the Golden Section search method to estimate the parameters of the Monod model employing spread-sheets </a>  *World Journal of Microbiology and Biotechnology 8*, pp. 439-445\n",
    "\n",
    "[2] Tsai, C., Kolibal, J., Li, M., 2010. <a href='http://www.sciencedirect.com/science/article/pii/S0955799710000652'> The Golden Section search algorithm for finding a good shape parameter for meshless collocation methods </a> *Engineering Analysis with Boundary Elements 34*(8), pp. 738-746\n",
    "\n"
   ]
  }
 ],
 "metadata": {
  "anaconda-cloud": {},
  "kernelspec": {
   "display_name": "Python [conda root]",
   "language": "python",
   "name": "conda-root-py"
  },
  "language_info": {
   "codemirror_mode": {
    "name": "ipython",
    "version": 3
   },
   "file_extension": ".py",
   "mimetype": "text/x-python",
   "name": "python",
   "nbconvert_exporter": "python",
   "pygments_lexer": "ipython3",
   "version": "3.5.2"
  }
 },
 "nbformat": 4,
 "nbformat_minor": 2
}
